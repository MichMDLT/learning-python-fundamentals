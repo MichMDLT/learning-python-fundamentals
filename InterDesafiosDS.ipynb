{
  "nbformat": 4,
  "nbformat_minor": 0,
  "metadata": {
    "colab": {
      "provenance": [],
      "authorship_tag": "ABX9TyNFR0zCVKKtOTyEn7Cv3GGb",
      "include_colab_link": true
    },
    "kernelspec": {
      "name": "python3",
      "display_name": "Python 3"
    },
    "language_info": {
      "name": "python"
    }
  },
  "cells": [
    {
      "cell_type": "markdown",
      "metadata": {
        "id": "view-in-github",
        "colab_type": "text"
      },
      "source": [
        "<a href=\"https://colab.research.google.com/github/MichMDLT/learning-python-fundamentals/blob/main/InterDesafiosDS.ipynb\" target=\"_parent\"><img src=\"https://colab.research.google.com/assets/colab-badge.svg\" alt=\"Open In Colab\"/></a>"
      ]
    },
    {
      "cell_type": "markdown",
      "source": [
        "#[Página de Alura](https://www.aluracursos.com/)"
      ],
      "metadata": {
        "id": "w7UZIPTwFMQS"
      }
    },
    {
      "cell_type": "markdown",
      "source": [
        "##1 - Imprime la frase \"Escuela de Datos de Alura\"."
      ],
      "metadata": {
        "id": "BrVv30S038ai"
      }
    },
    {
      "cell_type": "code",
      "execution_count": 5,
      "metadata": {
        "colab": {
          "base_uri": "https://localhost:8080/"
        },
        "id": "m2SbmOKq1CrZ",
        "outputId": "df6cb1e2-5086-498b-e184-8de83dffaa6d"
      },
      "outputs": [
        {
          "output_type": "stream",
          "name": "stdout",
          "text": [
            "Escuela de Datos de  Alura\n"
          ]
        }
      ],
      "source": [
        "print(\"Escuela de Datos de  Alura\")"
      ]
    },
    {
      "cell_type": "markdown",
      "source": [
        "## 2 - Imprime tu nombre y tu apellido siguiendo la estructura a continuación:\n",
        "###Nombre: [tu nombre]\n",
        "###Apellido: [tu apellido]"
      ],
      "metadata": {
        "id": "H8N_-ZPm4Ic-"
      }
    },
    {
      "cell_type": "code",
      "source": [
        "nombre = \"Cynthia Michelle\"\n",
        "apellido = \"Mtz\"\n",
        "print(\"Nombre: \"+ nombre +\n",
        "      \" Apellido: \"+ apellido)"
      ],
      "metadata": {
        "colab": {
          "base_uri": "https://localhost:8080/"
        },
        "id": "_6ZDfpNg1Ur9",
        "outputId": "3ab52ce4-46b5-463c-ea2e-3f3c2064f8fe"
      },
      "execution_count": 6,
      "outputs": [
        {
          "output_type": "stream",
          "name": "stdout",
          "text": [
            "Nombre: Cynthia Michelle Apellido: Mtz\n"
          ]
        }
      ]
    },
    {
      "cell_type": "code",
      "source": [
        "#Si ves, hay un salto de línea entre\n",
        " #nombre y apellido,\n",
        " #para lograr un print y se vea como lo requerido,\n",
        " #usa \\n"
      ],
      "metadata": {
        "id": "H9JXyroO4gND"
      },
      "execution_count": 7,
      "outputs": []
    },
    {
      "cell_type": "code",
      "source": [
        "print(\"Nombre: \" + nombre +\"\\nApellido: \" + apellido)"
      ],
      "metadata": {
        "colab": {
          "base_uri": "https://localhost:8080/"
        },
        "id": "AnmFV4iR5CBR",
        "outputId": "71bd0404-d8f8-4443-d9df-4626fb533b85"
      },
      "execution_count": 8,
      "outputs": [
        {
          "output_type": "stream",
          "name": "stdout",
          "text": [
            "Nombre: Cynthia Michelle\n",
            "Apellido: Mtz\n"
          ]
        }
      ]
    },
    {
      "cell_type": "code",
      "source": [
        "#O bien usa el f srting:"
      ],
      "metadata": {
        "id": "uaVwql1v581k"
      },
      "execution_count": 9,
      "outputs": []
    },
    {
      "cell_type": "code",
      "source": [
        "print(f\"Nombre: {nombre} \\nApellido: {apellido}\")"
      ],
      "metadata": {
        "colab": {
          "base_uri": "https://localhost:8080/"
        },
        "id": "1i8dOpkX6mjb",
        "outputId": "5206ac49-eecc-4774-82b2-e3a8933c3871"
      },
      "execution_count": 10,
      "outputs": [
        {
          "output_type": "stream",
          "name": "stdout",
          "text": [
            "Nombre: Cynthia Michelle \n",
            "Apellido: Mtz\n"
          ]
        }
      ]
    },
    {
      "cell_type": "markdown",
      "source": [
        "## 3 - Imprime tu primer nombre letra por letra. Por ejemplo, si mi nombre es Álvaro, la salida sería:\n",
        "Á\n",
        "L\n",
        "V\n",
        "A\n",
        "R\n",
        "O"
      ],
      "metadata": {
        "id": "5i5OaJTI7Or3"
      }
    },
    {
      "cell_type": "code",
      "source": [
        "print('C')\n",
        "print('y')\n",
        "print('n')\n",
        "print('t')\n",
        "print('h')\n",
        "print('i')\n",
        "print('a')"
      ],
      "metadata": {
        "colab": {
          "base_uri": "https://localhost:8080/"
        },
        "id": "sVQKsMT17iyh",
        "outputId": "263f031a-f241-4837-df51-5e3c24dc6cfe"
      },
      "execution_count": 11,
      "outputs": [
        {
          "output_type": "stream",
          "name": "stdout",
          "text": [
            "C\n",
            "y\n",
            "n\n",
            "t\n",
            "h\n",
            "i\n",
            "a\n"
          ]
        }
      ]
    },
    {
      "cell_type": "markdown",
      "source": [
        "## 4 - Imprime tu fecha de nacimiento en formato día mes año. Recuerda que los valores de día y año no deben estar entre comillas. Suponiendo una fecha de cumpleaños el 28 de febrero de 2003, el formato debe ser como el siguiente:\n",
        "\n",
        "28 febrero 2003"
      ],
      "metadata": {
        "id": "lWd6cZzu9DCE"
      }
    },
    {
      "cell_type": "code",
      "source": [
        "day = 18\n",
        "month = \"diciembre\"\n",
        "year = 1993"
      ],
      "metadata": {
        "id": "2YxfsVjF-Dtu"
      },
      "execution_count": 12,
      "outputs": []
    },
    {
      "cell_type": "code",
      "source": [
        "print(f\" {day} {month} {year}\")"
      ],
      "metadata": {
        "colab": {
          "base_uri": "https://localhost:8080/"
        },
        "id": "mw3_jA4e-OlF",
        "outputId": "cae4f90a-3309-4653-e862-d0b72f329bb2"
      },
      "execution_count": 13,
      "outputs": [
        {
          "output_type": "stream",
          "name": "stdout",
          "text": [
            " 18 diciembre 1993\n"
          ]
        }
      ]
    },
    {
      "cell_type": "code",
      "source": [
        "# o bien:"
      ],
      "metadata": {
        "id": "eZWkBzoY_Ngt"
      },
      "execution_count": 14,
      "outputs": []
    },
    {
      "cell_type": "code",
      "source": [
        "print(18, \"diciembre\", 1993)"
      ],
      "metadata": {
        "colab": {
          "base_uri": "https://localhost:8080/"
        },
        "id": "yap_YC4v_PPf",
        "outputId": "8cbc5add-26fd-40ea-d253-b53ca8f8c747"
      },
      "execution_count": 15,
      "outputs": [
        {
          "output_type": "stream",
          "name": "stdout",
          "text": [
            "18 diciembre 1993\n"
          ]
        }
      ]
    },
    {
      "cell_type": "markdown",
      "source": [
        "## 5 - Imprime, en una sola instrucción print, el año actual en el que estás realizando este curso. El valor del año debe ser un dato numérico, y la salida de print debe ser la siguiente:\n",
        "\n",
        "Año actual: [año]"
      ],
      "metadata": {
        "id": "8ppQwuBh9zVO"
      }
    },
    {
      "cell_type": "code",
      "source": [
        "anio = 2025"
      ],
      "metadata": {
        "id": "fruepRL6-ARP"
      },
      "execution_count": 16,
      "outputs": []
    },
    {
      "cell_type": "code",
      "source": [
        "print(f\"Año actual: {anio}\")"
      ],
      "metadata": {
        "colab": {
          "base_uri": "https://localhost:8080/"
        },
        "id": "jiFCQipi-oNq",
        "outputId": "fe025f3e-2b9b-4ab4-8133-a4a1d48cea68"
      },
      "execution_count": 17,
      "outputs": [
        {
          "output_type": "stream",
          "name": "stdout",
          "text": [
            "Año actual: 2025\n"
          ]
        }
      ]
    },
    {
      "cell_type": "code",
      "source": [
        "#O bien:"
      ],
      "metadata": {
        "id": "91LFcfjN_X4f"
      },
      "execution_count": 18,
      "outputs": []
    },
    {
      "cell_type": "code",
      "source": [
        "print(\"Año actual: \", 2025)"
      ],
      "metadata": {
        "colab": {
          "base_uri": "https://localhost:8080/"
        },
        "id": "oEk7X3ZH_aDV",
        "outputId": "210281f3-2e17-4eb5-c3e0-439c14974f2b"
      },
      "execution_count": 19,
      "outputs": [
        {
          "output_type": "stream",
          "name": "stdout",
          "text": [
            "Año actual:  2025\n"
          ]
        }
      ]
    },
    {
      "cell_type": "code",
      "source": [
        "# ~~~~~~~~~~~~~~~~~~~~~~~~~~~~~~~~~~~~~~~~~~~~~~~~~~~~~~~~~~~~~~~~~~~~~~~~~~~~~~~~~"
      ],
      "metadata": {
        "id": "wYY3Oj6NZ-Y1"
      },
      "execution_count": 20,
      "outputs": []
    },
    {
      "cell_type": "markdown",
      "source": [
        "## Exponenciación (**)\n",
        "\n",
        "Podemos elevar un número a una potencia específica utilizando el operador **. Para obtener este resultado, definimos un valor a la izquierda del operador y la potencia deseada del número a la derecha. Por ejemplo, sabemos que 2 elevado a la 3 es igual a 8 (2 * 2 * 2 = 8). Para realizar este cálculo, escribimos:\n"
      ],
      "metadata": {
        "id": "RNOLYRPDZ0si"
      }
    },
    {
      "cell_type": "code",
      "source": [
        "print(2**3)"
      ],
      "metadata": {
        "colab": {
          "base_uri": "https://localhost:8080/"
        },
        "id": "lj_mbfjYaI3z",
        "outputId": "e8a8e022-4587-4d80-b055-82b0ab14d2dd"
      },
      "execution_count": 21,
      "outputs": [
        {
          "output_type": "stream",
          "name": "stdout",
          "text": [
            "8\n"
          ]
        }
      ]
    },
    {
      "cell_type": "code",
      "source": [
        "operador = 2\n",
        "potencia = 3\n",
        "print(operador ** potencia)"
      ],
      "metadata": {
        "colab": {
          "base_uri": "https://localhost:8080/"
        },
        "id": "oL9vlTliaWGu",
        "outputId": "5f2b3d2f-cede-4098-8e93-15a2afd47245"
      },
      "execution_count": 22,
      "outputs": [
        {
          "output_type": "stream",
          "name": "stdout",
          "text": [
            "8\n"
          ]
        }
      ]
    },
    {
      "cell_type": "markdown",
      "source": [
        "## Módulo (%)\n",
        "\n",
        "El operador de módulo % puede devolver el **residuo de una división entera** entre dos números. Recuerda que el residuo de una división es el número que queda cuando la **división no es exacta**.\n",
        "\n",
        "Para calcular el módulo de una división, colocamos el dividendo a la izquierda del operador % y el divisor a la derecha. Por ejemplo, para encontrar el residuo de la división de 7 entre 3, podemos ejecutar los siguientes códigos:\n",
        "\n",
        "![image.png](data:image/png;base64,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)"
      ],
      "metadata": {
        "id": "cxIbzkiXahDH"
      }
    },
    {
      "cell_type": "code",
      "source": [
        "print(7%3)"
      ],
      "metadata": {
        "colab": {
          "base_uri": "https://localhost:8080/"
        },
        "id": "kb3JfUwSanOk",
        "outputId": "4bb98b97-f556-48cd-cad8-fcdd766a958c"
      },
      "execution_count": 3,
      "outputs": [
        {
          "output_type": "stream",
          "name": "stdout",
          "text": [
            "1\n"
          ]
        }
      ]
    },
    {
      "cell_type": "code",
      "source": [
        "#       _2.333...__\n",
        "#    3 / 7\n",
        "#       -6\n",
        "#residuo_______\n",
        "#        1"
      ],
      "metadata": {
        "id": "xqj4nh4gbtHy"
      },
      "execution_count": 4,
      "outputs": []
    },
    {
      "cell_type": "code",
      "source": [
        "#O con variables:"
      ],
      "metadata": {
        "id": "YwSGjXN8b3ja"
      },
      "execution_count": 1,
      "outputs": []
    },
    {
      "cell_type": "code",
      "source": [
        "dividendo = 7\n",
        "divisor = 3\n",
        "dividendo % divisor"
      ],
      "metadata": {
        "colab": {
          "base_uri": "https://localhost:8080/"
        },
        "id": "X21Bi0dxnlvz",
        "outputId": "b808a7f3-064a-4cda-ffd4-b98f0c042742"
      },
      "execution_count": 2,
      "outputs": [
        {
          "output_type": "execute_result",
          "data": {
            "text/plain": [
              "1"
            ]
          },
          "metadata": {},
          "execution_count": 2
        }
      ]
    },
    {
      "cell_type": "markdown",
      "source": [
        "## División entera (//)\n",
        "\n",
        "Esta operación devuelve el resultado de la división entera entre dos números, es decir, solo devuelve la parte entera de una división. Por ejemplo, sabemos que **la división exacta de 7 por 3 (7/3) resulta en el valor 2.333333**.... Si esta fuera una división entera, **el resultado sería simplemente 2**. La sintaxis consiste en colocar el valor del numerador, el operador // y luego el denominador, como se muestra a continuación:\n",
        "\n",
        "![image.png](data:image/png;base64,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)"
      ],
      "metadata": {
        "id": "Hk4QCWIFn6dU"
      }
    },
    {
      "cell_type": "code",
      "source": [
        "7 // 3"
      ],
      "metadata": {
        "colab": {
          "base_uri": "https://localhost:8080/"
        },
        "id": "F-RsKK5_oPwU",
        "outputId": "3d2c33f2-f2d6-4d89-ed73-f8f1a29ebb57"
      },
      "execution_count": 23,
      "outputs": [
        {
          "output_type": "execute_result",
          "data": {
            "text/plain": [
              "2"
            ]
          },
          "metadata": {},
          "execution_count": 23
        }
      ]
    },
    {
      "cell_type": "code",
      "source": [
        "# O bien en código:"
      ],
      "metadata": {
        "id": "n-hRnmlSoagu"
      },
      "execution_count": 24,
      "outputs": []
    },
    {
      "cell_type": "code",
      "source": [
        "numerador = 7\n",
        "denominador = 3\n",
        "numerador // denominador"
      ],
      "metadata": {
        "colab": {
          "base_uri": "https://localhost:8080/"
        },
        "id": "F9g28aLwogfM",
        "outputId": "77a661d4-a934-4bb7-b547-b25fd6f889f1"
      },
      "execution_count": 25,
      "outputs": [
        {
          "output_type": "execute_result",
          "data": {
            "text/plain": [
              "2"
            ]
          },
          "metadata": {},
          "execution_count": 25
        }
      ]
    },
    {
      "cell_type": "code",
      "source": [
        "# EJEMPLOS DE USO % Y // según Luri de Alura:"
      ],
      "metadata": {
        "id": "DyWtpPa9oxr3"
      },
      "execution_count": 26,
      "outputs": []
    },
    {
      "cell_type": "markdown",
      "source": [
        "#* 1.- Uso del módulo %:\n",
        "\n",
        "##Determinar si un número es par o impar: Puedes usar el módulo para verificar si un número es par. Si el residuo de dividir el número entre 2 es 0, entonces es par; de lo contrario, es impar.\n",
        "\n",
        "- - - -\n",
        "numero = 10\n",
        "if numero % 2 == 0:\n",
        "    print(\"Es par\")\n",
        "else:\n",
        "    print(\"Es impar\")\n",
        "\n",
        "\n",
        "- - - - -\n",
        "\n",
        "##Encontrar el residuo de una división: Si necesitas saber cuánto queda después de dividir dos números, puedes usar el módulo. Por ejemplo, si tienes 15 y quieres saber cuánto queda al dividirlo entre 4:\n",
        "- - -\n",
        "residuo = 15 % 4  # Salida: 3\n",
        "- - -\n",
        "\n",
        "#* 2.- Uso de la división entera //:\n",
        "\n",
        "##Calcular cuántas veces cabe un número en otro: Si quieres saber cuántas veces un número cabe en otro sin considerar los decimales, puedes usar la división entera. Por ejemplo, si tienes 20 y quieres saber cuántas veces cabe 3:\n",
        "- - -\n",
        "resultado = 20 // 3  # Salida: 6\n",
        "- - -\n",
        "##Dividir recursos entre grupos: Si tienes un número total de recursos y quieres distribuirlos equitativamente entre un número de grupos, puedes usar la división entera. Por ejemplo, si tienes 50 galletas y 4 niños:\n",
        "- - -\n",
        "galletas_por_nino = 50 // 4  # Salida: 12\n",
        "- - -\n"
      ],
      "metadata": {
        "id": "spLMcoZno_hE"
      }
    },
    {
      "cell_type": "code",
      "source": [
        "# reGRESANDO A LOS INTERMEDIOS:"
      ],
      "metadata": {
        "id": "Ls0j8y40o5Qu"
      },
      "execution_count": 27,
      "outputs": []
    },
    {
      "cell_type": "markdown",
      "source": [
        "## Python es un lenguaje de programación caracterizado por el uso del estándar **Unicode** de caracteres. Este estándar permite que desarrolladores de todo el mundo trabajen con textos y caracteres en diferentes idiomas de manera muy sencilla, sin preocuparse por problemas de compatibilidad.\n",
        "\n",
        "Esto fue posible gracias al desarrollo de la tabla Unicode, una tabla de codificación de caracteres que asocia códigos numéricos con caracteres específicos. Su objetivo era incluir caracteres de todos los idiomas y sistemas de escritura existentes en el mundo. Hasta la versión 15.0, el estándar ya agrupa más de 140,000 caracteres, que incluyen letras, números, símbolos y emojis. Puedes ver las estadísticas de cada versión y la cantidad de caracteres por versión en este enlace.\n",
        "( https://www.unicode.org/versions/stats/ )\n",
        "\n",
        "Además, Unicode surgió como una alternativa a otras tablas de caracteres, como ASCII, que solo admite caracteres del alfabeto inglés y algunos símbolos. Por lo tanto, es muy importante ya que permite la representación de caracteres de diferentes idiomas (como la \"ç\" en portugués, la \"ñ\" en español o la \"П\" en ruso) y scripts de manera consistente e independiente del dispositivo o plataforma, lo que es fundamental para la globalización y la representación precisa de textos en diferentes idiomas."
      ],
      "metadata": {
        "id": "E_h6jbBN5S0s"
      }
    },
    {
      "cell_type": "code",
      "source": [
        "chr(64)"
      ],
      "metadata": {
        "colab": {
          "base_uri": "https://localhost:8080/",
          "height": 36
        },
        "id": "jNF8HWqF5MXE",
        "outputId": "12878099-6e50-4735-904d-b5abd9c0ca5b"
      },
      "execution_count": 31,
      "outputs": [
        {
          "output_type": "execute_result",
          "data": {
            "text/plain": [
              "'@'"
            ],
            "application/vnd.google.colaboratory.intrinsic+json": {
              "type": "string"
            }
          },
          "metadata": {},
          "execution_count": 31
        }
      ]
    },
    {
      "cell_type": "markdown",
      "source": [
        "Se pueden probar y observar varias combinaciones de números en las salidas. Siéntete libre de probar varias combinaciones e incluso crear frases.\n",
        "\n",
        "También es posible concatenar cadenas con el operador \"+\". Sabiendo esto, si unimos varios caracteres, podemos formar una palabra. Por ejemplo, vamos a construir la palabra \"Hola\" ('H' + 'o' + 'l' + 'a'):"
      ],
      "metadata": {
        "id": "QVTX9A9Q50OH"
      }
    },
    {
      "cell_type": "code",
      "source": [
        "chr(72) + chr(111) +  chr(108) + chr(97)"
      ],
      "metadata": {
        "colab": {
          "base_uri": "https://localhost:8080/",
          "height": 36
        },
        "id": "7InEqHXc511Q",
        "outputId": "6cea9524-f3e9-44b3-9daf-260c76a7853b"
      },
      "execution_count": 30,
      "outputs": [
        {
          "output_type": "execute_result",
          "data": {
            "text/plain": [
              "'Hola'"
            ],
            "application/vnd.google.colaboratory.intrinsic+json": {
              "type": "string"
            }
          },
          "metadata": {},
          "execution_count": 30
        }
      ]
    },
    {
      "cell_type": "markdown",
      "source": [
        "# Para saber más: diversos formatos de print()\n",
        "\n",
        "Podemos visualizar el resultado de variables dentro de cadenas de texto, así como imprimir el texto final con un print. Durante la lección, aprendimos a utilizar la f-string (formateo de cadena), en la que colocamos una f antes de crear la cadena y las variables se colocan entre llaves {}. Ejemplo:"
      ],
      "metadata": {
        "id": "TkzAK_5W6mm5"
      }
    },
    {
      "cell_type": "code",
      "source": [
        "nombre = \"Ana María\"\n",
        "edad = 17\n",
        "print(f\"El nombre de la alumna es {nombre} y su edad es {edad} años.\")"
      ],
      "metadata": {
        "colab": {
          "base_uri": "https://localhost:8080/"
        },
        "id": "wa-N7vXM6OrG",
        "outputId": "130c9d39-e574-4c74-ed40-525a0acbf453"
      },
      "execution_count": 32,
      "outputs": [
        {
          "output_type": "stream",
          "name": "stdout",
          "text": [
            "El nombre de la alumna es Ana María y su edad es 17 años.\n"
          ]
        }
      ]
    },
    {
      "cell_type": "markdown",
      "source": [
        "Pero existen **otros métodos** de formateo, como el uso del operador de formateo de cadena o la función **.format()**\n",
        "\n",
        "Operador de Formateo:\n",
        "\n",
        "Este operador de formateo permite la inserción de variables en puntos específicos en la cadena de texto utilizando el operador %. Este operador funciona como un marcador, indicando dónde se expondrá el valor de la variable en la cadena.\n",
        "\n",
        "**El % debe ir acompañado de una palabra clave** para cada tipo de variable que se desee agregar. De acuerdo con la tabla siguiente:\n",
        "![image.png](data:image/png;base64,iVBORw0KGgoAAAANSUhEUgAAAWMAAAGJCAYAAABfHVIFAAAABHNCSVQICAgIfAhkiAAAABl0RVh0U29mdHdhcmUAZ25vbWUtc2NyZWVuc2hvdO8Dvz4AAAAmdEVYdENyZWF0aW9uIFRpbWUAbWnpIDA5IGFiciAyMDI1IDIyOjIwOjQwIr4fOAAAIABJREFUeJzs3VmQHFd66Pd/LpVZ+9pdve/dABorN4DkcF9m0WgZ+VqWHLKvw/aD7fCbHvXmNz3q2Y4b4Xvl0LWv48rW9cxopKGG5BAgQRAb0d3obvS+d1dV177m7ocCSAAEQIAkgB7q/CL6pSur8mSeL788ec7JTCmZTHoIgiAIT5X8tAsgCIIgiGQsCIJwIIhkLAiCcACIZCwIgnAAiGQsCIJwAIhkLAiCcACIZCwIgnAAqPf6p6ZppNNpNE170uURBEH4XjJNk2w2i2ma9/z8nsk4nU7zF3/xF/T39z/WwgmCIPxLsbW1xV//9V+ztbV1z8/v2zLu7+/nyJEjonUsCILwLd1qDT8on94zGd+iaRrhcPi7LZUgCMK/MLVa7WuXEQN4giAIB4BIxoIgCAeASMaCIAgHgEjGgiAIB4BIxoIgCAeASMaCIAgHgEjGgiAIB4BIxoIgCAeASMaCIAgHgEjGgiAIB4BIxoIgCAeASMaCIAgHgEjGgiAIB4BIxoIgCAeASMaCIAgHgEjGgiAIB4BIxoIgCAeASMaCIAgHgEjGgiAIB4BIxoIgCAeASMaCIAgHgEjGgiAIB4D6tAtwB88F16RpuJi2jB7U8CkyivS0C/Z95oHnYrUMLNMGfwifquBTnna5BOFflseQjD3wHBzbwbZd3Jv/ui8JQEZRJSTXxMhvsJ1rsd/UiQ8M0JUIkQoqPN187OG5DrbRoNVs0TQsDAu0UIRgJELQJ32DE4aH57o4toXjerjubR9JEpLiQ1UkFMnDtixc18O9tR9lGUlW8KkKsix9i33j4TkmVjVHZjdHpmgid4zQ1RmjK66jSHzNb3vgWpitFs1mk1bLwJL8yHqYRMyPrsp3XXrdvnyLVquFhYashUnEA+iqgnyQT7yeh+da2I6L43jtsPa4uZMkZFlBVhQURUb62n131087Fo7VotFo0mqZmA4QTBAN+Yn4Hyb+H7UuniYX13FxHQfHdfEk5WY8y0i4eLZJq9mk2WxhWA62EiIcDhENP0xM/u767pOx54BZplIoUyjUaTl8mUTuRZJB8RNN6Gj2Pss//7d8cG2bq/VO+t/61/z0B0d452gCladZCTa2USS/OMXc7DzTi9usZBT6z7zJc2++welulYj2iKXzXByzSTm7Q7lmULe+/EhSNNRYmo6YRsxnkt/LUm2YtOybC/hCaOEY6XSMsK7i+8Y7xsWq58h+9h/4+Ucz/NO8g37o9/npD0/zh6+OElNBfdBvuxY0s+wuzjI3PcXsjRV21SP4R17hT386yUhHkLB0r+VvMDc9w+yNBXYZwT9whj/9o+cYSYcJH+AWueda2NUsxVKdQtXEdm+1MySQVfzhGOFonFhMR1dlHmVT7Po+xZ1Fpj6fYv7GOlsVCU7+CW+dnuDth4n/R62Lp8YF18CsV6lVqpSrLWw1jC+coKsjhN+tYBS2mJuaZnZ2nqWdMvnIy7z6+vP88JWJr4/J32HfeTL27BZ2cYG5CzNcuLxG2QXrgcnYB0qS8ReOMjIUpF7aZz+zy1bZwV9q0DCcBzasnwjXwqoX2Ju7zNTFGT6Zz5GtxbH7TzJqetjfpICugVndYePKb7i2nGEx/2U2VoIJwhNv8OJklCPRIlffO8vSbok9o/25nhqna+wkr70yyYBP/RZdCh64Nk6rSHl/l51tCz1ZpNwwsL0HX9BAuzXn1rbYXrjKpY8/ZXo9RzEepCtwgobltE/C0r2Wv8Kljy8wvZ6hEFLpVI9SNZ1vth+fINdq0tiZ4vq1Ra7cyFKxuFlmCWQZnxbAH4wQiMZJD44zNDrO5ECcqF99wJWTB7hYlR0KK1e4fP4SM8u7ZN0Y4c4qpxoPF/+PWhdPlgeeTW1vhb3VG1y7sU2mWKHWatFs2biyjhKIEo2nGRgIkQw0WDh/luvzqywWZVq9E4yfbGE8REz+Lvvuk7FjYJaWWbj6Ce/9YppKrAO/X0KnSTlfpmnJuFqQeDKGThOvaZCvd5DxBZC6n6Ova5jeER9j5TgjnWEST72LAvBcPNuiWa9SLRUpFUqUDZ2m5eB808J5Nq5ZpZpZYfX6DBduZCnULVwtQrh7glHtGCPdHoNk2V38nGtTq1zPm3ihJF0TCsfDQ9S/dQKTkFQNPdlHd3+Bw9UW6mCSjpiO+jCXg56LazUw6mUqhQL5Qp26zyThuLjePQr2xfJFKoUc+UKNChZhmwOfiAE8x8au58htzHL90nWW9mpUHQ1JD5KMB/BhY5sWNVOn6+grnHrVxR88wVg6TOyBV04urtXErJWoFPfJl0oUZR3VcnHcB3ztjsI9Yl08MTe7wmp7bM2e5+KH7/P/nl1n3wQ5FCSg+1CcJrZhkm8lOfzScY6d6MLez1IsliiUArgpD/PmVcjvQJh8Y4+hmwJwbFxPwpcYYOKn/z2vHZE55Mzxy3/3Cz7PhWn1PcvP/uufMOHM0rp+lv/jfQMZHTU8zORP/ydO/Njmv3AU9EiSaMj/lLsoADlIIDXKyT/47/BH/56k79f8x1mlPRflmxZMCRHoPMxz/+p/INH3K4bf/xV/eyGLOfQyR17/z/hv3j7MkZ4AEWmAP/pvIfzzf8Z3YR3jzJ/z6ounePtEHx2xIIFvdVkvowY7ST3zJ/zR2O/zZstF8seIRoJEVb62H1zyBVHTp3nhLY1EPAz/+z8xpyog3bvG7rX8jAfIPP06fghKIEbs6B/wdqSL/v4Ef/s355ht9aGMneG/+uMTpL0s5cVrnP3tRdZvfMbFmkW0pwtJ8/Ns2nefX5UAlWDvM4y+GudfByD8D5f49ayLTwH5ITt6H7UunhwXq7FP9vLf89t/vsAvzm+ToZex50/xwpmTnBjrJVaZITd7jr/5xRItI0gzepqf/WmUgX/+LdYHK2wqIEmgPOUtedwewwCeC7YJnoIajNM1NMzIqMRIY5+Y34em+HH8HXT1jzKs1jFrc0T9O8ieh2N7SK5Fq1IiX3PQ1Qg+v5/IzV92LAvbtkFVwbbwLAsDHU33EdDvk5U8F5ybMzQcmUBQQ1Xkhxwoal9COoaBZRjYegx/JEIi7ENV1HZ/9z1+x7Wa2KZB3ZRQNT9+v44qtwPqC5KCooUIdw4zOD5BbXeW7qkS24ZHswH+kB9/MITPMglrBpKq4QZ6GT5yhPHxQQY6g8iAazRpGSaGp+PTfeh+5avnCNfBdR1MR0aRQZE8zKYBPh+SKoPnYTVK1At16mEdSfMTC9+2FzwX12xgmC6WK6OHgjdnuShIWoRIIkVXOklEU/HdarpYLZo1Cc/jnsun00mCmopifrlf7tyVbrsl2qxjODKOrBMIPErdffckWUUNpYh3dNHTlSKkqyhOCF+0h57RSQ7FhnE6/LjZZYxrWeayyyxu7HNsKI2TVpE9F7vVxDQtLDWErqkEfO3akvUwgVgnXZ1RomENaN1zENBznbv2iYqqSMiPXBe3/2i7u8pywPEkNPXmsWY5yIEg6m3LO0YT6+vi7TZuK091d45Ln1zh2lyBktTHsdd/xMsvHOPM0UH60nH0YouYuUpXaIl9ScaSIiTTHcSjQbSbx4101zruHZMguRZmpUrdsGhZ7q2KQ1IkfCo4jodz8/+yz49PDxGJtmdtybdyRdPEsMAXCKFpT25m0XefjCUF2Rchnu5naFRhrDtER8hCadzqbpABFQUFPZzC3zvMyIiEF3RwciusbK+wtbLFWkki9VqSF0Yl4jjUanXKpSrVegs54MczGtiNJjXCRGJxkqkEsXiYgKagyYBrYtTr1KtlapUyhapNzVKJJeNEYzGikRDhQHvGwr0CybWaWM0a5WqJSr5EtdKgJquUtnLk6jaWc2cIeraBbTSoVqpUywXKlTKFZnsb46lOOjuiRPw+9DtGHyTAR7Cjm86RcQaj8+TKOXIrS+yWD9OXCqJbDcpbS2RLJmW9nxd7k3SGPJzaPoVSjXKxQLVap+aG8ceixFNxUvEoIU3Gh0mrXqNeqVCrN6k4QQI+F79kUMhXIRhBDWqwv8zGwjwrO1XKAz/ixWc1upM6mmvQqFWplkqUKyXKNYuW7SOcShFPJonHokT1OweqPKuOUdphZ1nB3vWBLRHuSBGLJ4hHIkSC6hdB5wB3XoXfnLXSqlKrVaiUy9TyBWq2iu2LkujsIpWMEosG0OSnOUleAm5eGcntmS+KHibanSbotzg+lmB2I8P0XoVisUq5UKBaqFIr16gWi1TrTVp6kmg8QUciTiIWxH/bEe/e/PviktxzcM069WqNcqlCpZinZqpYaoRYR4xEIkYiEiKgSnfskwfXRZiIHzyzSatWpVopU7VUDDQSukmz1qDWdNHSA6SiGjHNpl6uUblfvOkq+lcupTzs6g7F9Sk+u7LByn4U/9BJfvDDd3j9WC+HE+1tdrwUkb4xJiY2iXR2kAr78MlS+yL7jt9zwTFo1O8XkxFCqoexscDOfpnd6s0Rb1XHp/uJR8BotKhVDVwPfNEeYukBJkejaJ6BWa1Qq5YplBpUm+CPd5HoSJBKRogEVNRvNXPp633nyVjWouijP+btjjc4bUgEEklCzhbl3D1WnpykJ9nH/zhSZW/2YxbO/6/8m2u77OYtlPggxw69y0CwRmpzlk8/Ps/FG3ss5ZroQQ3HtDFbFg4K/vQkvZMv8ZPff5VTQ0n6AzY0d9i4/AmXzp7n7OwumZpJS9JRw/0ceu4VTr/8Mq+eSNMZ0e45G8HcX2V79hP+8b2zzKwX2K54OJKKbFZwWk0q9cgdmcSubJNdvsKH733A5cU9lvZbOK6EFBmkY/RZfvhHP+HMoW4mkl+9XFXDXcR6DnG4189WJcPmzg2WM28wlA4Qc0tsL2+RawRwO8cYSAaJGmvszZ7nF784x/R6ge2ag+MpyLFhOsaf4/f+1U94YVCn295m8bNzXLg4w5WlHMXQKB1qlZi9x1LOwA6n0MIR1L0NarUKDT1J6KXnGBofxHENvOoqC2ff56MPP+biRp1S08XFh+JPc+iVH/PSO+/yzkSIxG3bYmen2S2s8b9Na6gyIPlQAmnGnn+L06+9yTsnU3TcN3pc7FaB/Nxv+eTjzzh78QZbFYemDXIgSXTsdV57+xXefvUoAwHwH5y5Wm2ei2tb1OtNDNNDkf2EQz6c7AwLq1f4/z6YYyVboWp5uLJCqP85hk+9zp/89DQTPRGi9/lZ16xjb53nsw8/5v2z11guOdRt8NQIasdRXnznLd56+0VOJlVCt33vgXXxyqu8MwmtjSnmPrvAuUs32LLiWMEkw9Im+VKVXTOKf/xHvPNshOfSOT75h3PMbdwn3kY7GY3ecVoGbJr5bXKrs6xWm1RiR+kZP8V4X4SO8JeVJ4cGSU+m+C//4hUsNYSqSyQa6ldPto4B9VUWzt0nJl9+lePHR0jN/Ecuz61zfrMJgBLsIprs4tgIlHYzbKxkqLsQHHmV8efeIBmKYq59ztTH5zk7nyNXNbE8FVnvYvyltzj91pu8czRFR8j3SDNkHtV33zKWVWR/krgf4rf+V5Mo32NRSQ2iBwP0RlJo9U3qO0k6Z1fYNZqUqk2apkWr1qRW3mJjZYmV5QxrZYVQ7yGGB3sYT/ogM8Pq/g1mL5r44h34vHEi/Q7Fz/+Z82ev8vF0hkp8mP6hIB1+i/21DfKz5/igWsWW3+GFQ90cSulfFso1oZVl/fpFzv/mLJ/OlbETAww920taKpBfX2R9tYp0q93iWtDKsTl7gcsf/ZaPPt+nEeqi71gnXe4Wm1v77Mx+xrmuYcK6j55YN0GZOy61JV+UQLyP8fFupvY2WSpvsria4UinS7eeYXW1RI0O4kP9pPUmlZVp5j86y2ezZezOfkYPpQhkplneXWXlusTnJ5+jOxQjoZXJ7ayzurLCjRt7VP1FskGVmN+h2XLxBRV0X4hEGOqVFsVyHanpYtk2Zr1IYfosVy9e4cJiGWPgOYYDdWL1La5OL7F4fRhf3zGe7Ru6Yzqa60rISpj40GH6ozZ+M8fczAorl/0Yjp906jWOx+49KuXU9yhsTfHRe7/l/I0iK0Yng0f7CZl7GPkd5ubOczUZJdzdQ/xQFC2gHIi5s57r4lg1yjub7C1d4tJ8kc1KEC2UYjBSoLy5wNmZKT7PhEn1HObZLpnC7CU2t+aYdRPMPjtJIhYieq+j0WnQKmZYOv9bLl5aZi6n03XyCAPGHtbeOldWPme2b4D0oWOMRqIEbvvqA+vCkkiHx1B29theX2FhaZWtpg87EKMccttXKD4N1W2SWdlien6Oz+bKcL94S0QZigZv67Jo32/QLJcp7uWoGDYkIkQ7u4gHNQK3XSFKio4vqJMOJtv/sCpg3N1CcrAaRXZnHhCTs7240R5+b2SSvnKZnvUN5vI60cPHSR8/zfEJl5LvAl5mm2v2KAP9vRwZ9CjPfsT1K9f5dCZLJT5Kf79CUq6ydn2F7ZkrWFoHg51nUH0+Utp3GTl3OgB34Ekg+Qj3jDF08gwvba1Sqe4z3VIAD0lSkGUdVZXbfWNaiEDfaZ55/XnePh6CeY1f/+YS/3TtGpfOTzDUqTDshxvn3ufClTwzrSFe+vFPefuZHo4F8iy//x/4h3OLXDibwUyPEY2GGU3pXwwOeI6BW1pg6foVzl1YZDXwPC888y4/efcUh+Ul5t7/Je8Xc2SNLzrRcMorrExd5OzZa8xxilNn3uZHbx3jsHmZT//pfX51donrV2YZHejiucluNA3uGFxXAmjhTgYnhkkvZPGyWVaXttjuajCU2GZ528DqjtM70ktCM8nl9lhf26ekHeHEmdd589Uhwldb/OMHM+ysrrGymSc75MftkpE0DVlRwHFwqiXs+AjqwDCTQYj1jBJPphiomly4ZJBdkVCRkT2wjQaF9WV295tUAuOcevs/55WODJ07H1FYOcvifoaVlV2Kr/TSHbytNvUOQr2nOPPD3+f0oEWsPM2vyv8PF1bmmf1MY/j54yRHHbq/EgcuZmGd7Px5Pjg7zbJ8mNipt3nnZ88w0LzG/ufvsfv3N9hcGObS8DOcGQgQPwjJ2G5i1TLsrs5jGcvkZj7j/IpBXh6ke2iCyXSL0l6B1T0Hr/c0z759lHePuCz83TrvXS5yfXOZ1VydI4Muo/dqGrsGZqPA5vIGmaoftf8Ur/3sxwzWLlO6UGZ1e5NCZpfl7SqNsRDu7Sf5B9YFDB9PMWBLyJoPGQmv1cCWNKzBo/QlQnTHw4RHuwjvbrO/sU/tQfE20Y8zFPyyPjzAc9rdAuU6luOi6jrBcIiAKj/6XGHPxTYaFDceEJP5Itv7kPjhuyR1A7KrbNdU4n0TjL34Ji9NWpTkAuRyZLS3eO70OK8fajL7t59w9fMic8YQL//4p7xxPMwoK5xrrHF2ZYX5S1PcePkY6WSE1KPeT/AIDkAybtOiaVIDR5gc7OLacp3pjASyQqBnkP6xIO/W1ijVTLZXdLomjjIyPs7ksA8ir7G7WWBt8RIzmWUyGzrLMR/X5gvsNjsJDTzP6VOHmRzvoJsYwRdPsrhZ5PrGPhtzq2wc6qM8mSJ2c0TfNVvUdxbY28uwbYUInDjNxORRnh3rIub6aA5Oc6h7iquldqelY7WoFxbY2Mmy3AjhP/Uyh4+f4PShbmLNJru91xkJ3GB7f51CsUDWgJQP7jzByqh6iNTIYfrS66TtVbIrK2x07NLbU2CpFiIaS3N4pJNQFLTDz3PGCRGojzJyZJDDSZd6NIimyUiORaPWwnTDBDuTnH6jST1fIr+a4Zo5wvjzP+GtP3yL0x0KsYAfya7hre6QXd9iaqXaHr2XVbRQhN5Tb/FysEy6EubwyR563CaNQgi/T0a2LaxGi5bt3jGPXI6miQwe5eSRQQ4N+PCXVd564QKF5hpn97dY2S6yn+SuZOwCBrXsBnsL8+zUPfSj4xx96WVODHeQNkoEKyN0h5aolkvkNjOUjF4Mz/8tbnj5jlSWKEzv8reb/4jqGbiORys4zOEX3uAHr77IS0ckasEwPclxcl1nODIaoVPfJhNU0VUbx6xRN0wM+z5z2NQQ/uQwk6/8GA4FKGgjPD/Ygb4TpBXU8ckuLcOkXjdwXZfbr6MfXBd7rOz7OXL0KC902GQW1mlZUQodp3j1j/+EHxzu4UhcRdY16htRMmN9RB8Ub4Z97/Lfa5P4Bv39koov1EHfqbd4OfSAmGxatEjQ0z/M+PEhogvLlDM7LM2uUeiw2Nors1bQSf9glP6YjL6/yo3FIrtGF+GhF3n5+SOcGPETq3ocHUlzY6/IRmmLnUKNUtOG6P1mxXx7ByYZy6oPVQ8S9LdHNtskZC2AHomTiAYI6iqyrKIFgwQCAYJ+DZLdJONROv0Ocq1Io5SlUNTJlk1qrh81nCIVCxEN+tHcINFkgmjYj98zyOTzVCs1mg5EJEBycV2DViVPtVGnLqlEkyki8Qgxv4bmBfH7dYK6cnPKUXsOZbOcpVKrUmo0YOsy1z7cw1kOololduaWWa65tBQDy7K+mC95JwlJ9aOnx+jp7WI0doP93HWWZxTIe+zJXfSkuhjpCODXXJRAkEhARtqeZubcNa7TxMosMrdTxSKE7bi4noyiBfHHY0TCAQJ6uw8s1T3AxMgAgzGZkCrhNiSa+378mnLb1CEJSVXRI1ECahZ3f4NLv1zGMfPUchusVlpUgw66beG47cH4L7ZE0VD8IUJBnWAgiG4n6OxOEQ1v4u3VKZUb1Jo+nDu6Fz3wLJq1GsV8kaZl0NqeZenc3/F3SzohO0s5s8JGuUktYRE2TOxbt4c/7WSsJwl0jvPMC6N0x/2ENR012k3fyDgjw32kIw2UcICwWmdt8QM+vWHzqVmkeCPHRtkE1cGxPdz73aYqySg+lUgkjL67S2ljnV9tyTilNYpbOYpNC89t315893TiB9dFk1LVwZbChOMxwn4FLRhFT/QzMjTIyGAXfWEJsChVIjS/Lt7cu04mEoCC5tcIRPzIioRlGjQbdQzbxfEe9U46CVlR0b42Jm0cTyXU0U/v+FHGkuvMlrfZvn6VhbTLVqZGzktzaKCTdKSEkyuRr5jUKlnqu1c5/w9lVmMKvlaB/dksa3kbTzMwbBv77m38jh2YZPyNSBLIGj5Vxa94yI6FYxmYltSucBRUVUWRJWQJJKmdZBRFQcHDMQ1sy+bLRkm7n8u2TSynfUOHpCoostyeWvOV48XD82wcs4llW5hmE3tnmoXqMpl535dn/9QoPeFuuuIhgsq984ekaCixAXp6u5jolZm6vszGkkupFKMef4ZYZ5q+iITPbVCt5NnfXmPj+hyLuRZFwyPqa1EqG7h3DOHc+nFAVcAXJRQKkvQrKHcMu9/9hfZNCM1Slv2tG6zMzHNj38RQJDzJptKyaQU8HM/Fw/tiMv5XJ+VLSLKCovlRVBXJczAtG8tRcJS7lvVcLMumZZh4nkUts8xaI08poOC7VdZkN+neHno7QgQPynMsQn3Ext7gx3/2Ls8OJ+i4reHkOSZufZ9qMcP2xgLz17fYrXm0XPDbVQpNGSLcNXXiLq6J0zIo57PsLk8zN7vBdkNGlUxUt0Hdcu7oJ4ZHrQuvPQ4tA5ofNRQlEdQI+uT2ow2cBq1Hjbeb60NS8EcjRDuTBHw5CvUqlf0speYoLSfw5cwi18I2m1QKJVr4QZVIOu5d5XdxrCb1h4xJPdZDx8AkR3vPsbuYYW3hMleiUChHqYXHGeqN0hGpYO+YGLaH3czT2Gtx9eN1Appy80ShQ6ST4XQ3nRGdgPp4O8V+t5Ox54BVo9k0KDdknJvPbAhHNSJ+Bb1m4RktDNttP0fAdXGMFqZlYXoKWjiGPxhAV/li2p0ka+iBMAFNw2c3aRTrNOtGuwX4lQLISNKXywcDcbyjP+NHbz/DT88MEJLbN054roRtq0STceKh+8wCkBRQY3T09DA20U1oaYvtcgtLjZE6OkJHZycpuYlanmXu0ll+8avPmLKHGD/9Ij99YZjxxjl++8FV3ps2Hv0S8O5kYNdo5ktM/fqXfHQ5w1Q9zeEf/pQXxlS6zGX+8W9+zox159etm3/uXT/s2Cb1Uolmw8CTI4SCfnTtrjFpqf1sB03zEQr4kGWVjiNvcPLNP+Rnp+J0hVWUW3Nh1TBKIEFvIkDgICTjB3CNKvXVc1z6+CP+/uwm5Z6XOPPGCV6ZCCBd+b947+IOF0q3feHWXK7bd2Jjl8r6Mr/55Xtc2FLIx57njT9+nWOhTZStT/m3fzfF7T/xqHUR1JT7JwGnCcVvGm/tm1lCyR66hw8xGF6nXNilsnydpcxxupIRYrdmX5j7VNam+Kd//5+Yk48hTbzEnz9rYt5RlhrN/CrLv/4lH135+phEjxFIDXHiSDfzuWWmF6b48APw97/K4LOH6Iv7iQU1yv4wuk/GFxkmOfwif/bnb3J8IEHXzTF9x/TwJI1QT5pY6PGmyyc0/uHy5YxBF7BxuHdjwMHBw73P6d3DsQ0q+3nKlSrlZoPS5iJbuxnWDQ0pPUSyd5zB7iEOD0fp0MoYuRVWt8vslxvYrQq51TUyuSp1LUr3aB/d6RgR+dbdZhKyqhPqGCCVSJKSm5jr11lfWuH6xj77e1tkc/vslppYTrtgsqoR6mwv36GaePktCvkSey3wlPY8y/3Va1yZXmJxp0jNvnvu5C0SSDrhjh66R0fpDqkE0EFJ0T/cRbozjIaD28pTzufYzVQpW35Uf4BESMKsVmg2G5ieg23VqdUalMomtuPdunflPveTtj90PQ8bcDxwHROrWWZ/N8N+vkHN1gnFwvgVE7e6T920MOz2FUGlWKZWb2C6Dq7n4Ro1WqUcmVKTXHaL3PoMl2d22NhX8AV7GeqJkYyq7RPpF9fVEqATTqRI9/US86k4pRL723sUWh6m6+AZRXJL11iYXWRmtUjVsHGe2r2xN7OmS/spWO7NbbmrPJ5jY5b2yOdz7JabtHwR9IBGSDGoVhpjodRuAAAgAElEQVQ0Giaea2M2i1RrNYoNB+eu7grXqmNUs2R28+xXHEw5RDyq4/MM6qUShuNgOQZms0ax1KLesPA8B+8h6yIV07nZQ/eV+PBcB+eR4s1qx9sXJNRYH6mRZ3j1uSEmki1aO1N88ttP+fTyAkt7FcotB8Oo0qzssL68zOrmHjvlFi3b5o62sWNiP0pMNj0IdtA3eZSB7gQJp0mtJOGLpOifGKAjrBEKRAnEuxjq8pPUq1jVXbZzNcpNByQXr7rB9socU9M32Cg0qZqPN+Aea6pvV2aFWiHHXrZAxbAxnVb7CWjZPXIdfuJSiIgugVmjUc6RLdepGiaeY9AoFqhUuqmE3JsHnotjtiiu32B10c+0GsC5foX57SJZLU3nxBEGR44w1GshnRxlp7LG/u4SC9fn6JTyuKEcK1dX2ClJ+HpGOHpshJGe+B1Ps5JVHX96nL6BOcY71ijmplmZCfFR2OBEaJv1xXUWc01aVotmOU8xV6DaPUiie5CJ9Arl7assXgFXqnKiw8HNLrG3mWHOPM6Lvji9h4aI+rjHwFP7RgI90U1ycILhxFX2SiEq4T7GhpN0Jf0oNLA96cvHDboGjfwGWwtZGvMbrGermI6OUdhgeyPNbNRiLLhPqdKgYbq4Xp16ucj+folUOoKsmLj1IvlCkXKzheHaOLUClUqCYtTGkRRkRUZyWtRzK6wW9vC2b7BXM2gqNeTiNis3FggUyij7+1QNG6NRwM4sMjc3BFtZlO2LnJspsNfqpmP8MEd6fITJs79fpG45WFYTuVZiP9+gK9RJx/hRxrpzVHfXWT3/Hme1fbaTEuFWlrWZefbDJwkfTTA5kSQe1nh8wylfiWY8x8JuFClkd9ncy1MzbByrjlXNsrexTSasoHVECd3+SFVJRlEkfKqLa5Yobi2wUCmzsppnr2zgSg3K2/Osr/lIGj7CuSrVponj2ljVPOWSn/2AjScryJKD3SpRWJ/BqCySXchSMSzMRoHK3hLzSz680DbOzj4182vqYuIIk/0hYkqFUr5EpelgGiZ2o0Ihl6fUESAaAuVh422zh/nOCCcmEkQDXz4YSQ6miQ6c4OXXlikal8heybBw4SPUVgmnPslof4qovUZ5bYu9BlhBj6hcp5LPU6nWaTkuTqtMtVQiV5BoeTKe/KCY3GHlxgodIR+BviixseMM9K8xFNqkYXTQ2d3LxHgXMb+KrsUIJQc4cqSPteIiu3tTXPo4jpnrYz8t4WTnWNiwyLn9vDIwSSIepTd43wD51pRAIPC/3P3PRCLBu+++S1dXF5r2zSfWOc0y5bnf8PEHH/Cf3rvIlbU8+XoDq1milM1SbKoYgTS9MQlj6zKLn/wD/+nDaabXS5QaJrVyHSkQQo1ECOWnWFjeZWY1T7O4wdb8ZS5+fI6PryywbqSJH36F3/v9VzhzpI+BWIhUOoWGhZNfZeHzz7j8yYd8cO4Sny6bWL3Pceqt3+MPf3CIw93hO+Y8IimgRdBVh4hWJ7uzxu7mDa5fu8SlS59zbWGbrVKLptWgktlmd32XSucLdHXFON7jUM5skNtdZ3l+lvmpKWY3WxR8I5x48y1efmaMyXT77rH7XWFLkoRjWVRWrrHrxKl3nODdt55hoidCzNd+VkG9kKGSW2cts8vu5jLLK2ustzRqdRulVqK2v8FuvsziboHSjfNcnVlkeqtEvVGh2WhRrLuEunvRmps0Fn/Lz3/1EZ9e32G71KJZLeKqYRx/J/3qLuVSgbX1LXY3FlneKLCR9wi4FVyjTGl/i/W1deYvXmXm4jTzuQoVo45R22Fr7jKfX7zEpevbbDSipE+9xotv/oDXu3fJTH/Ce7++wJW1AvlqA7NWJl9X0BJpesfHGdCrWJV9NleW2Fq7wfzMNNeXd9nzTTDy7Iu8+doJDnUGCPrkJzh+52LXM+Qv/p/84ue/5t/9cprl/Ro1o0qzuMni1BJ5J4DSO0JXUL55N5qDLBsUMxny66tkMttsry6zvLpDVfXRMB2MUp7C9hLZ7Aar2+vMXL7C7EqWbMWgUc5jOCoNOUHc3qFay7O+tcbW8g1WcjUydgBqNazKPoW9FZYze1y/cJHpc5e5nq1QfkBdvPTOG7w14VJf+IxP3nufj+b32CnXaDUqFEsGBCLEuruJ6WAWHyLeihY7RpThsU6iIR39i2tuGVkNEEgP05GK0xe2aGUX2Vqa4uKF83z60W/48MNPOHd1nXWrg87+TobjDXYun+fKzBpLuRpGrUzTgFJLpStcpVYrs71xv5jcY32zBqEUHSNDpMIaTm6DenabFfUIh194gddePERvUEZTfKi+APGOEFgNGpk1Njc3WFu4zuzMPFMrVaz0cSZ+8BZvPtPPUEJD/4YDFaZpkslk+M1vfkOxWLznMo+1ZSzJCmooQaJnlLGjYWL9BqYDiqoTiHbQ3RUjGVRQZAX0KJH0CKPP+AmNGLQ8DTnUxVBvgqh+60yr4AvESRx7geHOCH0hBfwhop2DdA+Oc/xwN70xPz6fhq/rCIdf9KEnhhjfzpOrmjRdjUA0RXponKGxMcbTYaKafHehQQ2TGDjOsdf8OB3H2drNk6+0aBLApzionkmtaeO4PgKJXoZ7OunvTNAzEMIJj3Nit0C2ZmJLAQKxNKmeIcaPjzHSFfnau8YkNUwwOcLxV3+CcyhALnCIo11hEpoEsg8p2MPAyTd4S0uTXt8nV7UxZT/x3h4CRgmvmCPblFE7B4h3dtLZkAlGuomPGLio+OO9dHYnifkVdNWPHOuhe+JFno/WGG1JoIZJj/cz0DfA2OAfEOo7Rf8zWfJ1ByeYJBiN0SNlKJWb7NdllFgSzagh1QuMOIAWQvP7CXhNDFfGUkJE42n6xo4wMtJHny5jdY0yelTC12vQchRUf5xIf5rOVAexdJzUSz9BSR5i8OQu+bqBpej4Igli3eNMHBrjUG+IkPakH5YuISt+9PggfWMuz3rD2O7Nftmbj4Ed7U+R8MtfDI5KagCtc5Kjr0goiQlOZkqUDRVPC9PTF8WplKjvl6gQINoRIxbTaCUDdA+3OGpIoIVJDUzQ19/P0Ficob0Mp3bLVEyZQDJFJBZGz29SrptU8BPt68VXKeDkeuh1wHtAXYyOD9KbbJBJ9dIz/iwvhiaomRKSL0w43UdPLIjf50NRHzLeug7Te6iXztDdd7RKSIqGFummZ+I59FCCSP8xtrMF9st16i3Ap6MFI4TjaXrTQZIBi6xmo8dG6DvmgKQT7Bwi3dfPoe5eusczHHruPjHZ0FFSYxyb6CUd8KHpnfROnuZlO4hSG2X8xCjDYQVNof3oBj1KdOBZTrweJJA+yuROiVILbMVPKJqka+QwQ+MjDMT9BB/zK4ekZDL5lY6Q0dFR/uqv/oqTJ08SDofv9b2H4jnmgx/GHUsSiSdIhVRo5qkV98mWbUzH+3KZeAK/0sS+9G/4v381xS8XdCb/7H/mneMD/KBHh0iKaFgn6r/fg4IcMOtU6g51SyEWD6FrykO+maN9S2erXKRWrlImhq5a6F6DfKmF5UgoeoBQVy+JkE7U1x5kalXL1GsNDDVGOBwkGnq0i2nPNrHLWcqmRkuOkE7qaL47U4/nWNjVPMW6S83RSaZj+O0qTrVMpq4QiAYIhRTq2Sy12x9ML/vxBSKkulNE5CZSq8hOrk7TcL7og9XCCULxFOmYjuY1MOtVsgUDAjEC0QgxylTLTco1Fz0ewmnVMKoVWg6owQSBUHuZhuujKYfoSobaU+c8G4wyxVsvHriVzGQV9CiJVIxUIowug2y3sJt1yqU6thZEDceI3Xw+wNNy33i++YKEUDJJLJkgpt09bcu5OR89Q8XUMNUIXUkdmhWalXZcBX0WAblBodiiZbpf1IUSTBCIpuhN6qhWjVaterN+w8QiGko1S7nmUHN8JFM6Zr1GtfgQdSG1H/Jeyecp7hepW+3xAiQFlBDRVIJEKkro5tP7vjbeYjHiqWi77h5iXzqtCkatQr4Kkj/U3p6AiurUMetlspkKdcPmi27a21+oILXwmveJyQboHWkiIY3wzcPOaRQx6lXyVvt4TNxnrrBrWxjlPFVTxpD9pB4pVzxYrVZjamqKv/zLv2RlZeWeyzzmlrEPNZImEXSJ3us1NYqCrNw8wAJxolqYQIfXHtf5YhkJp9Ykf+u7SCDrhONJ0r1hUNpT1x5QCNBChBQIeKCo8p1PT3vwFgAqWjhBPBAjgoIkeci4RJIuHhJIEopPu9kaujkrIBxHDUbxaPe5PvJ+U3yosTRxT8ZFxnePKTWSrKJGUiSCEENCVRUkXxT0IH1JCVmRkWWJQG+A5O2vbJJkJFlG9anIhJA0P71Bpz3+5N1af7te2vO9g/giOumAB3J7exRiRLUIoSRIqoznRvA607i0r4ZkWUEhQNCTcKV2+SWJ9oGux4h2hgkmb3sll9SeBqWoCuqtg1nRUIIqMT2CJ8lIivLgen4CHhzPMrKqotzz0aPtS/VQsg+/J+FJCj5VAjWBHmzHlXwzrgIx9866kBUkRUVT5fZjVzU/fTHp5uudJKRYmkQEYp6Eqkp4wQixxEPUBTLIOqFEGn8k1U7EX2xLuy4U9cvb9r8+3trTJR822mUthD/upyvCl3ElSyDdjDd/Ctfzvhzjvf1VY1IQ1PvEpAuS6rtj6qbsj+LXQnR57Wmq9y2ToqLHUvg8cJFRHylXfHuPd66G1L5E8Sl8/UCLoqIo6m03ELVH+RuZJfYWPuPC5yss7ZZoNXV2pj7mqt8i4k1yfCRBNPCgX791oPMNH/IhISs+ZOXOnaXed5Xtyenyt3miiNR+6PsDK+fme/LufLyfAoqCfvt/7vdo0VvLywr6A1ckIykyd85GU9uP4nxgpSr32N/tk5WiqV9fF1J7vepBeg3To8TznV9EkiQUn37ndivyV+Lqgfv05rvi7qgv9a5BTOVesXmvuoD2uyc1lIfJAg8Zbw9Lktvbot29bulWvH3NMX2/mHzQur62UBKy6ntqt9g/9Vv7H8ylVdwmtzLD9a0mVQIk4368zDwbi0tMrRapGg6P974YQRCEx+8A3/TR7iIIdIzS/8yPeTf9Ki+2HBxPQpJV/Ml+kj1pkgHf9/YFhYIg/MtxgJMxgIQW7iAx6OdIZ/v16LfIWhBfIIz/iU5vEgRBeDwOeDIGxR8m6A8TTHz9soIgCL+rDnifsSAIwr8MIhkLgiAcACIZC4IgHAAiGQuCIBwAIhkLgiAcACIZC4IgHAAiGQuCIBwAIhkLgiAcACIZC4IgHAAiGQuCIBwAIhkLgiAcACIZC4IgHAAiGQuCIBwAIhkLgiAcACIZC4IgHAAiGQuCIBwAIhkLgiAcACIZC4IgHAAiGQuCIBwAIhkLgiAcACIZC4IgHAAiGQuCIBwAIhkLgiAcAOqDPpQkCVkW+VoQBOHbkCTpa5d5YDJWFAVN076zAgmCIPxLpCjK1y4jWsaCIAiP2cO0jEWmFQRBOABEMhYEQTgARDIWBEE4AEQyFgRBOABEMhYEQTgARDIWBEE4AEQyFgRBOABEMhYEQTgARDIWBEE4AEQyFgRBOABEMhYEQTgARDIWBEE4AEQyFgRBOABEMhYEQTgARDIWBEE4AEQyFgRBOABEMhYEQTgARDIWBEE4AEQyFgRBOABEMhYEQTgARDIWBEE4AB74dmhBEL6qXq9Tq1VpNps4joPneU9kvZIkoSgKgUCAcDhCKBR6IusVngyRjAXhEc3NXefDDz9g5voM5XIJy7KeyHp9Ph+xWJzjx47z5ptv8cILZ57IeoUn43uXjG2jjlGvUCxUMH1R1GiK7ogPTZWedtEe2fdpW74P6vU6c3PX+eCD9zl77iN2dra/aB0/CbdaxYVC/ovW+OTkMdFC/p54IsnYcy0c06BRr9M0LEzbxZNVZFlGVVV8epCAX8Ovq9+iE9sD16JR3COzvsz8jU2aiUPExkPEAwqaqnyHW/S4fZ+25fujVqvy4YcfcPbcRyws3Hji63cch1qt9sW6JUliYGBQJOPviSeSjN1GnvLOEpc/vcT1pW3W9xvYwRShUIhksoPusec5MTnEkZEEfvkbjiq6FrQy7Mx/xqcffsQHl7eQjv2EyeBhTvUHifq/6616jL5P2/I90mw2mbk+w87O9tMuCjs728xcn6HZbD7togjfkceajF2rgZGbZ276BtPzO+QIo/ce49lxDTUQxmdlMasFFqbm0P06HX0JujXQvkk2lmRQwyR6+hgeH6Zneo2CbdC0XNwnNMDynXnM2+IaVRobV1kqBcnJ/Tw7mSIe9D3WYDCyC+R3N5muDdHbn+bwUBQf8LvU4eI4DuVy6b4JUIn0EOsa4fjkIOmQh9rYZ2dhmpXdIlvl77ZfudlsUi6XnlgXifD4Pb7jzzWxqhl2pt/nk4/WOL8eYOxHf8RrL0xyZqyDsAZO5iLr1z9jem6H/ewQZRM6fd9wfZIKWoKu0Ul8ssXuxc+ZDysoyu/WAQ885m3xsJtlSnO/4dJGN3OaxuBgjGjwm+74h+HS2J1j49LH/Cr/Nmde9jM6FEXld6tuPM/Dsqx7JEAJUAilRxl45nVee2mEvoiEVN1lN1pDvmSTLRewgO+qWeA4DpZlPbGZHMLj9/iScWOPysZVfvPLj5k2JtCf/Qk/enmSI31xwhrIEsjBBNHOQUYHS6QSgXYXxXd5dEr8bh3tD/KdbYuFY9cp5QtU6gkMv4oiSY9xwrkLtGjWKhTzZWquhCspv3OJ+MEUIE7/+DjHTnZjfvrvea8QZy8wwh+8epKBkknXQoGMC+bTLqpwYD2GZOwBLs3CJpmlKa6ttmiOphk/Ns5AZ5R4QEW5dRT6O4j0HuOl1xr4U510qDZKq0R2b4/d7T1KtQrFuknD8RPuPsTYSC+jfXF0GWTJxbWaGPvrbGxssbadp2zJoIJdz7NSbFGLQfy2I96zDazyJlub26xv5SjWGzRtHTnYQf/kCUZ7EvSGXKzqLjsbm2xl69SSh0jrTeLWLsvLW2SbOk64h0OnTjLSFaUr1N6Fdn2fenGPlY08xXKJWrNJzfQR6R6hd3iMQ71hQppyn6T3qNvi4pgNartLbGztsbFXot4ysdQ4/kQfh44foi8ZIum/bW2eC26DwtYCa1MXOH9xhWulKrm4xy+lPkYPTdI3PM6RLhWpukthd42lzTyFSoOmLeH6u+kfG2V0tIdutUJ+Y4nlhSUWdyq0tE6iPSOcOtlPsLZNdWOJ6Y0GXqyPZFcnvfIWqxeucOnKCuvqb7lgbaIWR0iPnGC8N0Z/2KKRWWV9c5e1vRJ1C/DHCSd7GB0foTsRJO4/yPcnSYCKFggQCmm4pV0KewZ78V6kUJRAIIifdkNDUWQURcIyXaRQN5H0CKeOjdKXDBHTZVzXoJFdIru+wMWFPOWmhfu0N094Ih5Ty9imnt9mb3WRtUqIdLyL8bEOIn6VO2ZlaXGCHXFOdQB4uEYVIzvP4ucLXL2+ScutkitUKNRlpO4Sr75+hmgqRldAwuc0McrbbM5c4Or1ZabWC9QcDTngR/ZsaqUW2BC/uSrPMTCrWfbmLzM1u8LUcpZKo0q1AY7WxUDFj3V6guigD3N3nhsXznN+eoftgR9zosvhkLzK5c+uML/rUQ6McsZL8M7zY3QEQ8ieRf3/Z+/Ogty68jvPf++GewFc7Lki951kcidFLZRUlEuypGqXy9W22/a4p6OjY+ZlIiZi5tFv8+bHmYh5mqfpjpjujum2xy672lXlqlJppURxTTL3fd+BxI4L3G0eklqqRMpUWUlC4vlEpEKRQN5zDgj87v+ecwDsLrE8eYv3JgocFLPYVo69TBW96xJ95w0S0X4CCQX9AeWg73y1sXj1EpX9VebvfMTduXVmN/OUyyUqfgQtOUBGNrl0ootoewhF+qQC9cCzKO2tsj4zzvjcDivlEuWoxy1/m4JnUgul6Q5alJbGmbpzm7HVA/ZyRSqWQ0Vqof/ii5QUg3Bbkcz6NFMfvsXPPpxiUxsmMfodAs0BmnfvsHX1F/zNHQe99zzHTh+jpkwwO7vExMIumeAkC24ezSnRp3YT0V1ilX2Wbn/E2Owak5sFKg5IepRIUxe7FTg10sVIR4yQKn29V05fGx9wqFerlEs14mYTieYotZCCV7ZwXQUtmiKpB1BUGzyL3X0LtWmAjjOv8uqrw/SnwoRlH9uvUVkyWTSyTK/mKVQfzx5m4ck7osrYoVYsUtzPUZGaMcwoTVEDVfmS6sa3qRV3WPjg73lvXGXcOc6f/dF5XtfWKCzc5v/98U0WZ+O0HBsi2qailFfIzF3jR39/i1LHaXr+4F/zQkeQUHme7emP+bsFOHA+m9vzSmtkFm7y4796j/2mkySu/D4/7AsS2LvN6tQYf3ftfcZUi1C4j9DqJlvLiyzPLzCzFkS+cJHmi5d55Y+G6Lv+Pnduz3D72iRt8QgnOjox6zss3vqQ9351jVvNP+TZ53+XVwYcSrf/hrcmthm/OsbZE21ETIPmwBeH7hW/2lhqWxOs33mP//qPOcyRszz3r88zEqlTmHyXmXvjXP2gFV1S6GweJK5yeAKUFFDjtI1c5LysUlhdQ7WPURh6k//h1R760ikMashLv+DD91b4YFHjzO/9KS91RWiub7H8wY+4sT3BW+9E6PzBKJ3nX+P15nZSxn/grfUUG4EokWCMmJnA7ujnRNtzHB8d4cWTKSLOMM2Sh1+uo7b/kJdfOMXvX0oTCpt4Gx8xe/1d/vNbeYIjz3D2j5/nTAt4ax+yePc6P/qrNdZfuEL1zZc4m1IxtUZMYxfIsT4/j2a20/f8n/HdqIJf3mfv7tvslwz0i9/njdFO4tVZCou3+W8f7xPpP8aZi6N0HvyU629N8au7B9ihZlJmFd0tk697oip+ihxRZezjeQ6O4+BJCpKioiky0pe+jmRkzcRsP86wbBIJjDDS30eLa7GT1VGtLMVCnp2yjeO5lHdW2JyZYDKr03Gsk+GhfnqbNYLlOoHyOk1hHUuRODw5uJR3l9mYusPdHZVUdzuDw/10d+iEolmU0hrGu/Pk9nrZqh3nVMcg7ekpOpc2WAu00JzuZnBkmJ5IJ5HiOvXdDaayGXIHJcquTEgJEmsfYPC0TKhzlNFjHXQ1FThY0Qk4OYp7exxUHKoO8Gth7AP2o4/Fd8HNs786y+zdSVbdU5xr6eX4YC/dIY9SZZbK1iTVW6vs7fSRqQ1iKvfDGAkklUAwgplIEgvrhJ0IbqKN9o40bQmf+t4ac/dusbhlcGCep6enl8HeGHFLJ7ARZXKvwP7SKrvlUdqbW2nrdbn44nPsvrtMYekGN9+3iWsSYf0U506c5nhfKx1NKrLtEI2aREM6RrSZZEs7He1NaF6BpZ1l5iZmWXJGOdvSx4nhHnpjIOnbkF8i/P4Em4vd3Fk6y0AkSkj75+xFPyqHBUh5d5G1MXjPHqC/t4O2ZAgt2U+bVEEuVckvj7OXWyO7U6BS90kFQ5jRKKGqh28dkNtZZs/dZduAoOZQqTtf24Kf0PiOKIwlZEVB1RQk38V3XRzXx/e/JI0lFS2UpOXEyzzTCwVHx6gXyBfzZEo1PNvCtW1KdQfX86ntb7G9vM6eeoHBRDO9qQABFdSgSTDeQjxskNFkPgm80u46mwtzrNnHSAQMkmqZYr6MbbnUZIOgVMaz65Q9k0T/CXrX7rG1uMxCaJje/l6O97cQwkbtTJPpjKPvVrGrFlVPwdNjtA+fw0z1UQhEULUSB3t7ZMs1KpaFW6tQrnvUv1DmeECN0qOOxXfArbC/tc7CwialxEuouoZh5SjUwHJB0g2kaoF6pULJBu9RX81ehXp5h8XpBXaKQ3i9KcJ+BbcEuaqFEwgi+Xko5SjVXCxPIxBuovvscxxf2mP53gdce2uXcO/zjJ59kT8ebKU7FUThYZfZHjgFsjs7rK3mqLf0k0q305NQ0WVQkmmauwfoMT5g6mCb2ZU85ZEwXrgRw/iQZ+Up7c4zZe1xkBmie3CEoa4+moMZzJ15xm9Psry1y06+QqmuYVVKlApFquFWEp2DHD+mYGZLFIt5KsUKuB6flBPCt98RhPHhYoYeMjFjJgGviFUpkSs5uPEvX0OXZQnDULBXp1ienmdhz8GhRL2yx16xSsTxwPXBc7CqNUplGykYRg/p6OpD3izi++DVsColigdZ6pVVVqY+5D1llYgCipWlkt1jTzJpCUcxVRVF+pJ5OlkGVTmsUj0PvMPxqqoN9jqLN2ZYyTrkqjaGvclK1sf2HBz8B19yeu5XG4tTo1qpcXBQpFS/x9TNHD/JRJEB52CN3H4RJ9JDMHq4O+WRL+o9B6dmkSvaFDLr7PMh7/18lomwBvUq9d01VgpRjJYYIV1BkwDFgNgIgyfneH57nsm3C8j9Gqn+DmKGdjg//rAk8T1watQsh2pdIRgxMUPGZ32WQyiBGPGgj+ZUsQplbLexL9u1liHaRi7yvbMpjOommc0xPlpuo2/0GKcv/ZAfnnmBjbvvMPbxB7w7X2FzdoxbqknryyMMPnuef/uKSqC2xcrYu9z68F1+fnef/bKN2En8dDiiylglnErT2j9Ir3mLSmaT2bktnk21EQkEPlvEc8pYpRwrs9sQi6FFNWpjbzGxWWep1kTPYJxY4IDKHqwHV5E/Wb2RZFTl/tuCHRfP8fjS7ZaShKoo6AEdRU+QaO2mb2SIlAqqW8Ot1ek7IxPt7Kc9qWJ86Wc/SCBJh8Ho++DWobLNyvhtJu/NsRboJNoe53TIRslm2dspsL9/2LkHdvF+3x5pLNJh8CuyQiCgY0TaaekcYOhY6vAfstZNvVZnhBQdfV20GqA9chkpI0kqmqKgB+NEUr30DKZpjwVQPBev2kufG8IPtzLUHCKqAXjg1qjVJSzbIGlkKWc3WZheYa/7GBFDJfzQd25LIKuoqoym+viei+d5n3uMPPA9PF9G0lRUQ5qGYqcAACAASURBVEOWpYbeDudWDyjvzDFzdw2pkqFieTBwAc0vUJ35iIVKgkgozdClMyzv3mb1YJnNCYd37WUWWlpoaWqhubOf9vQxLlwusrTyAU41T6aRz0DC1+aIKmOFYFM3bcOnOd07we3SBvNjEyz3BwnpCRKGergq7hSo7C1y590x5L5eYn1xDt79R+7Uj3MweInvPT9Er7rI3vgBN4IalU8220oahhkhGjdR1wtUi0UOSg6JiILq+/i+i+vdDzXpcK7UMCPEUilCG1FSbX30nXqWkbhGWHbxXYdqpQ5qAEWXCXxuctv3+Y0UvR/C93/tezX8yjILd2/y3rtrSN/7Lq+dGuRKe4Hc3Tlmpiym9r/ksfoqY0EGJUjINEklo4RDLbR2HeP4xSGaAjKqb+PYdao1UAIB9ACfbSP8fJP3fw7H5x/+SBpKwCSZMImRxIp10XfyLMfTUWIqeI6FVfewXRkjpKMpHl69grW7zE6mTsZrZXigzEx+m8Xr15k+0UYkHCAU+fX24H57SPhKkJAZIh5TccsFqpUqVe/wBCI5VWyrSKEeQI5HiTVH0NWHbQ1sDG5+g2xxi/cnHTw/QLh9kOffHCKa+5Dc9Z/yk61nuPhKD8+fOk3H27MUizm2C/NMXh3nrqOiRLrpeOnf8kffbeG50yfp/rtbbEp5Mk96YMJjcXTP7VA70e5n+O6bz3EiUaR0/cf8w9VJbiznKDmHc5levUA5t8b80habOxnK5RIHB2VKJQvHsXEci9zWGmvTUyzvlzioeeDJgIHZ3knbcDdt1Rn2Fue4Npsjb7l4roVXK1Kq1bAcl8OTg4HZ1kPbYB9t1Qk2Zu/x1tgOeyUbu16kurfIxIcfcW9qhZUi1F0OM9cDxzucjfj0+tj3Dudu70872J6HbZUol0pki1XKVh2rnqdc3GR+cp6VjQw5l4dcan7FsUgKBOK0dKXp74/hL11lYfweN1dKVOoednGbzPIYH14dY2Jhm5xzOKvzaw7PlSgqgIvj2NiujYOOEmqmf7SbOLtkbr/F9eltVrK1wyDem2Hu7hhXr82wkbeo2BWs3CYz719jvWJiXP5jvv8n/5LXRkK07H7E+7cWmVgr4gC+DLIKquLjujaOa2P7PjYxUu1pBgaaUbJrHOztslM5fMztwh6F7VWWrGb0ZJqTfXEiemOHMZ6H7zg4/uFzQ8JHlVxwHOyqjV2zD59PsoaCcbgwfPokfW0R4kHwcXA8//DqyLWx8HGe9JiEx0YJBoP/22/+MpFI8Oqrr5JOpwkGg7/dkSUVWdUJRSIYuo6puThWjuz6IgvT00zPL7G4tMjq1gE7Vpy2oX56u5NEipvkSwU2N1fYWVlgZX2XnbxNJbONJRmU/DDJRBwzbBAN68jlHLZVYHt9mY2lORYXV1hc2WR5eortske2pqCHY4TCYZLxKAE7j23l2VyaY2V6gqmZeeY2s2RrIcKpJMkI2Gu3GP/4I66NLTJfCBCMxohGQxjFRZbuXuPj6/e4s1JFCsUIJ1K0RGWsfJZSdpudzB47a4ssrWyyX7LYy5apFoq44RShYJh4LIKufL5ilZBUGVkNPOJY4oTCBk1JE7+cwyrusrQww8zEOFPzK6xmLMqBFppammhPhQn8WlV62J7v2Di5dfbyNXZ2D3BrBQq2ihuI0xQPIvsOXmmXvZ1VFqcnmZicYW51h716ECWapCtukVu6w5333+EXV6dZ85IEWjsZiRywvzTD7OQMi/sW5aqNLQXQTRO5ksEtZ1jdrWBX8pSrFiViGLpGIhrCs+rokkU+u83a/CxLiyusZ2ys+HGOnT3NuWPttAZltCe40TibzfLTn/2EbDb7SPeXNQM52kVTLErPQD/p/mF6YlX83TlujW3jth6j89xLXDh5kjNnznPu3FnOjnTQ4q6Tmb3N1TsrbJVr1B4ybZVMpnjjje+RTKa+xlEKR8GyLLa2tvjlL3/JwcHBA+9zdGEMSEqAQKyDltYUXS063t4KW8tLTM6usLGXI1uoUZcjJAdOMXx8gMGOBC0hl3ppn72VGWbmtynICYy2fgbMMp6ska8FSKU7aW5poaO5ifaIh1vaZXNhioW1LXZyNqWaik6JuudTqYGa6KKlvZP+nk66UjKUttmaucvU9DLL+2VyRGjqO0FfdxPtoSqF+ZvMLqwzv2fjSBrRVAvhWJzm+iLrS0tMLR9QdiSCsRbCiTQD/R3EDJ+gl2N3eZrVjSyreYVk/wjxgE/MK1IgQTTZRFtbM1Ed1M+VeHLAxAgnHnEsPbR39zA00E17qEplf43Ze3eZXFhnp+TjhtvpPHaCvnSStrDyxe2EkoosKQQDDpVCkdz2JgdlG0dPYrZ00dPTQ0tUJSZlWZmeYG5ukenVDEWixDoG6B/splfPsDN9h1s37nJvX0ZKdJJua6IjkKOQybCXLVAqVLAlHcdIke7sJGXKRDWb7OYWxWKZTE1Gi3fS0tpGT0c7rYEqXiXL+uoq6+sb7JfANbsZuvQCZ453MZgKEHjCc8ZfLYx9PB+KFZ14Wwe9p04ykA4i7U6xdPM611ctvKYh0kPnOXNihJHhIYZ6WmnXs2RmbnD9g4+5vVUk/8UtOJ8SYfzN8ShhLCWTyS+cd/v7+/nLv/xLLly4QCKR+Gd3xHfrOPUqlVKFSs2h7vpIioqiyKiKiqwZGEEdQ5PAKlIulymWLWqujKoH0XUNzSlT8xRsOUgkGiFsqOiyh2uVKJcrlKt1bF9Gvn9cya5Q92RcWScYiREJ6YQ08OslyqUyxVKVmgOoAVTdIBQyCRkauurhVAqUSmVKlfuVXShCKBwkLFvUKmVK5SqWI6MYJkHTJB7WwK5SKxcplC3qngxKgFBYR7LruPU6jmYSMk3MsEHgC5/BcbiA9ehjCRBSPexKkVK5QqlSw/ZlFE1HN0IETZNQQEV/yEKk77mH0x/lKqWqA0oALRgmGArdf4zKWJUShWIVy/HxJJWAYWCETEJBnZBsY1WKlIoVyraEoocJhoKYao1apUKpVKXmKciBEEbYJBoJEcDCs8rkijUcZCTNwAibhAIKuuxSr5axajY1x8P1fCRJQVE1tGAYQ1fRVfmJL97Nz8/xv/yv/zPz83OP9geSghwwMc0QkbCOKh0+X61yiVzFQw5GCJlRTENFUyRkfHyvTq1cpFIuUbBc3C/Zmzg4OMT/8b//nwwODn1NIxSOysHBATdv3uQv/uIvWFxcfOB9HsvnGUtKAC0YIBaMEfun7hxOEA8nPn3r72eaHnBnGTUUJxaK/9PH/YQRI2rEiD7ocPcpkSb0SBNfrDcMjHCcWPMD/kjT0ENRog+67Z8kIcnqVx6LHkmhR1IP6Oc/0ZqsoATjxIIPacuIYBoRzOTDjqASigUJfeGPwwTNJPGWB/1NCAIhWqMPuk1BNwPo5qOO4BvCd/FqeQq1PIUHrcKVD6iXD8g99o4Jjaih10MEodHIsoz05W8lfSwkSUKWxcv320T8awrCI5IkiUAggKo++a+OVFWVQCDQECcG4eshwlgQHpGuG/T3D9DU9FvNRX2tmpqa6e8fQNfFd3B9Wzz5U7wgfEOEQiEunL9IPp+nVCp++s3Qj+vbNiRJ+vQbooeHR7hw/iKhUOixtC0cPRHGgvCIotEor732+uH0ADA+cY98Po9tP57PHFZVlVgsxsnRU7z++pt85zuvEI0+cEVU+AYSYSwIj0hVVZLJJOfOXSAcNnnu+ReoViqP7UtBFUUhGAqRbu9geHiEZPKh212EbyARxoLwFfX29tLb2/ukuyF8y4gFPEEQhAYgwlgQBKEBiDAWBEFoACKMBUEQGoAIY0EQhAYgwlgQBKEBiDAWBEFoACKMBUEQGoAIY0EQhAYgwlgQBKEBiDAWBEFoACKMBUEQGoAIY0EQhAYgwlgQBKEBiDAWBEFoACKMBUEQGoAIY0EQhAYgwlgQBKEBiDAWBEFoACKMBUEQGoAIY0EQhAYgwlgQBKEBiDAWBEFoACKMBUEQGoAIY0EQhAYgwlgQBKEBiDAWBEFoACKMBUEQGoAIY0EQhAYgwlgQBKEBiDAWBEFoACKMBUEQGoAIY0EQhAYgwlgQBKEBiDAWBEFoACKMBUEQGoAIY0EQhAYgwlgQBKEBiDAWBEFoACKMBUEQGoAIY0EQhAYgwlgQBKEBiDAWBEFoACKMBUEQGoAIY0EQhAYgwlgQBKEBiDAWBEFoAOqT7oAgfNOUy2VKpSLVahXXdfF9/7G0K0kSiqIQDAYxzQjhcPixtCs8HiKMBeErmpqa4O23f8X4xDj5fA7bth9Lu5qmEYvFOTl6kitXXuHixUuPpV3h8RBhLAiPqFwuMzU1wa9+9Rbvvf8um5sbn1bHj8MnVXE2m/m0Gj9+fFRUyN8SRxTGHk6tQr1colipUK272J6EomrIkoQsAfh4rgeSghptIhY2iOhiCltoXKVSkbff/hXvvf8us7MzR9CCAnKISDyIGZao7Wep1Gws7/BW13UplUqfti1JEl1d3SKMvyWOIIw9wKK4Osbirfd5++MxJtfzbFcUzFQrYSNAUPEBl2qxgqfGaX313/HGM0O8MmR+/d0RhK9JtVplfGKczc2No2lADoF+gUtvjvL8JZ3F/+s/cmtxh2nri3fd3NxgfGKcarV6NH0RHrsjCGMJUAnEWkl2DtC/MsHMcp29XJj0M6cY6UiRDgLUyMyNsb2ZJVOokK86uBxu75AetSnfhnqG1dl11rfKBE+cIZ2K0hoUFbbw9XNdl3w+99AAVCLtxFr7OHm8m5awj1rZZ3P2HotbB6znH2VeWQE5QiTZTHuXQS6oYTzkqVytVsnnc49tikQ4ekcUxgHCLYN0GmGC1hTzWwGWvSbO/c7v852TXYzGJcBi6+MYU7du8G5UQ1N8PL7iXjvPxq9usDj2MR/e3Kc12ocSjtAa/PpHJQi+72Pb9gMCUAIUwi39dJ19mZee66MjIiEVt9iKlpBvOOzms9jA17XvwnVdbNt+bDs5hKP3WBbwZGRUVCRUPqt9DaLtw/SdCVCgia6YhspXqIoB33NwrAMKpQqZskSrrCLLoioWHjcFiNM5OMjo6TbqH/0nfp6Nsx3s4/dePE1Xrk7rbJYdD+pPuqtCwzrSMJYkUCSQJZCQQJLBt7DyOVamtnACKmr7aY4H4qRMH6e8Q2ZtnpVtm0zNoH8khV/Y5WB1jcXdCn6sm1TPMGdG2oh7B9S2p5m89QE37swztexS/sWPOFgYYqWzi9HRHpojEoF6jt3leda39tnMlqjWHCSznWh7P6ePd9EUBrWWO2x3xyZjBejpNalmNtnb2GOXND1DQxwbSpMiR3ZzldWVDTZzFaqehmLESHT009vZTHeLiSZ9tROK8G1wf2ouGCQcDuDltshu19iOp5HCUYLBEAaHrwNFkVEUCbvuoca6SHQMc/p4J23RAEFforBvMtwdISDZ4nn0lDnyyliVD5+EfPLjlrHyG0xdvQWDJ+noO82JCIS8LOW9FVbG3uKd2wVmczEuf+8koeI6mYkxPp5cpxAdpfl0jWAiwnDgAG9nibm7kywsbbC2L2OPX6eSs6gUFVp62gj5Rcp7M9y9fpuZ1V3WMwXKpRJ1o4toTxbMCKfSEonq/XbvFJk5MHn25R6crWnWp+eZ9s/ynKOTaAnhHUwwOz7JrYklNotVLFdDMRJEO7Pkzowiqf2kYwEMVRYvpKeKDzjUq1XKpRpxs4lEc5RaSMErW7iughZNkdQDKKoNXo3djEekc5Sh53+XN57vojOqoNQscutFwj0qkrx7f9eR8LR4/PuMvRquXaRUraHZ3me/rhao7q+zvr7Gyvw68zs69aYkz5wZ4uTvDjM88Bbv3dzj3o33uHVumOiJNKPHL/OqvUPGTZFfCPPKn/8JF4a7GIkbRCMKuXvXmProXf5+ZZD+M2/yR3/aRZOzxfyH73Nv4h3evd6NNxLkQnidtfU1Vpa2WNgxqCeSnGrv4dRzaZJOH8NpGTl7m3f+618xbqUpdb3KD/6wl049h7U+xXs//gnXdzcZ33uD//6VHrqSBgHxQnqKuECO9fl5NLOdvuf/jO9GFfzyPnt332a/ZKBf/D5vjHYSr85SWJ7kv93WGTh1npcud2HO/H/84u4qNzIRul/6U14biDAq76I96WEJj9VjCWPfq1AtrrM0/jFmxiNZ3mJ6t0RHn0f//ftIgSjBRCcDfWkm50os5hRSnX109o8wnFbQYhm2Nz5ibXuPzEGVYl0jEIuRSJhEwmF0I0qytYP29lbagxZUVplaXGBsYodK+mWaevoZ6esg4sXxV8fZn59gfG2HnfY+/HQnfX1ppmZzzO1IBFI9tB9v53w6wIgXxZRWqW9Pcm82S677BF0jx+jrbaPTKFEN1Nhte4vVtVVm7kyxeraVWMSgKfA4HlmhMRxWxuXdRdbG4D17gP7eDtqSIbRkP21SBblUJb88zl5ujWy2Ri16jNa2KL3hfdbvTTAztsJMOUkmscxQTxe93YcRLzw9HlMY16hVi+yuzrNUkThwyuQ8gzZFPZxjlUAOJgm3DHDiRD/j0xVmDmDwxDH6+zrpiNXAGKK9dZYWPYtVdbDq3sMb9Or4pVW21neYWauhnQhjBDzcfJYcDnVkdEPBLpaoEUJp7uL48X6mxjNMbNRJDwzSe3yAkc7DRLUW55jdXWIlZ5A41cbgUDtxQ0XTY/iJTgaHmvh4vUhucY7N3HP0tPs0idL4qeNZeUq780xZexxkhugeHGGoq4/mYAZzZ57x25Msb+2ya4ewetqJRyWS9VXeW9hlaydHVVJYm5hj7ZzBfie4YqPEU+Xx7KZQo0QSCU5efoPnhk16yLM0mSXY1UbKAPXT3JLg/o4IVfY+N+/6ud9LUPHB+5Inqu95OFaJSq1CvpTHWbjG7doixXEVsCluLJHZCxBsDhINaajS/eNrQfRwgKZ4APNzGzxty6JSqFKRgzQbIeIhFUWWABlZCWDGIgQDeeRajnLdouZ4HK6wC08TrWWItpGLfO9sCqO6SWZzjI+W2+gbPcbpSz/kh2deYOPuO9ydnOdqKIwqeWhWiarrUvcB34ViCbtaw/ICfEm5IXwLHXkYOx54voKiBQnHkiSammk3kgQDLfhSFSczy/ieRrwpQVsKZCR8DsP21/JWkpA+WQT04Uu3V0ogKwqKrKBpBnpTD+neTo6164CH3d1LrebhxAbp7U0QkjxkScKXZHwJVEXm8zvkZFVFMzQ0uYbku4dv40YGfHw8HNfFlRR8zUBTPglq4WnjVg8o78wxc3cNqZKhYnkwcAHNL1Cd+YiFSoJIKM3QxTDrixphfFxZQUZC8jm8RFQVZOWw6BDPoqfLkYax7x9eanmfD09JQ9U1mrqi2PvjbC9Nc+12hN7RIaLJOEHfx/XB9X4zcP3PDvppTEufhrSEj+8f/kjIKEYE0wyRioWoJbrpHDrNhZMpDAVwatj1OpYXIKBr6F4em4e1C1rIJJxIkggsg10mV6rhJA1838F1qhRyZSxfR423kgjphFSx1/lp5OY3yBa3eH/SwfMDhNsHef7NIaK5D8ld/yk/2XqGi6/08MLFDtLzFgE7SFmLEA6qBAMykq+iJeOEzBBhuS52UzxlHktqeIAD+B6/Vu46pQyF7UWWNjPsFmvYvo/jOXied7gk8ul0xOECCb53eDDXObykkwBNPdy/6do4to1Xt8FTINpDuquFweYaGzevcm98lpm8jeXaVPYW2Zi4xtXbq8xvlrDxsR/Y7iEtnibWOcJQogylXeZXcpRrLp5XoV7OsLKYoSRFSQyN0J0wSIjFu6eT5+E7Do5/+G5SCR9VcsFxsKs2ds3G8Q7fPcf2ItmczbbSRVdflOYmHc0waT1xnHS6lZQsPlLxaXME/94+YFPeXWV37g53bs4xt7pNbj/L7bf+lspMnLH7b1eu706yt7XBotVETzlLZTfP/O0JZhcX2N4PMH3rLulgnWS3TGXmFtOzCyzu7FIZv8lsi8FAvIN0pI+u9j36VtZZvPYr2B7goDvN4HCc1PBFnim75G7tUhr/KX+3fYN4JEJYUwmGTELdKjIlKntbzN2ZYX5pga09mYmPr5PSfBIne2g3ZXSjmUj6FM9f2WAqJ7O/dJVrZZWg5mFXy+wqQ3ScOMHosUHSMQPx4XNPqfuXVIf/dahbJVaml2lu62DgO3/EH1RbSISzVGfG2NifZ2c6SCGV4vSp13k+XaC3ZBBKx+iJStR9xJzxU+aIwtihnt8hu77A4o6Dq2o0x+sUFm8zuRlg6f7allctYPsqRleUiOHiF7NsbJaxPIlwXKW2t0V+L8F+LMjB6g75mo8fiaAVtykdZNmu9tCRGGZgaJ9CJsu1rTlW6hKqYtLU005H7zni0TgyP+PqzSluXr1DKdBKc+8Jhk518lxbnHiohJPJsLlVpeZJhOMS1e01Mjt97A500RyS0bUooaZBzv3Oa5hTc0zOrLA2XaSKjmQkiXc9x8njwxwb7viNBUnh6eVSq+RZvH2X9hfPM3jpGc6rNXJTs8zcvMHqwT6l6SBZJUH6ygidJ1R6aha17B727h7T0j571c8+PlP49juCMJYBg0j3GY6nBui8/LDPMwbfc/GR8AMxomEVM+CSbD3D5apNzZVRDRPTNAjpMk5zJydfsfjjmoevBQmZh3PCITVE1/nXSY28xPOOhKQa6EYQ0zQIyDo0DzP6Rhs9L1v8oObgSRqqbqAHQ5jhILpiIkXjXPnvTnCxWsdyJZRAmFDExAyrBO8nq6waGM0jDJm9dJ2uY7suHhKSrKKoOoZhYBiH7zgUBACvXsJa/4BrP77N5K90VMnDtUpY5SK5ioNXm2atuM5/nDAIKBKS5+G7HqjgSw7VvSxl8WEWT40jmpaSUXUTVTcJJb/aX+rBOA/8EyNMNPWgGxSUSBI9kiTxoJsDIcLJEOEv64caIG5EiX9ZxyQZWQsR0kKEvux+wreWJElomoaiKI/20ZW+i1fLU6jlKWQecLtXoWZX2Cl89b4oioKmaUiSuAz7thB1nCA8IkVRiMXiBINP/jNag8EgsVgcRRH72b8tRBgLwiMKBoOcHD1JOt3xpLtCOt3BydGTDXFiEL4eYveMIDwi04xw5corn36g+5P6QtJ0uoOXXnyZK1dewTQjj6Vt4eiJMBaERxQOh7l48RJwOH88PjFOPp/Dth/lK5X++TRNIxaLc3L0JFeuvPJpX4RvBxHGgvAVHT8+SldX96dV8eP66iNJkj6tjkVF/O0jwlgQvqJwOEw4HH7S3RC+ZcQCniAIQgMQYSwIgtAARBgLgiA0ABHGgiAIDUCEsSAIQgMQYSwIgtAARBgLgiA0ABHGgiAIDUCEsSAIQgMQYSwIgtAARBgLgiA0ABHGgiAIDUCEsSAIQgMQYSwIgtAARBgLgiA0ABHGgiAIDUCEsSAIQgMQYSwIgtAARBgLgiA0ABHGgiAIDUCEsSAIQgMQYSwIgtAARBgLgiA0ABHGgiAIDUCEsSAIQgMQYSwIgtAARBgLgiA0ABHGgiAIDUCEsSAIQgMQYSwIgtAARBgLgiA0ABHGgiAIDUCEsSAIQgMQYSwIgtAARBgLgiA0ABHGgiAIDUCEsSAIQgMQYSwIgtAARBgLgiA0ABHGgiAIDUCEsSAIQgMQYSwIgtAARBgLgiA0ABHGgiAIDUCEsSAIQgMQYSwIgtAARBgLgiA0APVJd0AQvmmWl5eZnZ1hc2uDaqWC67qPpV1FUQiGQqTbOxgeHqG3t/extCs8HiKMj4rv47l16rU6ddvB8WVUTSMQCKCqCookIUlPupPCV+E4DoVCgdu3b/Kzn/2E8Yl75PN5bNt+LO1rmkYsFuPk6Clef/1NotEo0WgUVRUv428D8a94RDy3jnWwwfrKCsvre+zXTVIdabp7O2lNxDF1lYDypHspfBWFQoGf//xnvPWrX3Lr1g2q1epjq4rh8GSQy+W4eesGPlCv13nttddJJpOPrQ/C0TmCMPYBm/LuKvurC8wurbF5UKVQl9HNMCog+0AgSrytm/buXgY740QNFe0bXyn6gEd1f4X99WXuLVeolHaxCptMTe9gaU3Ee0e59N0rnOhO0mWKKftvkkqlws1bN5idnaFYLH5NR5UAjWjnMdKDJzndEyGm2ziFbVZvfsDcVp7V0uE9fd/HcRyKxSKzszPEYjEuX35JhPG3xBGFsUM9v8Pe3A1uvfM2V6f2WchrtA8PkTBUgr6DK4eJdByn+3gZ96XTDLXFaDaOOpw88OpUilUqloMajWMEVAzlazoL+B54JQ5Wp5i5eYsP9ztpSUC7ISEdzDC7PEN+Koc+cp6W5vhXD2PfxbfLFMsuVVsmEjcJaArqUZ/EnlS7DaZWs1hcXGB/f++Bt0uqgWaEiUXD6IqP5NaxSjlKVZuq7T3kqCrICVqGLnH+9Td5o08jphTIbU5ze+M2BwefhfHn7e/vsbi4QK1mfX0DFJ6oIwhjGTCIdJ9h2IgSVAuU/VXya3Gu/Omfc2mohT4lR27hKu99MMOtf5inoEV5/dIQV/rNr787n+fVobLC9AdjjE1miL/2A070tjIS+5rmC7waFBZYml3nzqxP+6vPcGawmeOhHM8MRfnxT+f4YE4lqIH8W5x3fLuMs3ONjz8+YGzd5Mq/vEx/e4zEEU82Pal2G43v+9TrdRzHeeDtWqKftpFLfO/VCwwkPfTcEpPv/JgPpzYY26w++KCyAaFRegfTnOzZYfqv/wv35tcZ3y9Tye5TfEjWOo5DvV7H9/2vaXTCk3ZELycZVTcJxppIJU2iIRNDT5Bo7SbdnaY/WKISLrE1v8Ly1CyLM6usdbdQ7TPRpaPbb+d7Dp61z972FovLBfosj7r/9ZV3nl2jtjfP5l6eNSvO5ZYUra3NJDQNM91EIraBrngosnR4dfpV++/UqWWW2doosbjVwSXb43HMWD6pdhuR53kPCEAZ5KX0rAAAIABJREFUCNHSO8DImSHiuVm2MwZlP0j69Al6qh6rW4sUffhCjCsqmE1EIwESSp6FxUUWZ9ZZKj+skj7k+z6e9+X3Eb5Zjra2uZ85siShSAqSpIKkImshzLZ+0i0J0sEKc7u77G1tsrfj4VVqEIgQCMdIRQMobhW7UiRXqFDzA0h6hKakiaFJSG6derVE2fKouwrhiA62Rb1aoWy5oIUIhCPEIwaaX8ctZzjYWGFje5fNTJ3Y7ja7cY0tO0Q0Fjq8tHRqVMplqrU6NcfHR0HVgxihEGYwgKZID8hRH69epXqwzeb8FMvbJTYraWq5XQr7Ktt6jZDt4d1/TH7zAL5Tw6lXKZWqWLaD4wGKRsAIEwyFCAUksKtUs9tsLi2zte2ynw+zu7VBUvfwzRCxsAp2jbp1eIy67eC6gBYiFA5jmgYBGbjfVrlUpS7roBmEJYu6VaFctbEJYJgRzIhJSJPw65UvaTdMzAyg+jZuvUKpZGHZNo7r4/oqetgkZJqYAfnwBPStpQAmTR0d9A4ksX/y/3BjM8lq/Cz/458M0ra+T0papAK4SEiyjOdphKJRzKZOgu2dtDdFiak19Gg7qTaJnlqNSi5DybKpPrgQF75ljjSMJUCV4QtTsr4HTg3bcah7IBs++aVr3Fyf552Plym2v0jHs9/n37zaQ7IwyeadX/KjX9xktjaA0f8y/+7PL3OsVUEvbbBy5wOuT1dZLUV59kov/s4ca7dvc20uj5s+R++FK/zgyghpd43y/Ef88h9/wdu31pjY9lj7Txnudp1iaPAcb7xxgcFYDfVggZsffMTdhU0WMxaOEqdp4DRDp8/xnTMdtER0Ar82nsM58srWNCt33uEnv/yIq5NFlgsmf/1/T/BB/0X6eof43WGLykMKGbu4xd7SPT64Osb8Zoa9KmC2033iGUbPnONCv4G/cY+lG7/g5z+/yrUFmzVrmv9SvUPHsWcZPPkM/+JSCmlvnvXJMSa29tnYzJEvAq1nuHD5GV549gQdIZCKW+wv3ePa1THWjAH8tmGe06dZmbzHjfF1Nujh2OVXeOmV57nQruKs32P+Ye2eeo5/8UIPKXed/PJdPvhonPn1XbaLNcpuir4LL3P+8mUu95vEjKdk64jvg+fc/3EBBQkZhftLdQEZNRDCqndw7PJ3efHNVzjR1ER/u0HSdEn9T/28Us6yvzPP3b/5D1yd2WYs+4THJDwWRz7r94WCyHdwrDzFpXusbJfZlHsZHB5kpNuhw6rRcnOcg3KBnYKN6/poZopoay/9yRssrZXY2itRsT1sq4KXWWN1YYrJO7tM74epRaAnYWB2DDBcusNsZoHpjwz6BlrQ2kyam7ro607RvFIhVNUZPP0MQ31DDLc306xl2J68x/Lde9zKmuipEc4NBFCdErn9Jdbe3+Inxe9w7kQPp3uiaL820yCjmU3E2vsZ7EgxvxdiX2/j2NmzDPQP09UUIxFc/8JuEd+x8PKLTN+4ya0786ypaaJ9PfSGPLzqHjsbY1zb3qH00mUGzRjJdD99LR+zkFM4cAc5cf4E/YPDdLZoqDu3uHtrlhvTWcIjQ3QnLOSDXaan7rI0EyPQ3kmiV0E62GFncZa5e9eZcHept9eIjYYJJTro76tRHp9lbaqZ9+Nd9EQ7SUSaHtpuV9ogZC2xODHGxJ1Z1vUOEsO99MkVCtsr7O7Mc/O9IE2Riwy2RUhqR/1se1JcoMT+xgbLC51cOP47nD8WZBgDe3mJQjWAfuwFLrXHCXp71LNb3F4okVmdYPwjlWzLCernkoyk60x/fIP1/X0283us71TI1J702ITH5TEtwbi4dpVyPkN212HL22RzfILVoka9/SIvnD7GheEg7dUo2bu3KNeCHMiHb4wIprrRZYnLm7dYd3XydRUZ8B0b16pSs8qUDnbY29SY27xAuvcsx8+d5Vw3/PRnE7wze4fpjZfpaRtgqOckF6pTTG9qLLtRnnntD3jhWDsjRgnv4C5v3f2It96aYffsv+G1Cxf4/oUkZmmemz/+W976xVX+8SCBp4Xo64gSU7m/m0ACFPRUN62qynOZGywUbXYOjvPym7/Huf4UbWSx16fQfzOM6yWq6zcYu3adX9yp0fmHP+CF54Z5sdPBWX2Xf/jbd/jZ+7fYCXajvzjClROXeGbpfZbtEHnpOb7ze7/D6e4EsdoepXsr7G5nWC4n+O7pV7jUDfGduzhT/57pjWXGlvO80B5Et+tUKxZWYZ9sXiLvdJA7/12GR49xbrSbeOHf8252jbGxVX73QjvNHb10KsAX2o0Tdw6oLH/M1K0x3rlj0f2v/pCzF/q5lCxTmvpb/uanK7x77WOmL4wQi5skv/l7Fx/CA0rsLi8gB1IMfPccQ+kgpp1h7eMcdUxix44x2tdEuDhNdj7D1OIG6+PrrMzdg/TvYat9hKQqV3/0n7k+v83i0zop/xR7LGHsOQWK2T3G3/sxuTsSMadEztKI9z/L906d59JQimbTol7l8Kr/QQvEHsi+jIqKhIRsthHt8nnu2TXWt2W2bJkzz17k1Ml+BpMOcvgMfZO7LK5tUC3ZVKyHL3Z4toW1NcH6Zo4Vq4Xjxwfo6UxhqhpytId0byfH+ia5OjnN5mo3G5UBQiao/6wrbw+7VmRn+h7rGY9CbJTRoTZ6mkMENButfZT+rnscn57ig9kZlvsT5Fq1By6cyQETs+8yl0MOA1WT3oEUSfmAquujSjZerUa1aGP7KZq7jzHoO2Tmx8jnetnpeIZnz/RxrF1HK8icPtnN3JjKTiFHqeZS8+DBBa2HXS2wM3GDpd0aO+YI3+1JkU7qyFods7WThLlGuLbJ3kGRQrUJIoF/zgPW8OyDRbbv7vPXa9fpHjnF4LFjjAxd5lh+k8TKHOM//RnbmSwH5Qr5Sh2x/CZ83mMJY0nW0YMmLd3DDKZNOjQHSwqTTHfT0d1OS0RDx6Lu+eC78BtPUx8fDxcXDw8JH5DkAKphEo1FiZhhgoaPGY0SDgcJGnUwY4SCBkHFo+J4OO7DtwB5jo11sE++bFOSU6SSEWLhAIokgRLGjMVoShkolX0qxRy5mosTlvmttkR8ysa1K+QzWYp2GM9soSlmEDFkJElBCiaIxEySYbCyBxTzZSpuHO8Bw5AUFSXWTKy0Szm3zuy1JVzPoprdYKtYoaQ66LaP5ysoeohgJIYZ0gnWQhjhCFHTIBTUkWohzEgIXfOhWMN1PR6+YO/g2mXyOzvkcw65SpKNmVvcy0dYxYL8EqvZKn4oeLh4+zXuWmlUstmE2dbH8Z4EibCNuzvHZK6ZlqYU7cfjhCNJ1uYnWFhcoGxJ2F/ynBSePkcexp4PkhwiGG2l7/TzPHMyzWj0AXd07t+ZwzD2OVwLOeTj+odh7PL5wlkCWUGSJWTJ//VolBVkWUKWDg/7oBD7lO/j1Go4noSnGgR1hYD6ybYHGTWgoQcDqH4N17Wpex6+/5sb8B5W0j+sTQ/fu7/rAQVZD6JrMqoMSBIoGlpAR9dVsG1c28X1Pv+YfNau7zvYVoHc7iprs0ssHFjYqobvVMjXbeq+j+o9Qu8kCRQFuL/45H3JkHwX361RtyzsmkW9mmFndR65ECSIA5UcFTVO80AL7fEwkcC3/92GitmE2THC6IkYSm6R7dVZ5moyUihB10Ca1pZO2pIBkkaJTGmLnUKNx/OpFsI3wZGGsQ84HnzVAsDzDv/O5n6N7N//n4dUaZ/c/7etMyRFwYhGCBq76L5FrW5jOx6H+0cd7HqNqmVTD0TR9DCmph5Wzb/eCw7PKA/pxW8Gm6Qhq0HMcBBdcfHrJVzX/SxsPRe7blOrechmGD2ko6tQ+0KB6WGXM+x8/CPevlNnrNjNGz94lsEWFXV/jutb17EVmYe85eC3J8nIagAzHCQUjRM1T3HxyhVOdsVJqT54Lo7n40kaRiRGSP/2h7G9P89OZYcfTfj4tocSbWXo++dJunNkfv5j/nr/GCMnowxffpGB2X/ALtXYedKdFhrG0b5C/Ps56h9Wtr7vHG5rexBJRlJU9AA45QzZtQU29jJsbiyzMX+PmxObLO+WqON+mmk+Pq7n4vo+vn8Y+p/lnXt/m9FhMOB7n1Z+sgSy5+I6Dp7jIKNitAzw/7d3L7Ft3HmCx7/FqiJZZPFNSiL1tmxLsuwkthPn3U7SyaSnZwbYQQOzwN73uMDusW9zm+MusMe5LnYPgx7sYxbd3m4nk8RJOnH8lCxbsiRL1pNviu9HPfbg7nQ6cTJOj2XTzu8DGIZFmvWnZH+r+P+zWAOJIINagWy2QnG/fW/Mdo39UoXdXAd1YJzEYIohQ7l3BPv1J4t7bwxfTre4f7jp979/GWUVzRskPj5BwlQxqlvslhuUWxbYPWjkKBfr7FV9JEaGGUxFCasKqlcFBVzLxnHBtiy6jSqVrTvs7uTZqYFuxjB9Dt5OgcJ+i1rrPjPNzr1vie3wh4N69w/j/qP9n6KA/rXt2iqKGiQ2cZhEyINR3WA936HqGITjMRJRH1qvRaNQpN6x6TpP/zSF223S3c+RzWbJFveptW384SC606S9t8nWVpmqpeKNxTA1Dd/jHrDoKwd0ZOzQa9apF/fIFmpUGnXaHZ1ydodi2qTijRDyfe1EAI+G6vUTjofR1vNUbn/O9WsKNbOFJ7vM/EaJ3X0/TV+ObLHKfkzDUGqUSmWq9RqtjkqlVKFai9P097DKBWq1Ko1Wm2alQK1Wp9bTUf1hggGdsKdJNb9LLqKRinowY0cZHrvD9N0SO7kddjf97PgMVKvMZrZOvhViaHqGibFBBvygfy3GTrdNq1YmX25QrXXoNsqUCiUqcY2AVqVZqlKtNWi1XPaLJarVBO1UkPChE4wvWdwtlMjt7nA3CGbYQqneYbdsU/OOcWRmkol0jJBWoRGJYvg7eEslCtksu3qUSKNNx1LunY7dzrOzvoo/X8S+u8Z2tUvVaWJWi1Sqcapqm+5+iUq9Ta1ep1mrUNpvUw9YeBsVypU6jbpNp1WlWKlTbwUJezS0r2/X62KrPoKTzzK+VCWzvsbS9euElBb+WoiAWyG7VaG472EgmEb3+wk/3et34NybXru363NxbIt2rYaFFyOaZsiOYOrQazTo2M43z8YTP2iqYRh/+/UvxmIx3n77bTKZDIZhfM+HdMBpk1/8mIXzv+B/vn+ZL5a2yJaKFLMlapYPJzREOqzj/2rRFBUFF79SYWd9g1sXP+fG9Yvc2O6QZYDp0S6tyi7ry2tsdVIYngZRe41Pzv2aTy4tcXOvSsPyEwyAoddY/egcn356lYsrObINB90MExxIMxT2oVTztHLL3FjZ5O52lVLHTzgzSiIRIZPwYRe3yK1e5cqVS1xe3GCrEcQ/dppXX3ueZw6lSATUb7ykaOwscvfq+/zq/KdcvLHFdq5Kre1i94p06nf4/L1/5pMryyzulCi1FTyBEKGhDMl4ikTITyrQobSzwtr8VS5fmuf6ao6Kd5T0s69z9sWjHBkyCeig6xbV/C751QWWN3bYLNk01SiZjBe3kaW49DkXPrrApZUSm22ToVCDZr3GzmYONxijnVuiePMDfnNhnoW7+xTrXdRoGl9rG2frM37zm0+5uLjFTrlJzzdANBJheMAk4LWoFb6y3WKPppZgcPwQ6YRB2qiyu/AxVz96n3Pnf8unS3sU3BiR8RmOjMdJmBpP+rRxqVTiV+d+San0IGdhOLio1Hpx0hMznHrrx7z0whGG3S0KVz/mwlKWvZaFowYgdJTjx2JMDVqsfXiNnVKd8gPMucXjCX7yk58Sjyf+1c9NHKx2u83u7i7nz5+nXC7f9z4HcGSsgKIRSIyQOf4aL8dmOVzt0HI0fGaKwckxJuLe3y2QfZUH1RchPPUaL707SHB8m6oDWnyc2GCaI9GjTB7J81zWRh+eYnrUJBIJceSFv0Ab3ud0y0tw6DBTk2mSUZ3AzKu8Yhxm9KUuTjjDyJFRMpEAvsAoY8+8wtnQMGN1Hc0cJDU4QDRoYpqTRIwAaixPqdqg0bNwPH68wRiR2AAjo3GiAf2+czt6MEF84iSn3o4weLJHwzGJZsYZHQ6RCln4z3gIje3zfEslkBpnbGqAgYCO1x8jNT6DNxAmmKuwX+/S7YHH68OIDBJLZRgfCBL0qShOAP/gMxx70cQ/kKWshAkkRxkYTDEUCuD1pYikj7NR7qGEh4glk4z45jhe6VFqB8gcGWLAF0CPq5zVDzHX8mIHBxk/OsBwpEO4+xzPvW2SPNWlrkRITU4wmQri9xpoQ9/c7mAmSsgM4Rufw/D6IXaE7WKLas+LL55icHiC0dFBkqbOD2DK+GtcrE6NyurnXFf2aOWSmB6L1u5t9tY3yTe69FzAakHlKgufbNBa7bFaeLAQi6ePEo/Hv/GjP3ToEH/3d3/H6dOnicVij2NcQvSdlZXb/Mf/9B9YWbn9uIcCwOHDR/gv//m/cvjwkcc9FPEvKJfLXLp0iZ///Oesra3d9z4/uOMVIYToRxJjIR6Qoijouo6qPv4PPVJVFV3XUeRCik8NibEQD0hVVSKR6J+wqP3wGYZBJBLtix2DeDgkxkI8IMMwOD53nExm+HEPhUxmmONzx/tixyAejh/YhXOE+NOZZog33njzyyt97OxsP9IrRKuqimEYZDLDvP7aj3jjjTcxzdAj2bY4eBJjIR5QMBjk+efPAPfmjxduLLC/X6HXezSfMKHrOpFIlONzx3njjTe/HIt4OkiMhfieZmfnGB0d+/Ko+FFdFFRRlC+PjuWI+OkjMRbiewoGgwSDwcc9DPGUkQU8IYToAxJjIYToAxJjIYToAxJjIYToAxJjIYToAxJjIYToAxJjIYToAxJjIYToAxJjIYToAxJjIYToAxJjIYToAxJjIYToAxJjIYToAxJjIYToAxJjIYToAxJjIYToAxJjIYToAxJjIYToAxJjIYToAxJjIYToAxJjIYToAxJjIYToAxJjIYToAxJjIYToAxJjIYToAxJjIYToAxJjIYToAxJjIYToAxJjIYToAxJjIYToAxJjIYToAxJjIYToAxJjIYToAxJjIYToAxJjIYToAxJjIYToAxJjIYToAxJjIYToAxJjIYToAxJjIYToAxJjIYToAxJjIYToAxJjIYToAxJjIYToAxJjIYToAxJjIYToAxJjIYToA9rjHoAQT5r19XWWl5fY2d2m1Wxi2/Yj2a6qqhiBAJn0MEePTjMxMfFItiseDYnxgXEBh16zTqvVouEGCRh+QkFdXo48oSzLolqtcuXKJc6d+yULN+bZ39+n1+s9ku3ruk4kEuH43AnefffPCYfDhMNhNE3+Gz8N5Kd4YBxw6uSWP+bWtQU+6z7PcyeneePUMH6PzA89iarVKr/+9Tnee/88ly9/QavVemRHxXBvZ1CpVLh0+QtcoNvt8s477xKPxx/ZGMTBeSQxdjpVWpUcG3c22MmVKda7OF4Tn89HMBAknBpnOB1nKBlEV0B5FIM6YE63SSd7jZtXrnDh0g7VY2ewNS/aU/L8foiazSaXLn/B8vIStVrtkW/fdV0sy6JWq7G8vEQkEuHVV1+XGD8lDjTGrmPjdKpU9tbZWlvm6vxt1reLFOpdnGCCoM+DGTDwpdqcPD2DGQsSVkHr41q5Vhur26Jcc9ENg2DIuM8OxMHu1KisXuPOep47jQjHRwcZSpp4+/i5ie/W6bRZW1ulUMjf93ZF86P7g0TCQXyqi2J3adcr1Fs9Wj3noY6lUMiztrZKp9N+qI8rHp8DjbHTqVJfPc+H71/nw/ka3hOv88y7k/xsPEHQp0Fpnt21ef7xwk1Wo2FGp0cIBPo7xk5tjdzaIr/4Z4vhE3OcOXuCQS9/HFm3SbdVYn2tjm/4JC+/eIa3To0xHPc9tnGLfz3Xdel2u1iWdd/b9dghhqbP8NO3TzMVd/BV7rD4wT/x6c1tru20HupYLMui2+3iuu5DfVzx+BxcjDslGnu3uPj+R1xZ81CMzPLjuWM8MzPC1ICJTwUnWERt50mG6hga99a8+vzfllUvUttbY3UziD7WweZ+Q9bRAknSJ14lqKdQBiYYTfgwdJkpftI5jnOfAHqAAAMTU0w/e4RoZZm9op+Ga5B55hjjLYe7u2vUXLh/xr8/13VxnId7tC0erwOKsYtd36W8fpWPPrrBneirxH70Oi+dmGAy6f/yKNJjxAkPTDE7UyGcjmCqLh6nS6fVptVu07N6dC0X2/Wg+UOYQYOgoeNRAKuD1W3RqLfoerygefE7TdrtLm1LQTPjhAyVgGrTarTo9Lr0LIuu5eLRA3iNIBHTh6567j0eDna3RbfVpN7s0rVdHDx4VB1/IIDf0FE7dUq7W9xd3yBXyZAo5Mnu7KCYIWKmH9Ov4XG6tFtNmg0Hb3qCqO3i2mUq1TBW0E/Qp6I4XTqtJq1Wh7brx6u5eJUu9Xoby+NH9YeIhf34tN+PTfQ3FTBJDg8zMRWn98v/xhc7ce5Gn+Pf/9vDDG0VSChrNAEbBUUBx3EBDx7Ni8+MEAz4Cfp0VMXFtTv0Ok3q+1WaHYuuNPcH4QBi7AIW9fwG27cXWCoG8B3KMDs7SDSgoX81Lv4BQsMRzr5ro3p9+PQuenOb1cVbLC4ssV3YY6vYotILkZh9g1fPHOOlE8OYGti1XQp35vnsk2vs+EdxkmPMtK+yfGuTxaxG4kd/w5vHYzwXLrPwxQ02tu6yXSiyVbTwZ55l4sTLvPvKFMNxA0N1gDb13UXu3rjMx5fWuVvtUVeCmKFhpp8/ycyxNNGND7j68Xu898k1VvdiFAq32Fr9nMGZs5w9M8MrszH8zW02rl3h6qVr3Noukq879HxJhk//hNefn+bMkRBac5uN+S+4sbDKQm+GQ8keY94dLly4Qd44RmT2DX72Z9NMJgOY6sP/CYkD5LrgWL/7ZQMqCh5U7q0r6F4Pmu6h3bRw3AC+8BhTr7/LKydneeHwIBHdolddY2/1Mh/+73Nc2yix3njMz0k8EgcW4/Z+kfJulpJtMh6KkU6Z+HT1jxe6PDqqTyfqA1yLXi3PzrX3uXi9zLU9HzOzz3BsKEdlL8uNxYvcivhJjQ4wE7XolrNk15a5PX+ZJXePzmANzyi0NJNwSMX0KzR3l7h9c5Hz8wpmIs3EiTHSuRVWd7a4/cVnjE2m8Bo+RrwNmrtXWLi+wcKqjTpygmmfC50K+ZvzrM9Doavy45FhkoODTCRNlrqjZI7OcPLMMYbSGYYjLlZ5g5ufvcfVzS5rzgTjJw4z2S1Sq1RYv/EJi4aN15xlsnmX3Ts3WVxY4GKlSOHQEPUxH3ogSChoYPg1fKqCKkfFTwgbqFPY3mZ9dYTTs29xasbgKH5663eotrz4Zl7hTDqK4eTplu5yZblEN3qU4blXeefFCRIU2L5yk+vNHq7uYnXA8YAqO+MfjAOaprDpNps09+t0lCi6ESQS8KJ+55Spg9WpU9y4zVYhRCnwDLOvvcRh7wqVxQ9Z+fvLbN8d53blNBPBLk6vS6vRoV0tkN93qHSSHD9+ivEhjVlXwX8ojm/zJrmNdTZapzkz9SKvn00Tzr3H//nHzzl36RpL2bOkB6MMWhVyNz7m2qLCQmeWv/7zs5wY1TCrt7nSuMnHhRLbOx30l57lSGcTZ2+dL9QTzL10lr/4N6cY0kFvblFYucXF9z7ipnEK9dRZXntzhGF1ncKt3/Lf//7XbK1EsDIjRPUm7WadRq1I9m4PLZEiE57h+AtDeMwMWjJJIqDhlSnmJ4QD1Mmtr+LxJpj68UmOZAzMXpHNzyt0MYnMzDA3mSRYu0VppcRNvUFgfI6pF37EK6N3WL7wAf/v/17ges5CHZggPpgiWu3SkimKH4yDW8BT+H5nNig6emiI4TN/zbvHg7ziTXM0FcBfh6LroDodut0OlbaLrQSJjc1w2LEo3r7I3tYgdnKG43OnOJ4OEVNB8fmx4i9Tz0wStkcZGkqQ8HbpKYBr4bHbVFs9mp0q7c42S1+skLePETg6zUjcT9TvRfdMcvzP/h2xRpCanmY07KP1LUervcompY15Lm578T83xHPHBokGdHxqjEA8w2jEpdpuki958L9wihkrR6e0xdVcmNHho5x84UWeCdsEdB1F8xHwa3JiyBOmV15j73qBX2xeZGz6BIdnZpg+8ioz+zvENm6z8Ktz7BVLlJs99lthjqXTHBozaCx+yNKNea7nWjR7Lkpug3Zpm6zVpPfozikRj9kBxVjF6zcIBA00p0mv3aLesrHDHr79lAcFVfMSSgwS7uWpZa/wxRY43W3Ku0X2G210y8ayXVxXRfMHMMIRzICfUDhCOD7IQCxCIhYi9LuKWZEIqtUivH2HnZvL3Om2oLPJerZKt2fRsxycXgvLqpDLV2mFFYxICNOr4vV4ULwm4ZFZ9J5KDx8BL3S+ZfS9RpV6cZd8tYmR3SK3fIlLOQ8BqjQKm2y3PVgRH2FNQzdC+E2TSMjEbyaIRmIMxcJEQ2DIy9InlsdMYg5NMjseIxbsYedus1hJMZBMkJ6NEgzF2Vy5weqdbRpWmEAgQNR0aBZ32C+Xqf9+pa7bxu4+3uciHr0DiLECaPhDUaIDKSLqHp1amWyhQTcRxPV+Zd7YtbB7PZr1Nug6HtXGruYpbK2wsrpDvunBo7WwWi3aPQvNce+9Ivwqj3bv5IuwSVD3/O6lvQuujd2uUi9us7mywlapQ7XrEDBq984AdMF1XLAtHKtLu2vhuA6qqvD7XYbi0VADMUx+95h8+2cQ2FaXbqtBz+rgVHLkNpbQcgpet0WvVacVGSWeTjOa9OHTFBQ8oOqoRgjD78PUkHdOPOFUM4k5PM3csQhqZY29u8vc7nhQAjFGpzIMDowwFPcSN2yKlwP4NRXNY2N1u1j2w3rTm3hSHViMzcFxhmfmmI6tsZG7y/z1DV4fOUzUMP5wgkSvRjO/xaUPbuFmMhhDQern/gcQva3rAAAIAElEQVRXa2n2Ui/xs78aZ8S/w/7qFarXtmhpD/jC3bXBqrB57SMuXfiMj71v8tzJaf7mhInRWOCfWy0+LBVRFQU0H6rHJGp4UCyLWrVD13FwuPeGpQel6hreYBDDD8nDz3Ly7Xc4HdcIaS6uY2NZDoo3iDcQJGQ4VL/fN1U8AXqFFbLNLP/rhovbc1DDgxz5q1PE7dsUf/1P/KIww/TxMEdffZmplWuYVo9Wz4thhvD5/HzXzl48/Q5oWlJBDQ0TmzzN66/NMOYrUrj0Hheu3+HWXp2WDY4LTm+fRukuN2+scOfuNoVKie31DXZzNaq2gRkNE1B62Ps5ys0uja77zTMsHHAdsB3+cNKIa4NVp5rfY3t9h1xdwfGZRMIGWrNEs1aj3Hbu/R3FwBeMM3YoRcAuk1u8yq3tfXINC8fq0CqssLa0zJWFbUrNHj3VA7oKjo1jO9iOi92z0cwEkfQ446EmVrXA6maVnjdEMBYjFvKjtyo06zVKLQfHAQXn3lufXBfH5VtOHhFPErfbpLufI5vNki3uU2vb+MNBdKdJe2+Tra0yVUvFGw1jeqrUinm29noED51ifGqKqZgXn6rhi6aIjU0wGvfde6eR+EE4uAU8X5Lg0Bxn3nyNqnWZ6vUbzM+nUd02SiOJ6dNQW1sU9nbY2e+Q6jgM4oLqhXaDbukuG6suteY6e3eyVNotPI0atWKZ/YaHoF2nVS2xX29Tq9dpVEsUSk2GQj50P3hcGxQPiqJAI0tp5w7LS16s1U12CxUaFtRKJar1ATqhBKNz06RLW6xsXOL6fBSlNcRkyKFbuM1G0c++J0MsE0b3B/CFQwSVJt1qgd3dPPh9JPQU0dFjnJic52Jlk5ufXWQq2KKe9BGw6hTv3KERmsQ7EiGpt2nUqlT263SaVarVffLlGkktgOZT+/p0cPEdHAeXeztWcHFsi3athoUXI5pmyI5g6vfWFzpWmezWBs3lbeo/Os7wdJszeYdg3oJECjNi4F0ps2F3qHzbQoV4qqiGYfzt178Yi8V4++23yWQyGIbxJz+4our4IqMMpgeZHNKxd25w+9Jvef/9j/ns6iLzyxtslSwYmOXwiWPMTqZI61Vq+TWWL3/AhQ8vsrjXpeZLkbK2qDbb3Cl0MRIxnPxNytd/wy8/nGf+bonCfpOensQMhRhKmaiaD81potlFNm59zsLFz/jwsyV2lEE8VoOYtcdStktPDWIOjjI6NkzSsDAbt1n49D0+eO99zl24ys2chj40ycyz00wkAoR0C4U2+dVFdrc3WbiTJ98J4A0lSI8MMZwO4+sUKd/4mAvnz/H+J5f47e0CZS1NcnSCI2k/evYzrnzyEb/5cJ6bGwWqFjTxkxpMYRo+WcTrU6VSiV+d+yWlUukB7u3golLrxUlPzHDqrR/z0gtHGHa3KFz9mAtLWTbzVRrlEk1zlOTUSV556ye89dab/OjZEY6GW5RWbrNXalL6lhjH4wl+8pOfEo8nHurzFA9fu91md3eX8+fPUy6X73ufA/2gIMWjoQXiJEaP4g+G8EczjOZqFJs2Hr+JYfgIBgP4wxmGMgkGoyo8+wYvm+PEp3MUmzrBgQzJZIzwyQmKHT9VX4aj6QgDjKKor3HWc4jZloYVSJE5lGE47kdTFBTFIDIyx9FXffxlaoPdco+WYpKaOETUOY7aKDDXGyA1PkwmGiAQHWVk1kH3xwhO7pGv23RVk+jAOONT40wMBAnoHtTwMMnDr/LmTwfJNjy0/QmSmRSDMRO/oROYOsWzShRzYIqNQoO2FsQXGWBw5BCTo0lSIR+qM8b4c2/zRugYM3UdX2KEwYk0A6Yu7y1+arhYnRqV1c+5ruzRyiUxPRat3dvsrW+Sb3Rpdws4O/Nc/chhfz3N6kAIw+PgtgvU8hvcyra+NcTi6fNIPs9YC8SJBOI8MzLHM//SncdP89z4aZ77xg2vfO3PgzA1x+SL3/ZAKr7EBJnEBJlnH3Cg6VnM9CxTX9/UV/mThIeTnBn+5ggBCI0x9uwYY9+1TeMEc0MnmHv9Accl+obHc2/q60E+Lc21WnTz8yzm51n89H73sOk2dtm8ssvmle83DkVR8Hhkz/00kZ+mEA9IURS8Xm9fXOZI0zS8Xu+9NRHxVJAYC/GAfD4/hw5NkUymHvdQSCZTHDo09bu3xImnwePfxQvxhAgEApw+9Tz7+/vU67Uvr4H3qD7gXVGUe1eINgyOHp3m9KnnCQQCj2Tb4uBJjIV4QOFwmHfeeffe9AA88qtDa5r2R1eHPnv2TcLh8CPZtjh4EmMhHpCmacTjcU6ePE0waPLSy6/QajYf2RWiVVXFCATIpIc5enRaLkT6lJEYC/E9TUxMMDEx8biHIZ4ysoAnhBB9QGIshBB9QGIshBB9QGIshBB9QGIshBB9QGIshBB9QGIshBB9QGIshBB9QGIshBB9QGIshBB9QGIshBB9QGIshBB9QGIshBB9QGIshBB9QGIshBB9QGIshBB9QGIshBB9QGIshBB9QGIshBB9QGIshBB9QGIshBB9QGIshBB9QGIshBB9QPuuG23bptvtPqqxCCHEU8m27X/xPt8Z40ajQbvdfmgDEkKIH6I/Ocblcpl/+Id/IBaLPfRBCSHED1G5XKZcLn/r7Uo8Hncf4XiEEELchyzgCSFEH5AYCyFEH5AYCyFEH5AYCyFEH5AYCyFEH5AYCyFEH5AYCyFEH5AYCyFEH5AYCyFEH/j/7y4SU5MMeMYAAAAASUVORK5CYII=)\n",
        "\n",
        "**De esta manera, para insertar una variable, puedes agregar el operador en la cadena en el punto deseado. Luego del final de la cadena, agrega nuevamente el %, especificando la variable entre paréntesis.** Podemos ver esta estructura en el ejemplo siguiente:"
      ],
      "metadata": {
        "id": "RUWT_8CO6vZP"
      }
    },
    {
      "cell_type": "code",
      "source": [
        "nombre_alumno = 'Penélope Camacho'\n",
        "print('Nombre del alumno: %s' %(nombre_alumno))"
      ],
      "metadata": {
        "colab": {
          "base_uri": "https://localhost:8080/"
        },
        "id": "A5Xezb8Y7oRD",
        "outputId": "08c5f9b4-407b-4376-8874-9bd7d7f864cc"
      },
      "execution_count": 33,
      "outputs": [
        {
          "output_type": "stream",
          "name": "stdout",
          "text": [
            "Nombre del alumno: Penélope Camacho\n"
          ]
        }
      ]
    },
    {
      "cell_type": "markdown",
      "source": [
        "Si tienes más de una variable, debes ordenarlas según su aparición en el texto y separarlas por comas. Por ejemplo:"
      ],
      "metadata": {
        "id": "Qt113a-B794z"
      }
    },
    {
      "cell_type": "code",
      "source": [
        "nombre_alumno = 'Penélope Camacho'\n",
        "edad_alumno = 11\n",
        "media_alumno = 9.95\n",
        "print('Nombre del alumno es %s, tiene %d años y su media es %f.' %(nombre_alumno, edad_alumno, media_alumno))"
      ],
      "metadata": {
        "colab": {
          "base_uri": "https://localhost:8080/"
        },
        "id": "l6aKCfSm7-yf",
        "outputId": "c9697d30-e938-4cfc-8cb8-c3609a149f63"
      },
      "execution_count": 34,
      "outputs": [
        {
          "output_type": "stream",
          "name": "stdout",
          "text": [
            "Nombre del alumno es Penélope Camacho, tiene 11 años y su media es 9.950000.\n"
          ]
        }
      ]
    },
    {
      "cell_type": "markdown",
      "source": [
        "Cuando trabajamos con números de coma flotante (float), podemos determinar la cantidad de decimales después del punto utilizando la sintaxis %.xf, donde x es el número de decimales deseados. Utilizando las mismas variables del ejemplo anterior, el código con %.xf se vería ASÍ:"
      ],
      "metadata": {
        "id": "zt9yCnn88OpW"
      }
    },
    {
      "cell_type": "code",
      "source": [
        "print('Nombre del alumno es %s, tiene %d años y su media es %.2f.' %(nombre_alumno, edad_alumno, media_alumno))"
      ],
      "metadata": {
        "colab": {
          "base_uri": "https://localhost:8080/"
        },
        "id": "GUWKORTn8RHj",
        "outputId": "247c8c0d-cfe7-43c3-c988-1e5caf19cbc8"
      },
      "execution_count": 35,
      "outputs": [
        {
          "output_type": "stream",
          "name": "stdout",
          "text": [
            "Nombre del alumno es Penélope Camacho, tiene 11 años y su media es 9.95.\n"
          ]
        }
      ]
    },
    {
      "cell_type": "markdown",
      "source": [
        "Un detalle importante es que los operadores de formateo de cadena con % no funcionan directamente con valores booleanos. Una forma de manejarlo es convirtiendo el valor booleano en una cadena antes de utilizarlo en el formateo con la función str(). Por ejemplo:"
      ],
      "metadata": {
        "id": "yK7PPmFR8cmT"
      }
    },
    {
      "cell_type": "code",
      "source": [
        "x = True\n",
        "print(\"Valor de x: %s\" % str(x))"
      ],
      "metadata": {
        "colab": {
          "base_uri": "https://localhost:8080/"
        },
        "id": "1haXptXK-Ff4",
        "outputId": "aa4ffac3-972d-40b1-d5ab-4bf578064394"
      },
      "execution_count": 36,
      "outputs": [
        {
          "output_type": "stream",
          "name": "stdout",
          "text": [
            "Valor de x: True\n"
          ]
        }
      ]
    },
    {
      "cell_type": "markdown",
      "source": [
        "#Método .format():\n",
        "\n",
        "También es posible utilizar el método .format() para formatear cadenas. Es más flexible y permite pasar las variables directamente dentro de la cadena, sin necesidad de operadores %. Los marcadores son simplemente {}. Por ejemplo:"
      ],
      "metadata": {
        "id": "HUJHKTQq-GwZ"
      }
    },
    {
      "cell_type": "code",
      "source": [
        "nombre_alumno = 'Penélope Camacho'\n",
        "print('Nombre del alumno: {}'.format(nombre_alumno))"
      ],
      "metadata": {
        "colab": {
          "base_uri": "https://localhost:8080/"
        },
        "id": "aJM-tD11-PxM",
        "outputId": "3b2caf63-209f-43f3-b6e1-6f306fa81f15"
      },
      "execution_count": 37,
      "outputs": [
        {
          "output_type": "stream",
          "name": "stdout",
          "text": [
            "Nombre del alumno: Penélope Camacho\n"
          ]
        }
      ]
    },
    {
      "cell_type": "code",
      "source": [
        "#Del mismo modo que se hace con el operador, puedes usarlo con varias variables:"
      ],
      "metadata": {
        "id": "Nv3cND-y-S_o"
      },
      "execution_count": 38,
      "outputs": []
    },
    {
      "cell_type": "code",
      "source": [
        "nombre_alumno = 'Fabricio Daniel'\n",
        "edad_alumno = 15\n",
        "media_alumno = 9.95\n",
        "print('Nombre del alumno es {}, tiene {} años y su media es {}.' .format(nombre_alumno, edad_alumno, media_alumno))"
      ],
      "metadata": {
        "colab": {
          "base_uri": "https://localhost:8080/"
        },
        "id": "qi-k_UyL-UTW",
        "outputId": "00aba03b-1e7a-49b8-f76a-432f441cf803"
      },
      "execution_count": 39,
      "outputs": [
        {
          "output_type": "stream",
          "name": "stdout",
          "text": [
            "Nombre del alumno es Fabricio Daniel, tiene 15 años y su media es 9.95.\n"
          ]
        }
      ]
    },
    {
      "cell_type": "markdown",
      "source": [
        "Nota que con .format(), no tienes el problema de los decimales de coma flotante. Tampoco tienes este problema con las f-strings.\n",
        "\n",
        "En resumen, cada uno de estos métodos tiene sus ventajas y desventajas. Se recomienda utilizar f-strings, ya que son más legibles y fáciles de usar. Sin embargo, cada desarrollador puede elegir el método que le parezca más apropiado.\n",
        "\n",
        "#Caracteres Especiales:\n",
        "\n",
        "Además de la formateo de inserción de variables en una cadena, también existen caracteres especiales. Se utilizan para representar acciones especiales o caracteres que no se pueden escribir directamente, como el “Enter” y la tabulación. A continuación, presentamos algunos de ellos. Intenta replicar todos los ejemplos y observa el resultado final."
      ],
      "metadata": {
        "id": "-cGB_Twp-ZbH"
      }
    },
    {
      "cell_type": "markdown",
      "source": [
        "\\n es el carácter de nueva línea y se usa para saltar una línea en el texto (similar a la función \"Enter\"). Ejemplo:"
      ],
      "metadata": {
        "id": "o4pMfZHb-fjq"
      }
    },
    {
      "cell_type": "code",
      "source": [
        "print(\"Estudiar es un esfuerzo constante,\\nEs como cultivar una planta,\\nNecesitamos dedicación y paciencia,\\nPara ver madurar el fruto.\")"
      ],
      "metadata": {
        "colab": {
          "base_uri": "https://localhost:8080/"
        },
        "id": "1sCvNSBD-dBD",
        "outputId": "5740110c-227d-4b18-b016-b6aae822da64"
      },
      "execution_count": 40,
      "outputs": [
        {
          "output_type": "stream",
          "name": "stdout",
          "text": [
            "Estudiar es un esfuerzo constante,\n",
            "Es como cultivar una planta,\n",
            "Necesitamos dedicación y paciencia,\n",
            "Para ver madurar el fruto.\n"
          ]
        }
      ]
    },
    {
      "cell_type": "markdown",
      "source": [
        "\\t es el carácter de tabulación y se utiliza para agregar un espacio de tabulación en el texto. Ejemplo:"
      ],
      "metadata": {
        "id": "dj8K75aK-lvl"
      }
    },
    {
      "cell_type": "code",
      "source": [
        "print('Cantidad\\tCalidad\\n5 muestras\\tAlta\\n3 muestras\\tBaja')"
      ],
      "metadata": {
        "colab": {
          "base_uri": "https://localhost:8080/"
        },
        "id": "2R2zMyfr-i9I",
        "outputId": "72afd9ee-5066-4207-ca3a-146bb5494226"
      },
      "execution_count": 41,
      "outputs": [
        {
          "output_type": "stream",
          "name": "stdout",
          "text": [
            "Cantidad\tCalidad\n",
            "5 muestras\tAlta\n",
            "3 muestras\tBaja\n"
          ]
        }
      ]
    },
    {
      "cell_type": "markdown",
      "source": [
        "(dos) \\\\\\ se usa para imprimir una sola barra invertida. Si no se utiliza una doble barra invertida, el código podría generar un error o un resultado inesperado, ya que Python considera \\ como un carácter especial. Usamos esta sintaxis para garantizar que no ocurran errores. Ejemplo:\n",
        "\n"
      ],
      "metadata": {
        "id": "7FmtnARP-wgx"
      }
    },
    {
      "cell_type": "code",
      "source": [
        "print(\"Ruta del archivo: C:\\\\archivos\\\\documento.csv\")"
      ],
      "metadata": {
        "colab": {
          "base_uri": "https://localhost:8080/"
        },
        "id": "btQzXF5F-yQc",
        "outputId": "067fe7f0-1b32-4cb6-c472-91f3e28e5591"
      },
      "execution_count": 42,
      "outputs": [
        {
          "output_type": "stream",
          "name": "stdout",
          "text": [
            "Ruta del archivo: C:\\archivos\\documento.csv\n"
          ]
        }
      ]
    },
    {
      "cell_type": "markdown",
      "source": [
        "# (una) \\\\\" se utiliza para imprimir comillas dobles cuando estamos trabajando con una cadena creada con comillas dobles \" en el interior. Sin embargo, esto no es necesario si la cadena se crea con comillas simples '. Ejemplo:*italicized text*"
      ],
      "metadata": {
        "id": "6bnc7S82-85u"
      }
    },
    {
      "cell_type": "code",
      "source": [
        "print(\"Una vez oí: \\\"Los frutos del conocimiento son los más dulces y duraderos de todos.\\\"\")"
      ],
      "metadata": {
        "colab": {
          "base_uri": "https://localhost:8080/"
        },
        "id": "yZGQuLUe--Ib",
        "outputId": "1da1c654-7ca4-41b3-b4eb-43d58dc068a7"
      },
      "execution_count": 43,
      "outputs": [
        {
          "output_type": "stream",
          "name": "stdout",
          "text": [
            "Una vez oí: \"Los frutos del conocimiento son los más dulces y duraderos de todos.\"\n"
          ]
        }
      ]
    },
    {
      "cell_type": "markdown",
      "source": [
        "(una) \\\\' se utiliza para imprimir comillas simples cuando estamos trabajando con una cadena creada con comillas simples '. Si la cadena se crea con comillas dobles \", esto no es necesario. Ejemplo:"
      ],
      "metadata": {
        "id": "_X3t860D_dSF"
      }
    },
    {
      "cell_type": "code",
      "source": [
        "print('Mi profesora una vez dijo: \\'Estudiar es la clave del éxito.\\'')"
      ],
      "metadata": {
        "colab": {
          "base_uri": "https://localhost:8080/"
        },
        "id": "Dd-OnoeN_hb1",
        "outputId": "9b6b0ab3-5760-4b32-e7cf-abf298378a54"
      },
      "execution_count": 44,
      "outputs": [
        {
          "output_type": "stream",
          "name": "stdout",
          "text": [
            "Mi profesora una vez dijo: 'Estudiar es la clave del éxito.'\n"
          ]
        }
      ]
    },
    {
      "cell_type": "markdown",
      "source": [
        "- - -\n",
        "##Recopilación y muestra de datos\n",
        "\n",
        "1 - Crea un programa que solicite al usuario que escriba su nombre y luego imprima \"Hola, [nombre].\"\n",
        "\n",
        "2 - Crea un programa que solicite al usuario que escriba su nombre y edad, y luego imprima \"Hola, [nombre], tienes [edad] años.\"\n",
        "\n",
        "3 - Crea un programa que solicite al usuario que escriba su nombre, edad y altura en metros, y luego imprima \"Hola, [nombre], tienes [edad] años y mides [altura] metros.\"\n",
        "\n",
        "##Calculadora con operadores\n",
        "\n",
        "4 - Crea un programa que solicite dos valores numéricos al usuario y luego imprima la suma de ambos valores.\n",
        "\n",
        "5 - Crea un programa que solicite tres valores numéricos al usuario y luego imprima la suma de los tres valores.\n",
        "\n",
        "6 - Crea un programa que solicite dos valores numéricos al usuario y luego imprima la resta del primero menos el segundo valor.\n",
        "\n",
        "7 - Crea un programa que solicite dos valores numéricos al usuario y luego imprima la multiplicación de los dos valores.\n",
        "\n",
        "8 - Crea un programa que solicite dos valores numéricos, un numerador y un denominador, y realice la división entre los dos valores. Asegúrate de que el valor del denominador no sea igual a 0.\n",
        "\n",
        "9 - Crea un programa que solicite dos valores numéricos, un operador y una potencia, y realice la exponenciación entre estos dos valores.\n",
        "\n",
        "10 - Crea un programa que solicite dos valores numéricos, un numerador y un denominador, y realice la división entera entre los dos valores. Asegúrate de que el valor del denominador no sea igual a 0.\n",
        "\n",
        "11 - Crea un programa que solicite dos valores numéricos, un numerador y un denominador, y devuelva el resto de la división entre los dos valores. Asegúrate de que el valor del denominador no sea igual a 0.\n",
        "\n",
        "12 - Crea un código que solicite las 3 notas de un estudiante e imprima el promedio de las notas.\n",
        "\n",
        "13 - Crea un código que calcule e imprima el promedio ponderado de los números 5, 12, 20 y 15 con pesos respectivamente iguales a 1, 2, 3 y 4.\n",
        "\n",
        "##Editando textos\n",
        "\n",
        "14 - Crea una variable llamada \"frase\" y asígnale una cadena de texto de tu elección. Luego, imprime la frase en pantalla.\n",
        "\n",
        "15 - Crea un código que solicite una frase y luego imprima la frase en pantalla.\n",
        "\n",
        "16 - Crea un código que solicite una frase al usuario y luego imprima la misma frase ingresada pero en mayúsculas.\n",
        "\n",
        "17 - Crea un código que solicite una frase al usuario y luego imprima la misma frase ingresada pero en minúsculas.\n",
        "\n",
        "18 - Crea una variable llamada \"frase\" y asígnale una cadena de texto de tu elección. Luego, imprime la frase sin espacios en blanco al principio y al final.\n",
        "\n",
        "19 - Crea un código que solicite una frase al usuario y luego imprima la misma frase sin espacios en blanco al principio y al final.\n",
        "\n",
        "20 - Crea un código que solicite una frase al usuario y luego imprima la misma frase sin espacios en blanco al principio y al final, además de convertirla a minúsculas.\n",
        "\n",
        "21 - Crea un código que solicite una frase al usuario y luego imprima la misma frase con todas las vocales \"e\" reemplazadas por la letra \"f\".\n",
        "\n",
        "22 - Crea un código que solicite una frase al usuario y luego imprima la misma frase con todas las vocales \"a\" reemplazadas por el carácter \"@\".\n",
        "\n",
        "23 - Crea un código que solicite una frase al usuario y luego imprima la misma frase con todas las consonantes \"s\" reemplazadas por el carácter \"$\".##"
      ],
      "metadata": {
        "id": "aERGzOlY_3Kd"
      }
    },
    {
      "cell_type": "code",
      "source": [
        "# 1 RECOPILACIÓN Y DATOS:\n",
        "nombre = input(\"Escribe tu nombre: \")"
      ],
      "metadata": {
        "colab": {
          "base_uri": "https://localhost:8080/"
        },
        "id": "99ZrkVoD_6JH",
        "outputId": "1433054b-eefc-4e2a-d3a7-5c99865146bc"
      },
      "execution_count": 56,
      "outputs": [
        {
          "name": "stdout",
          "output_type": "stream",
          "text": [
            "Escribe tu nombre: Mich\n"
          ]
        }
      ]
    },
    {
      "cell_type": "code",
      "source": [
        "print(f\"Hola {nombre}\")"
      ],
      "metadata": {
        "colab": {
          "base_uri": "https://localhost:8080/"
        },
        "id": "66diZbK-D4bJ",
        "outputId": "b7456ae5-5024-4083-8b4b-3d46aee30cbd"
      },
      "execution_count": 48,
      "outputs": [
        {
          "output_type": "stream",
          "name": "stdout",
          "text": [
            "Hola Mich\n"
          ]
        }
      ]
    },
    {
      "cell_type": "code",
      "source": [
        "# 2\n",
        "name = input(\"Escribe tu nombre: \")\n",
        "age = int(input(\"Dame tu edad: \"))"
      ],
      "metadata": {
        "colab": {
          "base_uri": "https://localhost:8080/"
        },
        "id": "gU3uvXVrAGIN",
        "outputId": "d900d65b-df71-4f75-e390-41a2b50aa370"
      },
      "execution_count": 53,
      "outputs": [
        {
          "name": "stdout",
          "output_type": "stream",
          "text": [
            "Escribe tu nombre: Mich\n",
            "Dame tu edad: 28\n"
          ]
        }
      ]
    },
    {
      "cell_type": "code",
      "source": [
        "print(f\"Hola, {name}, tienes {age} años.\")"
      ],
      "metadata": {
        "colab": {
          "base_uri": "https://localhost:8080/"
        },
        "id": "E46F3vpnEWhY",
        "outputId": "aec6ea70-27db-4bea-b31d-0c994f556422"
      },
      "execution_count": 50,
      "outputs": [
        {
          "output_type": "stream",
          "name": "stdout",
          "text": [
            "Hola, Michi, tienes 29 años.\n"
          ]
        }
      ]
    },
    {
      "cell_type": "code",
      "source": [
        "# 3\n",
        "name = input(\"Escribe tu nombre: \")\n",
        "age = int(input(\"Dame tu edad: \"))\n",
        "height = float(input(\"Cuál es tu estatura? \"))"
      ],
      "metadata": {
        "colab": {
          "base_uri": "https://localhost:8080/"
        },
        "id": "LAu1MF9UFsbi",
        "outputId": "d47e08f0-82af-4340-fb5f-5fdf164d079e"
      },
      "execution_count": 52,
      "outputs": [
        {
          "name": "stdout",
          "output_type": "stream",
          "text": [
            "Escribe tu nombre: Michi\n",
            "Dame tu edad: 29\n",
            "Cuál es tu estatura? 1.59\n"
          ]
        }
      ]
    },
    {
      "cell_type": "code",
      "source": [
        "print(f\"Hola {name}, tienes {age} años, y mides {height}\")"
      ],
      "metadata": {
        "colab": {
          "base_uri": "https://localhost:8080/"
        },
        "id": "uvDiWgVaGkPU",
        "outputId": "fce59d39-5c5a-4129-89a8-241dfa9addee"
      },
      "execution_count": 54,
      "outputs": [
        {
          "output_type": "stream",
          "name": "stdout",
          "text": [
            "Hola Mich, tienes 28 años, y mides 1.59\n"
          ]
        }
      ]
    },
    {
      "cell_type": "code",
      "source": [
        "# 4 - CALCULADORA\n",
        "print(\"sumemos números: \")\n",
        "num1= int(input(\"Dame un número del 1 al 10: \"))\n",
        "num2= int(input(\"Dame otro número del 1 al 10: \"))\n",
        "print(\"la suma de los valores es: \", num1 + num2)"
      ],
      "metadata": {
        "colab": {
          "base_uri": "https://localhost:8080/"
        },
        "id": "2u6jPdJ0Gkaa",
        "outputId": "a4c327c0-1321-4943-ab7e-85c538781202"
      },
      "execution_count": 60,
      "outputs": [
        {
          "output_type": "stream",
          "name": "stdout",
          "text": [
            "sumemos números: \n",
            "Dame un número del 1 al 10: 6\n",
            "Dame otro número del 1 al 10: 6\n",
            "la suma de los valores es:  12\n"
          ]
        }
      ]
    },
    {
      "cell_type": "code",
      "source": [
        "# 5\n",
        "print(\"sumemos números: \")\n",
        "num1= int(input(\"Dame un número del 1 al 10: \"))\n",
        "num2= int(input(\"Dame otro número del 1 al 10: \"))\n",
        "num3= int(input(\"Dame otro número del 1 al 10: \"))\n",
        "\n",
        "print(\"la suma de los valores es: \", num1 + num2 + num3)"
      ],
      "metadata": {
        "colab": {
          "base_uri": "https://localhost:8080/"
        },
        "id": "HAA0BXgkGkkg",
        "outputId": "6283f153-148d-437a-fdce-4fffd7015edb"
      },
      "execution_count": 64,
      "outputs": [
        {
          "output_type": "stream",
          "name": "stdout",
          "text": [
            "sumemos números: \n",
            "Dame un número del 1 al 10: 1\n",
            "Dame otro número del 1 al 10: 2\n",
            "Dame otro número del 1 al 10: 3\n",
            "la suma de los valores es:  6\n"
          ]
        }
      ]
    },
    {
      "cell_type": "code",
      "source": [
        "# 6 - CALCULADORA\n",
        "print(\"restemos números: \")\n",
        "num1= int(input(\"Dame un número del 1 al 10: \"))\n",
        "num2= int(input(\"Dame otro número del 1 al 10: \"))\n",
        "print(\"la resta de los valores es: \", num1 - num2)"
      ],
      "metadata": {
        "colab": {
          "base_uri": "https://localhost:8080/"
        },
        "id": "DylFitUFGktj",
        "outputId": "01ba605f-acf0-4aca-b999-7bdfb36a3f84"
      },
      "execution_count": 65,
      "outputs": [
        {
          "output_type": "stream",
          "name": "stdout",
          "text": [
            "restemos números: \n",
            "Dame un número del 1 al 10: 10\n",
            "Dame otro número del 1 al 10: 2\n",
            "la resta de los valores es:  8\n"
          ]
        }
      ]
    },
    {
      "cell_type": "code",
      "source": [
        "# 7 - CALCULADORA\n",
        "print(\"multipliquemos números: \")\n",
        "num1= int(input(\"Dame un número del 1 al 10: \"))\n",
        "num2= int(input(\"Dame otro número del 1 al 10: \"))\n",
        "print(\"El resultado de los valores es: \", num1 * num2)"
      ],
      "metadata": {
        "colab": {
          "base_uri": "https://localhost:8080/"
        },
        "id": "spjVKq7CGk3S",
        "outputId": "32ef3112-3e6b-4dd2-9b84-ee8a98c6993a"
      },
      "execution_count": 67,
      "outputs": [
        {
          "output_type": "stream",
          "name": "stdout",
          "text": [
            "multipliquemos números: \n",
            "Dame un número del 1 al 10: 4\n",
            "Dame otro número del 1 al 10: 2\n",
            "El resultado de los valores es:  8\n"
          ]
        }
      ]
    },
    {
      "cell_type": "code",
      "source": [
        "# 8 - CALCULADORA\n",
        "print(\" Dividamos números y veamos su 'sobrante': \")\n",
        "dividendo= int(input(\"Dame un número del 1 al 10: \"))\n",
        "divisor= int(input(\"Dame otro número del 1 al 10: \"))\n",
        "print(\"El resultado de los valores es: \", dividendo % divisor)"
      ],
      "metadata": {
        "colab": {
          "base_uri": "https://localhost:8080/"
        },
        "id": "c5XRkHcQGlBu",
        "outputId": "e5b32e5f-e31c-4131-ad83-bccd0ea73ecc"
      },
      "execution_count": 72,
      "outputs": [
        {
          "output_type": "stream",
          "name": "stdout",
          "text": [
            " Dividamos números y veamos su 'sobrante': \n",
            "Dame un número del 1 al 10: 11\n",
            "Dame otro número del 1 al 10: 2\n",
            "El resultado de los valores es:  1\n"
          ]
        }
      ]
    },
    {
      "cell_type": "code",
      "source": [
        "# 9 - CALCULADORA\n",
        "print(\" ¿Quieres conocer su exponente? \")\n",
        "operador= int(input(\"Dame un número del 1 al 10: \"))\n",
        "potencia= int(input(\"Dame otro número del 1 al 10: \"))\n",
        "print(\"El resultado de los valores es: \", operador ** potencia)"
      ],
      "metadata": {
        "colab": {
          "base_uri": "https://localhost:8080/"
        },
        "id": "oqSdTYJSGlL2",
        "outputId": "fe175977-67ff-405c-e0ad-a0bf230bc711"
      },
      "execution_count": 74,
      "outputs": [
        {
          "output_type": "stream",
          "name": "stdout",
          "text": [
            " ¿Quieres conocer su exponente? \n",
            "Dame un número del 1 al 10: 2\n",
            "Dame otro número del 1 al 10: 2\n",
            "El resultado de los valores es:  4\n"
          ]
        }
      ]
    },
    {
      "cell_type": "code",
      "source": [
        "# 11 - CALCULADORA\n",
        "print(\" Dividamos números \")\n",
        "divisor = int(input(\"Dame otro número del 1 al 10: \"))\n",
        "dividendo = int(input(\"Dame un número del 1 al 10: \"))\n",
        "\n",
        "if dividendo == 0:\n",
        "    print(\"Err0r, vuelve a empezar y dame OTRO número más grande.\")\n",
        "print(\"El resultado de los valores es: \", dividendo % divisor)"
      ],
      "metadata": {
        "colab": {
          "base_uri": "https://localhost:8080/"
        },
        "id": "ASFTBpHFGlU2",
        "outputId": "1cc36c1b-b08e-422e-9ad0-d31ac9d5d6e0"
      },
      "execution_count": 82,
      "outputs": [
        {
          "output_type": "stream",
          "name": "stdout",
          "text": [
            " Dividamos números \n",
            "Dame otro número del 1 al 10: 2\n",
            "Dame un número del 1 al 10: 10\n",
            "El resultado de los valores es:  0\n"
          ]
        }
      ]
    },
    {
      "cell_type": "code",
      "source": [
        "#12\n",
        "print(\"Sacando promedio: \")\n",
        "nota1= float(input(\"Dame una calificación del 1 al 10: \"))\n",
        "nota2= float(input(\"Dame otra calificación del 1 al 10: \"))\n",
        "nota3= float(input(\"Dame otra calificación del 1 al 10: \"))\n",
        "\n",
        "print(f'Media {(nota1+nota2+nota3)/3}')"
      ],
      "metadata": {
        "colab": {
          "base_uri": "https://localhost:8080/"
        },
        "id": "IfEN7iM7Glcz",
        "outputId": "7969124a-de5f-4682-96a6-ca2ad7f55d2b"
      },
      "execution_count": 85,
      "outputs": [
        {
          "output_type": "stream",
          "name": "stdout",
          "text": [
            "Sacando promedio: \n",
            "Dame una calificación del 1 al 10: 8\n",
            "Dame otra calificación del 1 al 10: 9\n",
            "Dame otra calificación del 1 al 10: 10\n",
            "Media 9.0\n"
          ]
        }
      ]
    },
    {
      "cell_type": "code",
      "source": [
        "#14 - EDITANDO TEXTOS\n",
        "frase = \"A la grande le puse Cuca\"\n",
        "print(frase)"
      ],
      "metadata": {
        "colab": {
          "base_uri": "https://localhost:8080/"
        },
        "id": "w-ob6UulGlk5",
        "outputId": "8fb49ecc-5884-46e5-f7df-bd04b4d53fb9"
      },
      "execution_count": 86,
      "outputs": [
        {
          "output_type": "stream",
          "name": "stdout",
          "text": [
            "A la grande le puse Cuca\n"
          ]
        }
      ]
    },
    {
      "cell_type": "code",
      "source": [
        "#15 - EDITANDO TEXTOS\n",
        "frase = input(\"Dame una frase: \")\n",
        "print(frase)"
      ],
      "metadata": {
        "colab": {
          "base_uri": "https://localhost:8080/"
        },
        "id": "LuhiP7GZbALr",
        "outputId": "9bc50ce0-db57-4169-a4df-85bb132d903a"
      },
      "execution_count": 87,
      "outputs": [
        {
          "output_type": "stream",
          "name": "stdout",
          "text": [
            "Dame una frase: Lalo Landa\n",
            "Lalo Landa\n"
          ]
        }
      ]
    },
    {
      "cell_type": "code",
      "source": [
        "#16 - EDITANDO TEXTOS\n",
        "frase = input(\"Dame una frase: \")\n",
        "print(frase.upper())"
      ],
      "metadata": {
        "colab": {
          "base_uri": "https://localhost:8080/"
        },
        "id": "HDxakLaxbAXL",
        "outputId": "58af8730-64ab-4655-9a3b-5c72af7a3329"
      },
      "execution_count": 89,
      "outputs": [
        {
          "output_type": "stream",
          "name": "stdout",
          "text": [
            "Dame una frase: Tomaco\n",
            "TOMACO\n"
          ]
        }
      ]
    },
    {
      "cell_type": "code",
      "source": [
        "#17 - EDITANDO TEXTOS\n",
        "frase = input(\"Dame una frase: \")\n",
        "print(frase.lower())"
      ],
      "metadata": {
        "colab": {
          "base_uri": "https://localhost:8080/"
        },
        "id": "hlpmsy99bAiY",
        "outputId": "b9d333d1-99fc-4f20-ba3a-6c23511182b2"
      },
      "execution_count": 91,
      "outputs": [
        {
          "output_type": "stream",
          "name": "stdout",
          "text": [
            "Dame una frase: perfecTiriJILLO\n",
            "perfectirijillo\n"
          ]
        }
      ]
    },
    {
      "cell_type": "code",
      "source": [
        "#18 - EDITANDO TEXTOS\n",
        "frase = input(\"Dame una frase: \")\n",
        "print(frase.strip())"
      ],
      "metadata": {
        "colab": {
          "base_uri": "https://localhost:8080/"
        },
        "id": "_whHILuTbAtk",
        "outputId": "9d90f4a8-b6cc-4279-a8c8-4cb06e93240a"
      },
      "execution_count": 94,
      "outputs": [
        {
          "output_type": "stream",
          "name": "stdout",
          "text": [
            "Dame una frase: '  mi mamá dice   que soy súper   '   \n",
            "'  mi mamá dice   que soy súper   '\n"
          ]
        }
      ]
    },
    {
      "cell_type": "code",
      "source": [
        "#19 - EDITANDO TEXTOS\n",
        "frase = input(\"Dame una frase: \")\n",
        "print(frase.strip())"
      ],
      "metadata": {
        "colab": {
          "base_uri": "https://localhost:8080/"
        },
        "id": "8OkGIyiIbA6L",
        "outputId": "6353a5a7-dcc1-47bb-84c7-e8bc5fec74bf"
      },
      "execution_count": 95,
      "outputs": [
        {
          "output_type": "stream",
          "name": "stdout",
          "text": [
            "Dame una frase:     que raro, no debí escuchar eso     \n",
            "que raro, no debí escuchar eso\n"
          ]
        }
      ]
    },
    {
      "cell_type": "code",
      "source": [
        "#19 - EDITANDO TEXTOS\n",
        "frase = input(\"Dame una frase: \")\n",
        "print(frase.strip().lower())"
      ],
      "metadata": {
        "colab": {
          "base_uri": "https://localhost:8080/"
        },
        "id": "UoNbtdDxbBGy",
        "outputId": "1bb863a8-4574-481f-851d-fc4b8c586361"
      },
      "execution_count": 96,
      "outputs": [
        {
          "output_type": "stream",
          "name": "stdout",
          "text": [
            "Dame una frase: Atómico!     \n",
            "atómico!\n"
          ]
        }
      ]
    },
    {
      "cell_type": "code",
      "source": [
        "#21 - EDITANDO TEXTOS\n",
        "frase = input(\"Dame una frase: \")\n",
        "print(frase.strip().replace('e', 'f'))"
      ],
      "metadata": {
        "colab": {
          "base_uri": "https://localhost:8080/"
        },
        "id": "i3ySP2-SbBSX",
        "outputId": "47872c03-83ae-4caf-855d-5c4e66cfcbff"
      },
      "execution_count": 97,
      "outputs": [
        {
          "output_type": "stream",
          "name": "stdout",
          "text": [
            "Dame una frase: Eructito hijo, se dice eructito   \n",
            "Eructito hijo, sf dicf fructito\n"
          ]
        }
      ]
    },
    {
      "cell_type": "code",
      "source": [
        "#22 - EDITANDO TEXTOS\n",
        "frase = input(\"Dame una frase: \")\n",
        "print(frase.strip().replace('a', '@'))"
      ],
      "metadata": {
        "colab": {
          "base_uri": "https://localhost:8080/"
        },
        "id": "FlZ5r5yzbBeo",
        "outputId": "443c7ddc-b010-4abd-f271-60b9ac7b92ee"
      },
      "execution_count": 1,
      "outputs": [
        {
          "output_type": "stream",
          "name": "stdout",
          "text": [
            "Dame una frase: A la grande le puse Cuca    \n",
            "A l@ gr@nde le puse Cuc@\n"
          ]
        }
      ]
    },
    {
      "cell_type": "code",
      "source": [
        "#23 - EDITANDO TEXTOS\n",
        "frase = input(\"Dame una frase: \")\n",
        "print(frase.strip().replace('s', '$'))"
      ],
      "metadata": {
        "colab": {
          "base_uri": "https://localhost:8080/"
        },
        "id": "3Lc_N77rbBrm",
        "outputId": "cad06cdd-f3c9-414c-b5e4-d6b82c7d27b0"
      },
      "execution_count": 2,
      "outputs": [
        {
          "output_type": "stream",
          "name": "stdout",
          "text": [
            "Dame una frase: Estaba la pajara pinta, sentada en la sombra de un verde limón  \n",
            "E$taba la pajara pinta, $entada en la $ombra de un verde limón\n"
          ]
        }
      ]
    },
    {
      "cell_type": "markdown",
      "source": [
        "- - -\n",
        "- - -\n",
        "#OPERADORES RELACIONALES:\n",
        "\n",
        "\n",
        "\n",
        "*   Mayor que (>)\n",
        "\n",
        "Devuelve verdadero si el valor a la izquierda del símbolo es mayor que el de la derecha. Su sintaxis, valor_1 > valor_2, representa una comparación que solo será verdadera si valor_1 es mayor que valor_2. Con este operador relacional, podemos verificar si una persona es mayor que otra al comparar sus edades,\n",
        "\n",
        "*   Menor que (<)\n",
        "\n",
        "Devuelve verdadero si el valor a la izquierda del símbolo es menor que el de la derecha. Su sintaxis es valor_1 < valor_2. Esta comparación solo será verdadera si valor_1 es menor que valor_2. Con este operador relacional, también podemos verificar si una persona es menor que otra al comparar sus edades\n",
        "\n",
        "* Mayor o igual a (>=)\n",
        "\n",
        "Devuelve verdadero si el valor a la izquierda del símbolo es mayor o igual al valor a la derecha. Su sintaxis es valor_1 >= valor_2. Esta comparación solo será verdadera si valor_1 es mayor o igual a valor_2. Con este operador relacional, podemos verificar, por ejemplo, si una empresa tiene una cantidad mayor o igual a la de otra\n",
        "\n",
        "* Menor o igual a (<=)\n",
        "\n",
        "Devuelve verdadero si el valor a la izquierda del símbolo es menor o igual al valor de la derecha. Su sintaxis es valor_1 <= valor_2. Esta comparación solo será verdadera si valor_1 es menor o igual a valor_2. Con este operador relacional, podemos verificar si una empresa tiene una cantidad menor o igual a otra.\n",
        "\n",
        "* gual a (==)\n",
        "\n",
        "Devuelve verdadero si el valor a la izquierda del símbolo es igual al valor de la derecha. Su sintaxis, valor_1 == valor_2, representa una comparación que solo será verdadera si valor_1 es igual a valor_2. Con este operador relacional, podemos verificar si dos libros tienen el mismo título mediante una comparación de cadenas.\n",
        "\n",
        "* Diferente de (!=)\n",
        "\n",
        "Devuelve verdadero si el valor a la izquierda del símbolo es diferente del valor a la derecha. Su sintaxis, valor_1 != valor_2, representa una comparación que solo será verdadera si valor_1 es diferente de valor_2. Este operador es el inverso de ==. Con él, podemos verificar si dos libros tienen títulos diferentes mediante una comparación de cadenas, como se muestra a continuación:\n",
        "\n",
        "libro_1 = input('Ingrese el título del 1° libro: ')\n",
        "libro_2 = input('Ingrese el título del 2° libro: ')\n",
        "\n",
        "if libro_1 != libro_2:\n",
        "  print('Los libros tienen títulos diferentes.')\n"
      ],
      "metadata": {
        "id": "luHC9Tkzx_F8"
      }
    },
    {
      "cell_type": "code",
      "source": [
        "# if - elif - else   &&  Operadores lógicos apartir de tablas de verdd."
      ],
      "metadata": {
        "id": "L9A82dSpbClX"
      },
      "execution_count": 1,
      "outputs": []
    },
    {
      "cell_type": "markdown",
      "source": [
        "#Entrenando la programación\n",
        "\n",
        "1 - Escribe un programa que pida a la persona usuaria que proporcione dos números y muestre el número más grande.\n",
        "\n",
        "2 - Escribe un programa que solicite el porcentaje de crecimiento de producción de una empresa e informe si hubo un crecimiento (porcentaje positivo) o una disminución (porcentaje negativo).\n",
        "\n",
        "3 - Escribe un programa que determine si una letra proporcionada por la persona usuaria es una vocal o una consonante.\n",
        "\n",
        "4 - Escribe un programa que lea valores promedio de precios de un modelo de automóvil durante 3 años consecutivos y muestre el valor más alto y más bajo entre esos tres años.\n",
        "\n",
        "5 - Escribe un programa que pregunte sobre el precio de tres productos e indique cuál es el producto más barato para comprar.\n",
        "\n",
        "6 - Escribe un programa que lea tres números y los muestre en orden descendente.\n",
        "\n",
        "7 -Escribe un programa que pregunte en qué turno estudia la persona usuaria (\"mañana\", \"tarde\" o \"noche\") y muestre el mensaje \"¡Buenos Días!\", \"¡Buenas Tardes!\", \"¡Buenas Noches!\" o \"Valor Inválido!\", según el caso.\n",
        "\n",
        "8 - Escribe un programa que solicite un número entero a la persona usuaria y determine si es par o impar. Pista: Puedes usar el operador módulo (%).\n",
        "\n",
        "9 - Escribe un programa que pida un número a la persona usuaria y le informe si es entero o decimal.\n",
        "\n",
        "\n",
        "#Momento de los proyectos\n",
        "\n",
        "10 - Un programa debe ser escrito para leer dos números y luego preguntar a la persona usuaria qué operación desea realizar. El resultado de la operación debe incluir información sobre el número, si es par o impar, positivo o negativo, e entero o decimal.\n",
        "\n",
        "11 - Escribe un programa que pida a la persona usuaria tres números que representan los lados de un triángulo. El programa debe informar si los valores pueden utilizarse para formar un triángulo y, en caso afirmativo, si es equilátero, isósceles o escaleno. Ten en cuenta algunas sugerencias:\n",
        "\n",
        "Tres lados forman un triángulo cuando la suma de cualesquiera dos lados es mayor que el tercero;\n",
        "Triángulo Equilátero: tres lados iguales;\n",
        "Triángulo Isósceles: dos lados iguales;\n",
        "Triángulo Escaleno: tres lados diferentes.\n",
        "\n",
        "12 - Un establecimiento está vendiendo combustibles con descuentos variables. Para el etanol, si la cantidad comprada es de hasta 15 litros, el descuento será del 2% por litro. En caso contrario, será del 4% por litro. Para el diésel, si la cantidad comprada es de hasta 15 litros, el descuento será del 3% por litro. En caso contrario, será del 5% por litro. El precio por litro de diésel es de R$ 2,00 y el precio por litro de etanol es de R$ 1,70. Escribe un programa que lea la cantidad de litros vendidos y el tipo de combustible (E para etanol y D para diésel) y calcule el valor a pagar por el cliente. Ten en cuenta algunas sugerencias:\n",
        "\n",
        "El valor del descuento será el producto del precio por litro, la cantidad de litros y el valor del descuento.\n",
        "El valor a pagar por un cliente será el resultado de la multiplicación del precio por litro por la cantidad de litros menos el valor del descuento resultante del cálculo.\n",
        "\n",
        "13 - En una empresa de venta de bienes raíces, debes crear un código que analice los datos de ventas anuales para ayudar a la dirección en la toma de decisiones. El código debe recopilar los datos de cantidad de ventas durante los años 2022 y 2023 y calcular la variación porcentual. A partir del valor de la variación, se deben proporcionar las siguientes sugerencias:\n",
        "\n",
        "Para una variación superior al 20%: bonificación para el equipo de ventas.\n",
        "Para una variación entre el 2% y el 20%: pequeña bonificación para el equipo de ventas.\n",
        "Para una variación entre el 2% y el -10%: planificación de políticas de incentivo a las ventas.\n",
        "Para bonificaciones inferiores al -10%: recorte de gastos."
      ],
      "metadata": {
        "id": "GmP10fYv5Mxs"
      }
    },
    {
      "cell_type": "code",
      "source": [
        "#1.\n",
        "num_1 = int(input('Dame un número: '))\n",
        "num_2 = int(input('Dame otro número: '))\n",
        "\n",
        "if num_1 < num_2:\n",
        "    print(f'El número {num_1}, es menor que el otro.')\n",
        "elif num_1 == num_2:\n",
        "    print('Ambos  núumeros son iguales :D ')\n",
        "else:\n",
        "    print(f'El número {num_1} es mayor que el otro.')"
      ],
      "metadata": {
        "colab": {
          "base_uri": "https://localhost:8080/"
        },
        "id": "940-T7RYbCvb",
        "outputId": "450b7e95-c783-4b05-ce15-d8ac52595aab"
      },
      "execution_count": 4,
      "outputs": [
        {
          "output_type": "stream",
          "name": "stdout",
          "text": [
            "Dame un número: 5\n",
            "Dame otro número: 5\n",
            "Ambos  núumeros son iguales :D \n"
          ]
        }
      ]
    },
    {
      "cell_type": "code",
      "source": [
        "#3.\n",
        "letter = input('Dame una letra: ')\n",
        "vowel = 'a, e, i, o, u'\n",
        "\n",
        "if letter in vowel:\n",
        "    print(f'Tu letra {letter} es vocal.')\n",
        "else:\n",
        "    print(f'tu letra {letter} es consonante.')"
      ],
      "metadata": {
        "colab": {
          "base_uri": "https://localhost:8080/"
        },
        "id": "xTRmUc_o5ySI",
        "outputId": "3c7e7ede-b22e-4233-d0ed-58c695f29ead"
      },
      "execution_count": 7,
      "outputs": [
        {
          "output_type": "stream",
          "name": "stdout",
          "text": [
            "Dame una letra: r\n",
            "tu letra r es consonante.\n"
          ]
        }
      ]
    },
    {
      "cell_type": "code",
      "source": [
        "#4.\n",
        "\n",
        "num_1 = float(input('Dame el precio del carro del primer año: '))\n",
        "num_2 = float(input('Dame el precio del carro del segundo año: '))\n",
        "num_3 = float(input('Dame el precio del carro del tercer año: '))\n",
        "\n",
        "if num_1 >= num_2 and num_1 >= num_3:\n",
        "    precio_mas_alto = num_1\n",
        "elif num_2 >= num_1 and num_2 >= num_3:\n",
        "    precio_mas_alto = num_2\n",
        "else:\n",
        "    precio_mas_alto = num_3\n",
        "\n",
        "if num_1 <= num_2 and num_1 <= num_3:\n",
        "    precio_mas_bajo = num_1\n",
        "elif num_2 <= num_1 and num_1 <= num_3:\n",
        "    precio_mas_bajo = num_2\n",
        "else:\n",
        "    precio_mas_bajo = num_3\n",
        "\n",
        "print(f'el precio más alto {precio_mas_alto}')\n",
        "print(f'el precio más bajo {precio_mas_bajo}')"
      ],
      "metadata": {
        "colab": {
          "base_uri": "https://localhost:8080/"
        },
        "id": "hKb5m25g5ydY",
        "outputId": "b114a77c-77a8-4a43-f97f-052542fcc1f7"
      },
      "execution_count": 13,
      "outputs": [
        {
          "output_type": "stream",
          "name": "stdout",
          "text": [
            "Dame el precio del carro del primer año: 500\n",
            "Dame el precio del carro del segundo año: 100\n",
            "Dame el precio del carro del tercer año: 50\n",
            "el precio más alto 500.0\n",
            "el precio más bajo 50.0\n"
          ]
        }
      ]
    },
    {
      "cell_type": "code",
      "source": [
        "#6\n",
        "num_1 = float(input('Dame el precio A: '))\n",
        "num_2 = float(input('Dame el precio B: '))\n",
        "num_3 = float(input('Dame el precio C: '))\n",
        "\n",
        "if num_1 >= num_2 and num_1 >= num_3:\n",
        "    precio_mas_alto = num_1\n",
        "elif num_2 >= num_1 and num_2 >= num_3:\n",
        "    precio_mas_alto = num_2\n",
        "else:\n",
        "    precio_mas_alto = num_3\n",
        "\n",
        "if num_1 <= num_2 and num_1 <= num_3:\n",
        "    precio_mas_bajo = num_1\n",
        "elif num_2 <= num_1 and num_1 <= num_3:\n",
        "    precio_mas_bajo = num_2\n",
        "else:\n",
        "    precio_mas_bajo = num_3\n",
        "\n",
        "if precio_mas_alto >= precio_mas_bajo:\n",
        "    print(f'el precio más alto {precio_mas_alto}')\n",
        "if precio_mas_bajoprint(f'el precio más bajo {precio_mas_bajo}')"
      ],
      "metadata": {
        "id": "r8xfNVmT5yqV"
      },
      "execution_count": null,
      "outputs": []
    },
    {
      "cell_type": "markdown",
      "source": [
        "---\n",
        "# Otros operadores\n",
        "![image.png](data:image/png;base64,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)"
      ],
      "metadata": {
        "id": "Vawdp6ucgxqN"
      }
    },
    {
      "cell_type": "code",
      "source": [
        "#Ciclo FOR y WHILE"
      ],
      "metadata": {
        "id": "4tcpzyQb5zBU"
      },
      "execution_count": 14,
      "outputs": []
    },
    {
      "cell_type": "markdown",
      "source": [
        "#Diferencias:\n",
        "\n",
        "##Resumen\n",
        "##En el ciclo WHILE, tú controlas el contador y la condición. Si no incrementas el contador, el ciclo puede volverse infinito.\n",
        "En el ciclo while se ejecuta mientras la condición contador <= 3 sea verdadera.\n",
        "\n",
        "*   Esto significa que el ciclo continuará pidiendo las notas y calculando el promedio hasta que el valor de contador sea mayor que 3. La línea contador += 1 es crucial porque incrementa el valor de contador en 1 en cada iteración. Sin esta línea, el valor de contador nunca cambiaría y el ciclo se volvería infinito, ya que siempre cumpliría la condición de ser menor o igual a 3.\n",
        "\n",
        "\n",
        "##En el ciclo FOR, el contador es manejado automáticamente por Python, y se ejecuta un número específico de veces según el rango que especifiques.\n",
        "\n",
        "*   Con el ciclo for, estás utilizando range(1, 4), que genera una secuencia de números desde 1 hasta 3 (el 4 no se incluye). Esto significa que el ciclo for se ejecutará exactamente 3 veces, sin necesidad de una condición adicional. Cada vez que se itera, i toma el valor de 1, 2 y 3, respectivamente.\n",
        "\n",
        "\n",
        "\n",
        "\n"
      ],
      "metadata": {
        "id": "wUhhswIOnzJ0"
      }
    },
    {
      "cell_type": "code",
      "source": [],
      "metadata": {
        "id": "NZQO2Nj55zud"
      },
      "execution_count": null,
      "outputs": []
    },
    {
      "cell_type": "code",
      "source": [],
      "metadata": {
        "id": "oCJaRlUz5z5q"
      },
      "execution_count": null,
      "outputs": []
    },
    {
      "cell_type": "code",
      "source": [],
      "metadata": {
        "id": "3WeSTK2e50Ee"
      },
      "execution_count": null,
      "outputs": []
    },
    {
      "cell_type": "code",
      "source": [],
      "metadata": {
        "id": "ZZb1nAf250Qv"
      },
      "execution_count": null,
      "outputs": []
    },
    {
      "cell_type": "code",
      "source": [],
      "metadata": {
        "id": "qjmF97dT50dX"
      },
      "execution_count": null,
      "outputs": []
    },
    {
      "cell_type": "code",
      "source": [],
      "metadata": {
        "id": "c5RBxFZh50qo"
      },
      "execution_count": null,
      "outputs": []
    },
    {
      "cell_type": "code",
      "source": [],
      "metadata": {
        "id": "ZtQsBrMR503t"
      },
      "execution_count": null,
      "outputs": []
    },
    {
      "cell_type": "code",
      "source": [],
      "metadata": {
        "id": "42NBuNkW51GI"
      },
      "execution_count": null,
      "outputs": []
    },
    {
      "cell_type": "code",
      "source": [],
      "metadata": {
        "id": "GWkqraNc51T2"
      },
      "execution_count": null,
      "outputs": []
    },
    {
      "cell_type": "code",
      "source": [],
      "metadata": {
        "id": "1KErjmXDbC7A"
      },
      "execution_count": null,
      "outputs": []
    },
    {
      "cell_type": "markdown",
      "source": [],
      "metadata": {
        "id": "tAMVJsHpbDWE"
      }
    },
    {
      "cell_type": "code",
      "source": [],
      "metadata": {
        "id": "fR5oJSgnbEIj"
      },
      "execution_count": null,
      "outputs": []
    },
    {
      "cell_type": "code",
      "source": [],
      "metadata": {
        "id": "JOXarTplbETt"
      },
      "execution_count": null,
      "outputs": []
    },
    {
      "cell_type": "code",
      "source": [],
      "metadata": {
        "id": "Igbgte_9bEei"
      },
      "execution_count": null,
      "outputs": []
    },
    {
      "cell_type": "code",
      "source": [],
      "metadata": {
        "id": "nEM-oOF1bEpu"
      },
      "execution_count": null,
      "outputs": []
    },
    {
      "cell_type": "code",
      "source": [],
      "metadata": {
        "id": "IiBsnGx9bE06"
      },
      "execution_count": null,
      "outputs": []
    }
  ]
}