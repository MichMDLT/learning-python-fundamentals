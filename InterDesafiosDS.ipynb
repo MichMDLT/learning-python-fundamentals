{
  "nbformat": 4,
  "nbformat_minor": 0,
  "metadata": {
    "colab": {
      "provenance": [],
      "authorship_tag": "ABX9TyMivcBPxIVHTAzHBSTsJkv2",
      "include_colab_link": true
    },
    "kernelspec": {
      "name": "python3",
      "display_name": "Python 3"
    },
    "language_info": {
      "name": "python"
    }
  },
  "cells": [
    {
      "cell_type": "markdown",
      "metadata": {
        "id": "view-in-github",
        "colab_type": "text"
      },
      "source": [
        "<a href=\"https://colab.research.google.com/github/MichMDLT/learning-python-fundamentals/blob/main/InterDesafiosDS.ipynb\" target=\"_parent\"><img src=\"https://colab.research.google.com/assets/colab-badge.svg\" alt=\"Open In Colab\"/></a>"
      ]
    },
    {
      "cell_type": "markdown",
      "source": [
        "#[Página de Alura](https://www.aluracursos.com/)"
      ],
      "metadata": {
        "id": "w7UZIPTwFMQS"
      }
    },
    {
      "cell_type": "markdown",
      "source": [
        "##1 - Imprime la frase \"Escuela de Datos de Alura\"."
      ],
      "metadata": {
        "id": "BrVv30S038ai"
      }
    },
    {
      "cell_type": "code",
      "execution_count": 5,
      "metadata": {
        "colab": {
          "base_uri": "https://localhost:8080/"
        },
        "id": "m2SbmOKq1CrZ",
        "outputId": "df6cb1e2-5086-498b-e184-8de83dffaa6d"
      },
      "outputs": [
        {
          "output_type": "stream",
          "name": "stdout",
          "text": [
            "Escuela de Datos de  Alura\n"
          ]
        }
      ],
      "source": [
        "print(\"Escuela de Datos de  Alura\")"
      ]
    },
    {
      "cell_type": "markdown",
      "source": [
        "## 2 - Imprime tu nombre y tu apellido siguiendo la estructura a continuación:\n",
        "###Nombre: [tu nombre]\n",
        "###Apellido: [tu apellido]"
      ],
      "metadata": {
        "id": "H8N_-ZPm4Ic-"
      }
    },
    {
      "cell_type": "code",
      "source": [
        "nombre = \"Cynthia Michelle\"\n",
        "apellido = \"Mtz\"\n",
        "print(\"Nombre: \"+ nombre +\n",
        "      \" Apellido: \"+ apellido)"
      ],
      "metadata": {
        "colab": {
          "base_uri": "https://localhost:8080/"
        },
        "id": "_6ZDfpNg1Ur9",
        "outputId": "3ab52ce4-46b5-463c-ea2e-3f3c2064f8fe"
      },
      "execution_count": 6,
      "outputs": [
        {
          "output_type": "stream",
          "name": "stdout",
          "text": [
            "Nombre: Cynthia Michelle Apellido: Mtz\n"
          ]
        }
      ]
    },
    {
      "cell_type": "code",
      "source": [
        "#Si ves, hay un salto de línea entre\n",
        " #nombre y apellido,\n",
        " #para lograr un print y se vea como lo requerido,\n",
        " #usa \\n"
      ],
      "metadata": {
        "id": "H9JXyroO4gND"
      },
      "execution_count": 7,
      "outputs": []
    },
    {
      "cell_type": "code",
      "source": [
        "print(\"Nombre: \" + nombre +\"\\nApellido: \" + apellido)"
      ],
      "metadata": {
        "colab": {
          "base_uri": "https://localhost:8080/"
        },
        "id": "AnmFV4iR5CBR",
        "outputId": "71bd0404-d8f8-4443-d9df-4626fb533b85"
      },
      "execution_count": 8,
      "outputs": [
        {
          "output_type": "stream",
          "name": "stdout",
          "text": [
            "Nombre: Cynthia Michelle\n",
            "Apellido: Mtz\n"
          ]
        }
      ]
    },
    {
      "cell_type": "code",
      "source": [
        "#O bien usa el f srting:"
      ],
      "metadata": {
        "id": "uaVwql1v581k"
      },
      "execution_count": 9,
      "outputs": []
    },
    {
      "cell_type": "code",
      "source": [
        "print(f\"Nombre: {nombre} \\nApellido: {apellido}\")"
      ],
      "metadata": {
        "colab": {
          "base_uri": "https://localhost:8080/"
        },
        "id": "1i8dOpkX6mjb",
        "outputId": "5206ac49-eecc-4774-82b2-e3a8933c3871"
      },
      "execution_count": 10,
      "outputs": [
        {
          "output_type": "stream",
          "name": "stdout",
          "text": [
            "Nombre: Cynthia Michelle \n",
            "Apellido: Mtz\n"
          ]
        }
      ]
    },
    {
      "cell_type": "markdown",
      "source": [
        "## 3 - Imprime tu primer nombre letra por letra. Por ejemplo, si mi nombre es Álvaro, la salida sería:\n",
        "Á\n",
        "L\n",
        "V\n",
        "A\n",
        "R\n",
        "O"
      ],
      "metadata": {
        "id": "5i5OaJTI7Or3"
      }
    },
    {
      "cell_type": "code",
      "source": [
        "print('C')\n",
        "print('y')\n",
        "print('n')\n",
        "print('t')\n",
        "print('h')\n",
        "print('i')\n",
        "print('a')"
      ],
      "metadata": {
        "colab": {
          "base_uri": "https://localhost:8080/"
        },
        "id": "sVQKsMT17iyh",
        "outputId": "263f031a-f241-4837-df51-5e3c24dc6cfe"
      },
      "execution_count": 11,
      "outputs": [
        {
          "output_type": "stream",
          "name": "stdout",
          "text": [
            "C\n",
            "y\n",
            "n\n",
            "t\n",
            "h\n",
            "i\n",
            "a\n"
          ]
        }
      ]
    },
    {
      "cell_type": "markdown",
      "source": [
        "## 4 - Imprime tu fecha de nacimiento en formato día mes año. Recuerda que los valores de día y año no deben estar entre comillas. Suponiendo una fecha de cumpleaños el 28 de febrero de 2003, el formato debe ser como el siguiente:\n",
        "\n",
        "28 febrero 2003"
      ],
      "metadata": {
        "id": "lWd6cZzu9DCE"
      }
    },
    {
      "cell_type": "code",
      "source": [
        "day = 18\n",
        "month = \"diciembre\"\n",
        "year = 1993"
      ],
      "metadata": {
        "id": "2YxfsVjF-Dtu"
      },
      "execution_count": 12,
      "outputs": []
    },
    {
      "cell_type": "code",
      "source": [
        "print(f\" {day} {month} {year}\")"
      ],
      "metadata": {
        "colab": {
          "base_uri": "https://localhost:8080/"
        },
        "id": "mw3_jA4e-OlF",
        "outputId": "cae4f90a-3309-4653-e862-d0b72f329bb2"
      },
      "execution_count": 13,
      "outputs": [
        {
          "output_type": "stream",
          "name": "stdout",
          "text": [
            " 18 diciembre 1993\n"
          ]
        }
      ]
    },
    {
      "cell_type": "code",
      "source": [
        "# o bien:"
      ],
      "metadata": {
        "id": "eZWkBzoY_Ngt"
      },
      "execution_count": 14,
      "outputs": []
    },
    {
      "cell_type": "code",
      "source": [
        "print(18, \"diciembre\", 1993)"
      ],
      "metadata": {
        "colab": {
          "base_uri": "https://localhost:8080/"
        },
        "id": "yap_YC4v_PPf",
        "outputId": "8cbc5add-26fd-40ea-d253-b53ca8f8c747"
      },
      "execution_count": 15,
      "outputs": [
        {
          "output_type": "stream",
          "name": "stdout",
          "text": [
            "18 diciembre 1993\n"
          ]
        }
      ]
    },
    {
      "cell_type": "markdown",
      "source": [
        "## 5 - Imprime, en una sola instrucción print, el año actual en el que estás realizando este curso. El valor del año debe ser un dato numérico, y la salida de print debe ser la siguiente:\n",
        "\n",
        "Año actual: [año]"
      ],
      "metadata": {
        "id": "8ppQwuBh9zVO"
      }
    },
    {
      "cell_type": "code",
      "source": [
        "anio = 2025"
      ],
      "metadata": {
        "id": "fruepRL6-ARP"
      },
      "execution_count": 16,
      "outputs": []
    },
    {
      "cell_type": "code",
      "source": [
        "print(f\"Año actual: {anio}\")"
      ],
      "metadata": {
        "colab": {
          "base_uri": "https://localhost:8080/"
        },
        "id": "jiFCQipi-oNq",
        "outputId": "fe025f3e-2b9b-4ab4-8133-a4a1d48cea68"
      },
      "execution_count": 17,
      "outputs": [
        {
          "output_type": "stream",
          "name": "stdout",
          "text": [
            "Año actual: 2025\n"
          ]
        }
      ]
    },
    {
      "cell_type": "code",
      "source": [
        "#O bien:"
      ],
      "metadata": {
        "id": "91LFcfjN_X4f"
      },
      "execution_count": 18,
      "outputs": []
    },
    {
      "cell_type": "code",
      "source": [
        "print(\"Año actual: \", 2025)"
      ],
      "metadata": {
        "colab": {
          "base_uri": "https://localhost:8080/"
        },
        "id": "oEk7X3ZH_aDV",
        "outputId": "210281f3-2e17-4eb5-c3e0-439c14974f2b"
      },
      "execution_count": 19,
      "outputs": [
        {
          "output_type": "stream",
          "name": "stdout",
          "text": [
            "Año actual:  2025\n"
          ]
        }
      ]
    },
    {
      "cell_type": "code",
      "source": [
        "# ~~~~~~~~~~~~~~~~~~~~~~~~~~~~~~~~~~~~~~~~~~~~~~~~~~~~~~~~~~~~~~~~~~~~~~~~~~~~~~~~~"
      ],
      "metadata": {
        "id": "wYY3Oj6NZ-Y1"
      },
      "execution_count": 20,
      "outputs": []
    },
    {
      "cell_type": "markdown",
      "source": [
        "## Exponenciación (**)\n",
        "\n",
        "Podemos elevar un número a una potencia específica utilizando el operador **. Para obtener este resultado, definimos un valor a la izquierda del operador y la potencia deseada del número a la derecha. Por ejemplo, sabemos que 2 elevado a la 3 es igual a 8 (2 * 2 * 2 = 8). Para realizar este cálculo, escribimos:\n"
      ],
      "metadata": {
        "id": "RNOLYRPDZ0si"
      }
    },
    {
      "cell_type": "code",
      "source": [
        "print(2**3)"
      ],
      "metadata": {
        "colab": {
          "base_uri": "https://localhost:8080/"
        },
        "id": "lj_mbfjYaI3z",
        "outputId": "e8a8e022-4587-4d80-b055-82b0ab14d2dd"
      },
      "execution_count": 21,
      "outputs": [
        {
          "output_type": "stream",
          "name": "stdout",
          "text": [
            "8\n"
          ]
        }
      ]
    },
    {
      "cell_type": "code",
      "source": [
        "operador = 2\n",
        "potencia = 3\n",
        "print(operador ** potencia)"
      ],
      "metadata": {
        "colab": {
          "base_uri": "https://localhost:8080/"
        },
        "id": "oL9vlTliaWGu",
        "outputId": "5f2b3d2f-cede-4098-8e93-15a2afd47245"
      },
      "execution_count": 22,
      "outputs": [
        {
          "output_type": "stream",
          "name": "stdout",
          "text": [
            "8\n"
          ]
        }
      ]
    },
    {
      "cell_type": "markdown",
      "source": [
        "## Módulo (%)\n",
        "\n",
        "El operador de módulo % puede devolver el **residuo de una división entera** entre dos números. Recuerda que el residuo de una división es el número que queda cuando la **división no es exacta**.\n",
        "\n",
        "Para calcular el módulo de una división, colocamos el dividendo a la izquierda del operador % y el divisor a la derecha. Por ejemplo, para encontrar el residuo de la división de 7 entre 3, podemos ejecutar los siguientes códigos:\n",
        "\n",
        "![image.png](data:image/png;base64,iVBORw0KGgoAAAANSUhEUgAAASsAAACoCAIAAAA3lV8hAAAdjklEQVR4Ae1dL4+rTheeb4CoqUQ0lU3qqkhugiW5fANShWn6DVhZU1GDa1KLqMOikRhETV0NBkMQJAjevX1+e14u0G7/Q++eEbt0mDlzeIaHM3/PiIIDI8AItIeAaK9oLpkRYAQKZiC/BIxAmwgwA9tE/9uyoyiiNK7rimPo9XqGYXieR7f44n0RYAZ2se7SNF2v1/1+XwiR5zlUjOM4OAbP8xaLxWazIdUpDcXwxbsgwAzsXE1tt1shxHA4dF03juNv9UvTVFGUMiG/zcIJuoMAM7A7dfGfJu4xXKUWGqiapiVJclVGTtw6AszA1qvgMQpkWWYYhhBiv98/RiJLeQkCzMCXwPxdIbvd7iHNSNu2D4fDd6Xx/Q4hwAxsvzKSJBFCWJbVviqswcsRYAa+HPJagYqiGIZRi+aIH4EAM7DlanYcRwhBIyhRFB0Oh/I04Lf6ZVmGXCSkKApd17fb7bd5OUHrCDADW64C27Zd14USaI4KIVRVvUStJEksyxqNRpipl2XZNE30A0HsLMsukcNpWkSAGdgi+NWiMZgphNA0rXqv9juKIkmSwL3KXwyHDgYDx3Fq+TiiWwgwAztRH2mamqZJRLqEgURXWZaXy6Vt28PhEBJGo1FRFJvNRgiu307U7xkluIbOgPPcW1hKluf5drsdDAZEv0tsYBzHlD4MQyh6OBwocr/fx3Fsmmaaps99DJZ+HwLMwPvwuyO34ziGYdB6ayHEeDwGhb61gfv9nixeWYXJZAIJQRCU4/m6swgwA1urmvl8vlgsPM8TQkiS5Louri+xgY1Kp2latoGNaTiyawgwA1urkclkst1ufd9frVaYSCB7+K0NbFR6tVqBgegHNqbhyK4hwAxsrUaEEJU9fvcwkPIKIWh6IwiC+Xze2hNywRcgwAy8AKTnJBFC+L5flk0sutYGUkYhhGmaJNPzPFmW6SdfdBABZmBrlVKfLiciXcVATL6j/WkYRnm3ruu63CJtrYIvK5gZeBlOL0l1AwMx6Qf6TafTMv0wJXjh8pqXPB8X0oAAM7ABlLairmUgdtODfo39vfkxtPU4XO4lCDADL0HpKWmyLLtnJCYMQ3DvzM4mIYRt27R6pt/vj0YjRVFUVeUJw6dU6vVCmYHXY/agHFjCUt5Qe5UN/PXrFzFQ1/XpdGp8BV3Xd7tdURRBEMDTjO/7NN2PXK7r1juiD3oyFnMFAszAK8B6eFJVVW3bJrGXMzAIAqJf40WjiSt3GpFL13XXdcvbmkgZvngNAszA1+DcXAooR/eIgd8OnywWi0biUSQtFiXhuEjTdDabrddrWMjFYoHVbcPh0Lbt3W5XGcupZC+KAksIlstlZSqlnrIe43neDbnqcv6lGGZgy7XZ7/fJDCZJsj+GctO0Ub8oipCy8e/hcPA878w23wrNDoeD4zi6roPA8/n8VPbZbCaE0HVd0zQhROPwT6PCiByPx9Pp9EyCyq39fq8oypkHqaR/x5/MwJZrLQzDS5yCXqVlFEX1BTeXSEjT1Pd9y7JARVVVN5sNOV/D0CsZMbRpydgGQeC6bqX163me67r0QQnDkKTtdrty+jiO9/s9RqeoCJh63/fxyUAWKvGSJ+p+GmZg9+voag1lWb7WOtXLOBwO6/Uamy1ACcMwhsNhPWVRFBhuhWGElcvzfDgcSpJUliBJkq7rRVHYto0F6EKIxWJRFAXWFSjHIIRYrVb4juBbEMfxer2uZGnU5O0imYFdqbKHbOSD19DJZPLAp6JxGlVVwZ+KcGzpgPXDHInneTCYaEDato27g8EAq3bAMSJeHMdIj2STyURRlKIoEJkeA2WB7f1nmqbMwMrr1NpPTCXcWfzhcFBVlThzp7RKdl3Xx+MxRWZZhjkP7MlAoXmegyq2bfd6vcpnZTAYTKfT/X5PI0a4CMMQo1DglaZpYCAMYxzHu92ukqXS3CWt3u6CGdiVKkuSZDweD4dD6jV1RbMvPdAOpI7ccrkUQux2O/AEamPzvuM4sFTo4tIQ6HA4NAwDabCBgxzDlW1mhYFJkqBFWsnypdd7/2cGdqv+MApScTQ4m81M07Qsa7VaVZbRFEWRJMlms3nB9Hqe5zQEio4fepvYGTyZTBzHmUwmw+Hwc84DNDMMA1SEP+J+v492rK7rkiSBumgzlxmoqmo5crFYRFFUz9KtmrtVG2bgrchdli9JksM1IYoiuGzabDbwAno4HCzLMk0TjUCYHYjc7XaLxQIe04IguKacP2lvaKzmee44zmw2m8/ntAuxKIo4jpfLpWmay+WShnb3+z00J4f8lmVh6iXLss+xFtM0F4sFvh2+75umibzL5RLDM2maQgImKitZLquBrqdiBj63hmiSrdKNufanJEm9Xu+Ue8JrpSF9v99/7sOz9AsQYAZeANIdSVRVdRwnyzIM6J36m2UZZp993y8njuPY9/1Pe2iapqZps9ksz3MIiaLI87zhMcBEnBJ+Kv6Ox+KsD0OAGXgdlKAK5XFd9/PIh4+PD8/zqPVFd4uiUFW10qkr373/Os9zdB3r/cP7hbOEFyDADLwU5DRNMfonSRLlCcNwtVrN53O06+pk+5aBD2GO4zj3T8HTQ/HFKxFgBl6ENmarJpPJGcLsdru6GTzPQAwA0vj+Rapwon8LAWbgRfW5Wq3q9u1MzjAMMbl8hoGYmD5D6TPy+dY/gwAz8MaqxO6EutGDuPl8LklSmqaapp2i7nA4pFM7gyBYr9eWZcGH7w2Te3BMePRKwe4Jb6zTVrIxA8/B3kiw9XpdPuZhPB432jFs4VEUpZGBWD+ZZVkcx4qi1KcTrlp1laZpr9cjIVflPff8fO/5CDADT2IMklRWAJ+a36M9fiQuz3NZloUQjQykZHTSgxCi3+8Ti4QQly9Pw7Y95B0MBt9u8KXS+aJ1BJiBJ6tAURRqJSIRVlHhRbcsa7PZkBMkIUR9QAW+JM4wkA6KkCTJ933s0CVOVko/pSjtrIdi2PiDNdOnsnB8dxBgBjbXBchT6Y9hVSQckFG2xki6++vXrzMMJNv18fFBWYhRl/jtpWN3yXh6nqdpGi0EI7F80U0EmIHN9WKaZmWGLcuy6XQ6mUx6vV7Z3H18fODtL7OIhNbHQjE8gxbmfr/HVrqyyfJ9HwJ///5Nck5doFUsSRJ9CMrLNU/l4vjuIMAMbK6L7XZ74XgGNUQbzY6qqhVKYBKisnGurATN73/bCsV0ohDCcRxyLVEpriyZrzuIADPwrkopew0sG0YS+vv379FoVB4s9X2/vKqGUuKCeoZCiPMOUciJAxqrxFtmYAXSjv9kBt5eQeVToytNVhKKVuJqtaIYx3FOjVVS+/OMG2ySQ6OyaNBWGOg4zuVDqSSTL16PADPwRszLrhZkWa6M2ZBQ8AS73RBp23YjA8vWrzEBycSRLOgrOo6D+Eor9DZfaeUi+Po1CDADG3De7/e6rp8iVVEUYRjSVj1Jks5YGzBwuVxSMXEcV+YYi6Kg8U+4AztTdFEU1P6UZTk4hjAMqTu6XC7RNiaff1Q0X3QQAWZgQ6WgeXlqC3n5yBRZls/QrygKMJAsVUNhf9OvcgBgY/pyY5UmIeoXjf3SRoEc2SICzMAG8OH4pHEgpNz3m0wmZ4Y0IRcMPDOsWh7Lmc1mDdrUoi5kYOOSupowjmgZAWZgcwUYhlHuvCFRlmWj0QjWBu70mjOXYsHAUsSfyyiKYGCTJMHKNSGELMu7v8MpIxZFkeM421JwXZfmAy3Lms/no9Go4pq+ogP/7AgCzMDmikDHrHIPO3TBwPF4jLXX2jGoqorjUCpZNE2rT+tpmoZ1pFhBVm9AXkVylEgjMZ7nwYNgRRP+2U0EmIHN9ZIfQ/lekiTl/Qd12ly4JgauoDElSEtA69KEEN+OiJbVo9mIM4vgyun5uiMIMAMvrYhyh62RMHVbd8pPDBZzuq47n8/N06HeDD6j62azmR4DD4GeQamDt5iB31QKTQxkWRadDZWxU8yJ19eForyPj4/Hnu5Aj8EDMATFW1wwA7+pJv0YvklUu00ne53aI5+mqW3bDx8swYmc+/3+/PxHTV+OaA0BZuBJ6LMsm8/n2+12MpmMx+P6NHpjzizLMCiCGQhFUV5GBsxSYBLFsixJkniNaGMddSqSGdhcHb7vy7KMQw4+fUlgI98lgxyGYQwGA5pIWCwWZyYDm8u+KRYTlTQem+c5nF/8+vWrvC78Jtmc6YkIMAOr4OZ5TuOKRCScn17exYdzGqIoCsOw/IrHcXxV2zIMw8FgcH/nTVXVylBQeeVqZX9G9Zn5d3sIMAP/wr683OTUdgdMqZdnJk6dLPuX6NM/ptOpECIIgjRNkyT5dp1No6RG2qM7ipHbxiU+jaI48pUIMAP/Qpus37eOkvI8xxrr2whTLjXP8/LEYK/Xm06nZXtbTly+xmFJ5Zj6NRblCCEapyvr6TnmxQgwA/8CnHwxvfJ9bfRWKIQ4M7OHg8Eu4VUURdvtFtspdF1vNJV/QcA/XosAM/D/eGMlWhiGOLvv/zeeebVYLGh+H8frjcdjxPT7fcdxfN/f7XY0LUlLw3Vdv6phmaapoiiyLN/f53wmHj9ONjPwvypHD7A8pvKCd4F8igohaOYgTVNyHDoYDLB0mxqlWZadOqfpEoVxPChJuyQLp3kqAszAP/DudjshRKOrpaeiH0WRpmngW9k0/f79G2YQ8x+V1TZ3qgSre6aJe6d8zn4VAszAAu268jb2qxB8RmJqiD6JJ+juvmypwDMg+mdk/nQGxnF8iVukV9Z32WPFY61f+SnQ6r5q8Xc5O18/CoEfzUB0w0zTfBSa98spu8Aoe1i7X3JdAqbsTdPkAdI6OC+L+dEMVI/hNVjHcRwEQfgVgiAoL7iBDmX6KYryAmLEcSzLsqIoNNb6GjS4FELg5zLQMAxZlgmIZ1+Ul6dglKXilL68HGcwGLySEvCzdt7l1LPx+bHyfygD4e+9PPz47DegzkDDMKjQsrNQRVFeqRh0eNkKcnpkvgACP5SBWZbdv5rsqncIw4/9ryBJEvU/y41PTdNerNhVT8GJH47AD2Xgw3G8WSAGYxvbpTfLvC1jFEW2ba+/Qnlxgm3bp+ZFPM+rn17qOE45+1X6NAq8SsJ7JWYGtlxfWKQCBhqGAV+D82OYzWan3vtnKA1HOIqi/P79GyvF0U7O81zTtFOTh6vVqtKhLYpiOBxOp9PblMTi+NvyvmMuZmCbtUaLPMHA+t9T7/0zlAYDacEapiVhyoIgiKJot9vRFyFNUyyO2+/3tAXZ8zzLsoIgUBSF2ti+7+O8YYwtxXHs+34cx8vl0rZtmvAMw9CyLHiv+lxxjgeM43i9XluWdbNFfQZQj5X5lgyMosj/CuXVyVmWoXYbMQqCgF6vxgSvj6QDAOvcQ8zrGUh0KopCCIFNkkKI1WoFTmLIdL1eCyGSJIENL4oCvk8/Pj7gOxgMxPjTarUaH0NRFOD5aDRarVbkkRGRuq7T7rCi+G+tkqIocNN6Zrvm6yvugSW+JQPr44r4NmOK+dT3UpKk8vDjA0G8WRS22O92O0wTli9w/cpBUdCgzMB+v4/GJBgITmIZzWg0Aseo0fi56wJe9+HzH9eyLFuWlWUZCcewE+oIDnWKooATEMCIqZGiKEgynWzTtQ/ozfVezvjGDNztdnEcHw4HbEJNkiTPc9/3kyQ5HA707mZZhs92GIaYBM/zPAzD+pw4Iinj5wc+iiLMpL9gcrxcK61cE0mo9IoNLIpisVgMBgNMXYKr4Eme50II8lIzmUxmsxmoiEOmer2eLMue54GBaLngAPCiKAzDIPfEREu4JIcyWDp/6ttKCr/jxRszkKgC0+e6Lvah+r5vmiZ540QbpiiKwWCAL7qqqkIIvBnYD5EkCS2Gpq2xsLTD4VAIQWW9Yx1fqDMYSHYGNMOeKbKB6LhOJpN+vw+xZKmGwyGsIvwRwwb2+314r9nv967r5nle5jmRjYTQaVONNrC+iujCR+tysn+BgahybKsFf/ChxUdaCIGGU7/fN00TdMWSS3ySP/2+oDMDQ4e3IcsyzOAtl8tyV7PLdXmnbuCGLMvj8RifJzAK9o32jqCbRzu5qB8IuObzOcZR8bHDVwxMG41G1A9E1RADUSmqqsJlDkZiwPZPHzwwla/0WnAnkldl/xcYiCk1YiDaKsPhEGNoQgh8O6lXQ65TVFVFB5J6NUVRYHkKnN5+6y3mKqw7nvhwOCwWi+UxrFYrGvZE45N+BkGwWCxoDNN1XSKn7/uLxcL3/e0x4HmRfrvdYiz0cDhYlgXnq57n0eaMw+GwWq222y3SI2+SJI7jQGbH0btZvTdmIL0EaC+FYYivJhi42WwkSdI0jToYxMAoikAwOGjJskxRFE3TACLGJ3FC2A9pf9789nDG+xF4YwauVqvPthCaKBjkLDOQ1pqQ9wdJkuCDDBsCfd/XdR2OBsE6GnAvj6Tf2QO0bVv/CjjnrPxXVVWlFuCiG8P35/+ORiO5FLDXnoZD7n85WMILEHhLBuLAStg3TdPW6zW6cIfDYTKZUHtpsVhomkbDmHQoJ7inqurnsUXki97zPF3XVVWlNVYo5U4GYo2VfQybpuBcFrbbrdsUvL+D7/u8xeEFtHlgEW/JwAc+P4tiBNpFgBnYLv5c+k9HgBn4098Afv52EWAGtov/n9KxaMvzvCAIbut2xnGMTuI/OWfdfg09UwNm4DPRvUB2EATknxersW8YzKQZzhvyXqAjJ3kiAszAJ4L7rWgsd6xvjLiKSOV16rRU5duiOUFHEGAGtlkRZLtM09ztdtjgA0Je6KsCU6DEYWZgm9V5U9nMwJtge0QmrCMHeaj7h1Xj5WMkzhf169cvol8rjvfPq8d3v0WAGfgtRM9KQL6xaRtHURTYt0rbgs6XTTYTGziYgefh6uZdZmBr9UL8Ke8bxg4D2jx+RjnqQ87nczoCjVuhZxDr5i1mYGv1ghWtFXNHhnE8Hp/XjM79zLKMGXgeqy7fZQa2VjvYHVc5N4YYOBwOaUVrXUVsOxZCYCMIkZltYB2rjscwA1uroPMMHI1GpxhIHn7JeREzsLVavLtgZuDdEN4qgGgDhw4QQ97TTrVCsyyDQ41er4ctkVEUYV8/fElEUUQ7J29VjfO9DgFm4OuwrpTUOBJD0+u0sbiSiwwgHEmUpyLomtuiFdC6/JMZ2Frt0GktZXNHYypwcFRXjhhIfKtfXLWkpl4Ex7wSAWbgK9H+q6zyjDytqIabIxpi+SvD8cenI8bZbAa39vSXcmmaNp/P/0mvfnUo/o0YZmCb9UiuwRRF+fS2WD5D4iq1yHK+0sf2VRpy4lMIMANPIfOK+LIZLDcmrzViNKjDPcBXVNtDy2AGPhTO64VFUQQ/7WCgoijk5+ZyYavVanQM2+328lycsgsIMAO7UAtFFEWHY7hZm/wYbs7OGdtCgBnYFvJcLiPwBwFmIL8HjECbCDAD20Sfy2YEmIH8DjACbSLADGwTfS6bEWAG8jvACLSJADOwTfS5bEaAGcjvACPQJgLMwDbRf2DZtm0vl0veFfFASF8jihn4GpyfW8p6vcaitvF4fGpn/XM1YOm3IsAMvBW5zuTDIey0rJQZ2JmauUgRZuBFMHU5EZxWMAO7XEdndGMGngHnDW6Rh19m4BvUVpOKzMAmVN4kjpz2TiYTuI1RFIVboW9Se/+pyQx8r/r6v7bkNG04HAZBwDbw/9C81RUz8K2qq6QseabwfZ9OUGIbWELoPS6Zge9RTxUtyejBaS8NhzIDK0B1/yczsNN1tNlsNE3Tv4KmafDFhF6fLMvo9ZVtYKefh5WrIcAMrEHSpQhywYRuHrxiU+RqtQrDMAgCOm1iPB77vh8EQZcegnU5hwAz8Bw6rd+jsyWIgcvl8vfv3/Tz1EXrmrMCFyLADLwQqHaShWG43W7dr7Ddbne7HZ1bdop+QnC1tlNfN5TKVXUDaC1n8Tzvi5L//ad1oaPRCFEtq8jFX4wAM/BiqDqckEdiOlw536jGDPwGoLe4TbMRk8mE18S8RZWRksxAguKNL6IowoTFfD5nBr5XRTID36u+WNt/DQFm4L9Wo/w874UAM/C96ou1/dcQYAZ2tEbjOMZZLqf+7mtht9uFYYi/4VcITgc6NrSjEPwMtZiBHa3n8s73MzPvp27JsnzqlhCi1+sJIU4dVd9RRP5RtZiBHa3YLMvSEyHLMtd1R6PRer0OgiCO4zRNs2NI03Q4HAoh4DQtz3PEV/4i/lFPjtN/zWOYzWa2bcdxfLnwzWZTH8Kdz+c/xO8bM/DyV+VtUmKh9ng8PhwOL1AanjJ0XTeOQQghSdLl5TYyUAhhmublQt43JTPwberOtu3FYlFXF6d/VsxOlmWmaS6Xy3r6h8fYti1JEs1Dep4nhNjtdkVRhGE4PwbaruF53nw+n81mdOC27/t09O96vTZN03Xdfr8/m82KovB9f7PZQPhms6HzvSFnPp/fcOTwwxG4RyAz8B70Xpd3u90KIeg9RsFBEKiqSv296XQaRdHrdPoqybZt6Lbf73e73Xw+F0IkSQI3NovFYrlcIgFi4FlYCAESWpbV6/WKosCu/9VqZZqmEAKbj7E7JE3TP4ddfkVuNhshBEnGnskvdd7sPzPwDSoML27lY+/7PnGPLiRJqhjDBz5eHMee563Xa13XhRCj0QjCwUDSodfrwVKBPP4xjEYj2CshhK7rn11H+lhYljUcDrMsI4KVybZYLGRZzrKsHCmEsCwLpaMUssAPfN7XiGIGvgbnu0oZjUb0wkFQnucYcRFCGIax3W4nkwk4UO8+YS/FtRrEcbzf7z/Ny8fHB1na0WhkGIZt277vE4XIBuKjYBgG+DCbzYQQv45B13U8wnq9pmFe27aLogAD0zTF/mPoKYRAK7TCQAihoaaiKLAvBBS99hm7kJ4Z2IVa+EYHz/Mqlo0MoCzLyEzbI4QQaLORUMdxGncMhmE4nU5J8n6/933ftm3DMIgkqqpaluU4zn6/p5QkGRdgIAoNw5AMFFqVSOM4ThRFoHSWZUmSaJo2Ho+JgUVRyLKs63pRFGAjWqEQkmVZnuckGd8dSNZ1HXIqWr3LT2bgu9TUX3qSo7SybaQ5QBquQB408MqNWM/zyKxNp1Oyn0IITdNWqxVaiRc27dDNS5IExZFJjONYCDEYDEajkRDicDigOT0cDtGOxXzDfD7HQA6GcBRFgRccGHNETiYTPB1oiQ/Q+Bjq3eO/kOr8D2Zg56uoSUFN09DmLA9CGIaByPpM2nw+tywryzLYQ+qzoZW43W593ycKNRV4Lm6323meR+3APM+9Y4A1wzUJT9MUrWIMlhZFEQSB53lg+36/d113dww07BSGoeu6+/0eTnGgSpIkkEOSz6nY4XvMwA5XzrE91jinR+bOdV16AHIqUzaMuIuhVNu2MRNgmqau64qi9Pv9emISyBcvQIAZ+AKQby8CbbB6frTThBCNDKwPxqRpWu/FYWVMpdNYL4tjnooAM/Cp8N4rHHPTdSnUjLyQgUmSuK57Yb+uXhzHPA8BZuDzsH2AZM/zGld49ft9kLCRgRiuKBcPH9ts7sqYdOSaGdiRimhWA4P7NMhBichhIa3nKooCS0mEEPXFaJ7n9ft9ys4X3UGAGdidumjQJMsyWZZp7ptSYOVXhWw0qVA2jMiyWCym0yll54vuIMAM7E5dXKEJTSpMJhNkw6QfmqaV4VPMZddpeUV5nPRpCDADnwbtMwVjsht8W6/XnwtWsAQM83uVkvM832w23AmswNKRn8zAjlTE1WpU1kPT6ChNZF8tkTO0gQAzsA3UrywTaz7rbl3IWT3o1+/3K+vRriyHk7eAADOwBdBvKBInltVXYMVx7Pu+67pBENTbma7rlgdLbyiXszwbAWbgsxF+mHzDMCRJqlvCUwVgtIYHYE7h05F4ZmBHKuIiNSzLwv6d86kPhwPOGCzvhzifhe+2hQAzsC3kbyy3vLJsv99HUYS9c+Um6HK5LG/8u7EkzvYSBJiBL4H5CYXQhIQkSdgq8YRCWOTTEWAGPh3ipxYQx3EQBL7v03a7pxbHwh+OADPw4ZCyQEbgCgSYgVeAxUkZgYcjwAx8OKQskBG4AoH/ASwz4RjRNRAUAAAAAElFTkSuQmCC)"
      ],
      "metadata": {
        "id": "cxIbzkiXahDH"
      }
    },
    {
      "cell_type": "code",
      "source": [
        "print(7%3)"
      ],
      "metadata": {
        "colab": {
          "base_uri": "https://localhost:8080/"
        },
        "id": "kb3JfUwSanOk",
        "outputId": "4bb98b97-f556-48cd-cad8-fcdd766a958c"
      },
      "execution_count": 3,
      "outputs": [
        {
          "output_type": "stream",
          "name": "stdout",
          "text": [
            "1\n"
          ]
        }
      ]
    },
    {
      "cell_type": "code",
      "source": [
        "#       _2.333...__\n",
        "#    3 / 7\n",
        "#       -6\n",
        "#residuo_______\n",
        "#        1"
      ],
      "metadata": {
        "id": "xqj4nh4gbtHy"
      },
      "execution_count": 4,
      "outputs": []
    },
    {
      "cell_type": "code",
      "source": [
        "#O con variables:"
      ],
      "metadata": {
        "id": "YwSGjXN8b3ja"
      },
      "execution_count": 1,
      "outputs": []
    },
    {
      "cell_type": "code",
      "source": [
        "dividendo = 7\n",
        "divisor = 3\n",
        "dividendo % divisor"
      ],
      "metadata": {
        "colab": {
          "base_uri": "https://localhost:8080/"
        },
        "id": "X21Bi0dxnlvz",
        "outputId": "b808a7f3-064a-4cda-ffd4-b98f0c042742"
      },
      "execution_count": 2,
      "outputs": [
        {
          "output_type": "execute_result",
          "data": {
            "text/plain": [
              "1"
            ]
          },
          "metadata": {},
          "execution_count": 2
        }
      ]
    },
    {
      "cell_type": "markdown",
      "source": [
        "## División entera (//)\n",
        "\n",
        "Esta operación devuelve el resultado de la división entera entre dos números, es decir, solo devuelve la parte entera de una división. Por ejemplo, sabemos que **la división exacta de 7 por 3 (7/3) resulta en el valor 2.333333**.... Si esta fuera una división entera, **el resultado sería simplemente 2**. La sintaxis consiste en colocar el valor del numerador, el operador // y luego el denominador, como se muestra a continuación:\n",
        "\n",
        "![image.png](data:image/png;base64,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)"
      ],
      "metadata": {
        "id": "Hk4QCWIFn6dU"
      }
    },
    {
      "cell_type": "code",
      "source": [
        "7 // 3"
      ],
      "metadata": {
        "colab": {
          "base_uri": "https://localhost:8080/"
        },
        "id": "F-RsKK5_oPwU",
        "outputId": "3d2c33f2-f2d6-4d89-ed73-f8f1a29ebb57"
      },
      "execution_count": 23,
      "outputs": [
        {
          "output_type": "execute_result",
          "data": {
            "text/plain": [
              "2"
            ]
          },
          "metadata": {},
          "execution_count": 23
        }
      ]
    },
    {
      "cell_type": "code",
      "source": [
        "# O bien en código:"
      ],
      "metadata": {
        "id": "n-hRnmlSoagu"
      },
      "execution_count": 24,
      "outputs": []
    },
    {
      "cell_type": "code",
      "source": [
        "numerador = 7\n",
        "denominador = 3\n",
        "numerador // denominador"
      ],
      "metadata": {
        "colab": {
          "base_uri": "https://localhost:8080/"
        },
        "id": "F9g28aLwogfM",
        "outputId": "77a661d4-a934-4bb7-b547-b25fd6f889f1"
      },
      "execution_count": 25,
      "outputs": [
        {
          "output_type": "execute_result",
          "data": {
            "text/plain": [
              "2"
            ]
          },
          "metadata": {},
          "execution_count": 25
        }
      ]
    },
    {
      "cell_type": "code",
      "source": [
        "# EJEMPLOS DE USO % Y // según Luri de Alura:"
      ],
      "metadata": {
        "id": "DyWtpPa9oxr3"
      },
      "execution_count": 26,
      "outputs": []
    },
    {
      "cell_type": "markdown",
      "source": [
        "#* 1.- Uso del módulo %:\n",
        "\n",
        "##Determinar si un número es par o impar: Puedes usar el módulo para verificar si un número es par. Si el residuo de dividir el número entre 2 es 0, entonces es par; de lo contrario, es impar.\n",
        "\n",
        "- - - -\n",
        "numero = 10\n",
        "if numero % 2 == 0:\n",
        "    print(\"Es par\")\n",
        "else:\n",
        "    print(\"Es impar\")\n",
        "\n",
        "\n",
        "- - - - -\n",
        "\n",
        "##Encontrar el residuo de una división: Si necesitas saber cuánto queda después de dividir dos números, puedes usar el módulo. Por ejemplo, si tienes 15 y quieres saber cuánto queda al dividirlo entre 4:\n",
        "- - -\n",
        "residuo = 15 % 4  # Salida: 3\n",
        "- - -\n",
        "\n",
        "#* 2.- Uso de la división entera //:\n",
        "\n",
        "##Calcular cuántas veces cabe un número en otro: Si quieres saber cuántas veces un número cabe en otro sin considerar los decimales, puedes usar la división entera. Por ejemplo, si tienes 20 y quieres saber cuántas veces cabe 3:\n",
        "- - -\n",
        "resultado = 20 // 3  # Salida: 6\n",
        "- - -\n",
        "##Dividir recursos entre grupos: Si tienes un número total de recursos y quieres distribuirlos equitativamente entre un número de grupos, puedes usar la división entera. Por ejemplo, si tienes 50 galletas y 4 niños:\n",
        "- - -\n",
        "galletas_por_nino = 50 // 4  # Salida: 12\n",
        "- - -\n"
      ],
      "metadata": {
        "id": "spLMcoZno_hE"
      }
    },
    {
      "cell_type": "code",
      "source": [
        "# reGRESANDO A LOS INTERMEDIOS:"
      ],
      "metadata": {
        "id": "Ls0j8y40o5Qu"
      },
      "execution_count": 27,
      "outputs": []
    },
    {
      "cell_type": "markdown",
      "source": [
        "## Python es un lenguaje de programación caracterizado por el uso del estándar **Unicode** de caracteres. Este estándar permite que desarrolladores de todo el mundo trabajen con textos y caracteres en diferentes idiomas de manera muy sencilla, sin preocuparse por problemas de compatibilidad.\n",
        "\n",
        "Esto fue posible gracias al desarrollo de la tabla Unicode, una tabla de codificación de caracteres que asocia códigos numéricos con caracteres específicos. Su objetivo era incluir caracteres de todos los idiomas y sistemas de escritura existentes en el mundo. Hasta la versión 15.0, el estándar ya agrupa más de 140,000 caracteres, que incluyen letras, números, símbolos y emojis. Puedes ver las estadísticas de cada versión y la cantidad de caracteres por versión en este enlace.\n",
        "( https://www.unicode.org/versions/stats/ )\n",
        "\n",
        "Además, Unicode surgió como una alternativa a otras tablas de caracteres, como ASCII, que solo admite caracteres del alfabeto inglés y algunos símbolos. Por lo tanto, es muy importante ya que permite la representación de caracteres de diferentes idiomas (como la \"ç\" en portugués, la \"ñ\" en español o la \"П\" en ruso) y scripts de manera consistente e independiente del dispositivo o plataforma, lo que es fundamental para la globalización y la representación precisa de textos en diferentes idiomas."
      ],
      "metadata": {
        "id": "E_h6jbBN5S0s"
      }
    },
    {
      "cell_type": "code",
      "source": [
        "chr(64)"
      ],
      "metadata": {
        "colab": {
          "base_uri": "https://localhost:8080/",
          "height": 36
        },
        "id": "jNF8HWqF5MXE",
        "outputId": "12878099-6e50-4735-904d-b5abd9c0ca5b"
      },
      "execution_count": 31,
      "outputs": [
        {
          "output_type": "execute_result",
          "data": {
            "text/plain": [
              "'@'"
            ],
            "application/vnd.google.colaboratory.intrinsic+json": {
              "type": "string"
            }
          },
          "metadata": {},
          "execution_count": 31
        }
      ]
    },
    {
      "cell_type": "markdown",
      "source": [
        "Se pueden probar y observar varias combinaciones de números en las salidas. Siéntete libre de probar varias combinaciones e incluso crear frases.\n",
        "\n",
        "También es posible concatenar cadenas con el operador \"+\". Sabiendo esto, si unimos varios caracteres, podemos formar una palabra. Por ejemplo, vamos a construir la palabra \"Hola\" ('H' + 'o' + 'l' + 'a'):"
      ],
      "metadata": {
        "id": "QVTX9A9Q50OH"
      }
    },
    {
      "cell_type": "code",
      "source": [
        "chr(72) + chr(111) +  chr(108) + chr(97)"
      ],
      "metadata": {
        "colab": {
          "base_uri": "https://localhost:8080/",
          "height": 36
        },
        "id": "7InEqHXc511Q",
        "outputId": "6cea9524-f3e9-44b3-9daf-260c76a7853b"
      },
      "execution_count": 30,
      "outputs": [
        {
          "output_type": "execute_result",
          "data": {
            "text/plain": [
              "'Hola'"
            ],
            "application/vnd.google.colaboratory.intrinsic+json": {
              "type": "string"
            }
          },
          "metadata": {},
          "execution_count": 30
        }
      ]
    },
    {
      "cell_type": "markdown",
      "source": [
        "# Para saber más: diversos formatos de print()\n",
        "\n",
        "Podemos visualizar el resultado de variables dentro de cadenas de texto, así como imprimir el texto final con un print. Durante la lección, aprendimos a utilizar la f-string (formateo de cadena), en la que colocamos una f antes de crear la cadena y las variables se colocan entre llaves {}. Ejemplo:"
      ],
      "metadata": {
        "id": "TkzAK_5W6mm5"
      }
    },
    {
      "cell_type": "code",
      "source": [
        "nombre = \"Ana María\"\n",
        "edad = 17\n",
        "print(f\"El nombre de la alumna es {nombre} y su edad es {edad} años.\")"
      ],
      "metadata": {
        "colab": {
          "base_uri": "https://localhost:8080/"
        },
        "id": "wa-N7vXM6OrG",
        "outputId": "130c9d39-e574-4c74-ed40-525a0acbf453"
      },
      "execution_count": 32,
      "outputs": [
        {
          "output_type": "stream",
          "name": "stdout",
          "text": [
            "El nombre de la alumna es Ana María y su edad es 17 años.\n"
          ]
        }
      ]
    },
    {
      "cell_type": "markdown",
      "source": [
        "Pero existen **otros métodos** de formateo, como el uso del operador de formateo de cadena o la función **.format()**\n",
        "\n",
        "Operador de Formateo:\n",
        "\n",
        "Este operador de formateo permite la inserción de variables en puntos específicos en la cadena de texto utilizando el operador %. Este operador funciona como un marcador, indicando dónde se expondrá el valor de la variable en la cadena.\n",
        "\n",
        "**El % debe ir acompañado de una palabra clave** para cada tipo de variable que se desee agregar. De acuerdo con la tabla siguiente:\n",
        "![image.png](data:image/png;base64,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)\n",
        "\n",
        "**De esta manera, para insertar una variable, puedes agregar el operador en la cadena en el punto deseado. Luego del final de la cadena, agrega nuevamente el %, especificando la variable entre paréntesis.** Podemos ver esta estructura en el ejemplo siguiente:"
      ],
      "metadata": {
        "id": "RUWT_8CO6vZP"
      }
    },
    {
      "cell_type": "code",
      "source": [
        "nombre_alumno = 'Penélope Camacho'\n",
        "print('Nombre del alumno: %s' %(nombre_alumno))"
      ],
      "metadata": {
        "colab": {
          "base_uri": "https://localhost:8080/"
        },
        "id": "A5Xezb8Y7oRD",
        "outputId": "08c5f9b4-407b-4376-8874-9bd7d7f864cc"
      },
      "execution_count": 33,
      "outputs": [
        {
          "output_type": "stream",
          "name": "stdout",
          "text": [
            "Nombre del alumno: Penélope Camacho\n"
          ]
        }
      ]
    },
    {
      "cell_type": "markdown",
      "source": [
        "Si tienes más de una variable, debes ordenarlas según su aparición en el texto y separarlas por comas. Por ejemplo:"
      ],
      "metadata": {
        "id": "Qt113a-B794z"
      }
    },
    {
      "cell_type": "code",
      "source": [
        "nombre_alumno = 'Penélope Camacho'\n",
        "edad_alumno = 11\n",
        "media_alumno = 9.95\n",
        "print('Nombre del alumno es %s, tiene %d años y su media es %f.' %(nombre_alumno, edad_alumno, media_alumno))"
      ],
      "metadata": {
        "colab": {
          "base_uri": "https://localhost:8080/"
        },
        "id": "l6aKCfSm7-yf",
        "outputId": "c9697d30-e938-4cfc-8cb8-c3609a149f63"
      },
      "execution_count": 34,
      "outputs": [
        {
          "output_type": "stream",
          "name": "stdout",
          "text": [
            "Nombre del alumno es Penélope Camacho, tiene 11 años y su media es 9.950000.\n"
          ]
        }
      ]
    },
    {
      "cell_type": "markdown",
      "source": [
        "Cuando trabajamos con números de coma flotante (float), podemos determinar la cantidad de decimales después del punto utilizando la sintaxis %.xf, donde x es el número de decimales deseados. Utilizando las mismas variables del ejemplo anterior, el código con %.xf se vería ASÍ:"
      ],
      "metadata": {
        "id": "zt9yCnn88OpW"
      }
    },
    {
      "cell_type": "code",
      "source": [
        "print('Nombre del alumno es %s, tiene %d años y su media es %.2f.' %(nombre_alumno, edad_alumno, media_alumno))"
      ],
      "metadata": {
        "colab": {
          "base_uri": "https://localhost:8080/"
        },
        "id": "GUWKORTn8RHj",
        "outputId": "247c8c0d-cfe7-43c3-c988-1e5caf19cbc8"
      },
      "execution_count": 35,
      "outputs": [
        {
          "output_type": "stream",
          "name": "stdout",
          "text": [
            "Nombre del alumno es Penélope Camacho, tiene 11 años y su media es 9.95.\n"
          ]
        }
      ]
    },
    {
      "cell_type": "markdown",
      "source": [
        "Un detalle importante es que los operadores de formateo de cadena con % no funcionan directamente con valores booleanos. Una forma de manejarlo es convirtiendo el valor booleano en una cadena antes de utilizarlo en el formateo con la función str(). Por ejemplo:"
      ],
      "metadata": {
        "id": "yK7PPmFR8cmT"
      }
    },
    {
      "cell_type": "code",
      "source": [
        "x = True\n",
        "print(\"Valor de x: %s\" % str(x))"
      ],
      "metadata": {
        "colab": {
          "base_uri": "https://localhost:8080/"
        },
        "id": "1haXptXK-Ff4",
        "outputId": "aa4ffac3-972d-40b1-d5ab-4bf578064394"
      },
      "execution_count": 36,
      "outputs": [
        {
          "output_type": "stream",
          "name": "stdout",
          "text": [
            "Valor de x: True\n"
          ]
        }
      ]
    },
    {
      "cell_type": "markdown",
      "source": [
        "#Método .format():\n",
        "\n",
        "También es posible utilizar el método .format() para formatear cadenas. Es más flexible y permite pasar las variables directamente dentro de la cadena, sin necesidad de operadores %. Los marcadores son simplemente {}. Por ejemplo:"
      ],
      "metadata": {
        "id": "HUJHKTQq-GwZ"
      }
    },
    {
      "cell_type": "code",
      "source": [
        "nombre_alumno = 'Penélope Camacho'\n",
        "print('Nombre del alumno: {}'.format(nombre_alumno))"
      ],
      "metadata": {
        "colab": {
          "base_uri": "https://localhost:8080/"
        },
        "id": "aJM-tD11-PxM",
        "outputId": "3b2caf63-209f-43f3-b6e1-6f306fa81f15"
      },
      "execution_count": 37,
      "outputs": [
        {
          "output_type": "stream",
          "name": "stdout",
          "text": [
            "Nombre del alumno: Penélope Camacho\n"
          ]
        }
      ]
    },
    {
      "cell_type": "code",
      "source": [
        "#Del mismo modo que se hace con el operador, puedes usarlo con varias variables:"
      ],
      "metadata": {
        "id": "Nv3cND-y-S_o"
      },
      "execution_count": 38,
      "outputs": []
    },
    {
      "cell_type": "code",
      "source": [
        "nombre_alumno = 'Fabricio Daniel'\n",
        "edad_alumno = 15\n",
        "media_alumno = 9.95\n",
        "print('Nombre del alumno es {}, tiene {} años y su media es {}.' .format(nombre_alumno, edad_alumno, media_alumno))"
      ],
      "metadata": {
        "colab": {
          "base_uri": "https://localhost:8080/"
        },
        "id": "qi-k_UyL-UTW",
        "outputId": "00aba03b-1e7a-49b8-f76a-432f441cf803"
      },
      "execution_count": 39,
      "outputs": [
        {
          "output_type": "stream",
          "name": "stdout",
          "text": [
            "Nombre del alumno es Fabricio Daniel, tiene 15 años y su media es 9.95.\n"
          ]
        }
      ]
    },
    {
      "cell_type": "markdown",
      "source": [
        "Nota que con .format(), no tienes el problema de los decimales de coma flotante. Tampoco tienes este problema con las f-strings.\n",
        "\n",
        "En resumen, cada uno de estos métodos tiene sus ventajas y desventajas. Se recomienda utilizar f-strings, ya que son más legibles y fáciles de usar. Sin embargo, cada desarrollador puede elegir el método que le parezca más apropiado.\n",
        "\n",
        "#Caracteres Especiales:\n",
        "\n",
        "Además de la formateo de inserción de variables en una cadena, también existen caracteres especiales. Se utilizan para representar acciones especiales o caracteres que no se pueden escribir directamente, como el “Enter” y la tabulación. A continuación, presentamos algunos de ellos. Intenta replicar todos los ejemplos y observa el resultado final."
      ],
      "metadata": {
        "id": "-cGB_Twp-ZbH"
      }
    },
    {
      "cell_type": "markdown",
      "source": [
        "\\n es el carácter de nueva línea y se usa para saltar una línea en el texto (similar a la función \"Enter\"). Ejemplo:"
      ],
      "metadata": {
        "id": "o4pMfZHb-fjq"
      }
    },
    {
      "cell_type": "code",
      "source": [
        "print(\"Estudiar es un esfuerzo constante,\\nEs como cultivar una planta,\\nNecesitamos dedicación y paciencia,\\nPara ver madurar el fruto.\")"
      ],
      "metadata": {
        "colab": {
          "base_uri": "https://localhost:8080/"
        },
        "id": "1sCvNSBD-dBD",
        "outputId": "5740110c-227d-4b18-b016-b6aae822da64"
      },
      "execution_count": 40,
      "outputs": [
        {
          "output_type": "stream",
          "name": "stdout",
          "text": [
            "Estudiar es un esfuerzo constante,\n",
            "Es como cultivar una planta,\n",
            "Necesitamos dedicación y paciencia,\n",
            "Para ver madurar el fruto.\n"
          ]
        }
      ]
    },
    {
      "cell_type": "markdown",
      "source": [
        "\\t es el carácter de tabulación y se utiliza para agregar un espacio de tabulación en el texto. Ejemplo:"
      ],
      "metadata": {
        "id": "dj8K75aK-lvl"
      }
    },
    {
      "cell_type": "code",
      "source": [
        "print('Cantidad\\tCalidad\\n5 muestras\\tAlta\\n3 muestras\\tBaja')"
      ],
      "metadata": {
        "colab": {
          "base_uri": "https://localhost:8080/"
        },
        "id": "2R2zMyfr-i9I",
        "outputId": "72afd9ee-5066-4207-ca3a-146bb5494226"
      },
      "execution_count": 41,
      "outputs": [
        {
          "output_type": "stream",
          "name": "stdout",
          "text": [
            "Cantidad\tCalidad\n",
            "5 muestras\tAlta\n",
            "3 muestras\tBaja\n"
          ]
        }
      ]
    },
    {
      "cell_type": "markdown",
      "source": [
        "(dos) \\\\\\ se usa para imprimir una sola barra invertida. Si no se utiliza una doble barra invertida, el código podría generar un error o un resultado inesperado, ya que Python considera \\ como un carácter especial. Usamos esta sintaxis para garantizar que no ocurran errores. Ejemplo:\n",
        "\n"
      ],
      "metadata": {
        "id": "7FmtnARP-wgx"
      }
    },
    {
      "cell_type": "code",
      "source": [
        "print(\"Ruta del archivo: C:\\\\archivos\\\\documento.csv\")"
      ],
      "metadata": {
        "colab": {
          "base_uri": "https://localhost:8080/"
        },
        "id": "btQzXF5F-yQc",
        "outputId": "067fe7f0-1b32-4cb6-c472-91f3e28e5591"
      },
      "execution_count": 42,
      "outputs": [
        {
          "output_type": "stream",
          "name": "stdout",
          "text": [
            "Ruta del archivo: C:\\archivos\\documento.csv\n"
          ]
        }
      ]
    },
    {
      "cell_type": "markdown",
      "source": [
        "# (una) \\\\\" se utiliza para imprimir comillas dobles cuando estamos trabajando con una cadena creada con comillas dobles \" en el interior. Sin embargo, esto no es necesario si la cadena se crea con comillas simples '. Ejemplo:*italicized text*"
      ],
      "metadata": {
        "id": "6bnc7S82-85u"
      }
    },
    {
      "cell_type": "code",
      "source": [
        "print(\"Una vez oí: \\\"Los frutos del conocimiento son los más dulces y duraderos de todos.\\\"\")"
      ],
      "metadata": {
        "colab": {
          "base_uri": "https://localhost:8080/"
        },
        "id": "yZGQuLUe--Ib",
        "outputId": "1da1c654-7ca4-41b3-b4eb-43d58dc068a7"
      },
      "execution_count": 43,
      "outputs": [
        {
          "output_type": "stream",
          "name": "stdout",
          "text": [
            "Una vez oí: \"Los frutos del conocimiento son los más dulces y duraderos de todos.\"\n"
          ]
        }
      ]
    },
    {
      "cell_type": "markdown",
      "source": [
        "(una) \\\\' se utiliza para imprimir comillas simples cuando estamos trabajando con una cadena creada con comillas simples '. Si la cadena se crea con comillas dobles \", esto no es necesario. Ejemplo:"
      ],
      "metadata": {
        "id": "_X3t860D_dSF"
      }
    },
    {
      "cell_type": "code",
      "source": [
        "print('Mi profesora una vez dijo: \\'Estudiar es la clave del éxito.\\'')"
      ],
      "metadata": {
        "colab": {
          "base_uri": "https://localhost:8080/"
        },
        "id": "Dd-OnoeN_hb1",
        "outputId": "9b6b0ab3-5760-4b32-e7cf-abf298378a54"
      },
      "execution_count": 44,
      "outputs": [
        {
          "output_type": "stream",
          "name": "stdout",
          "text": [
            "Mi profesora una vez dijo: 'Estudiar es la clave del éxito.'\n"
          ]
        }
      ]
    },
    {
      "cell_type": "markdown",
      "source": [
        "- - -\n",
        "##Recopilación y muestra de datos\n",
        "\n",
        "1 - Crea un programa que solicite al usuario que escriba su nombre y luego imprima \"Hola, [nombre].\"\n",
        "\n",
        "2 - Crea un programa que solicite al usuario que escriba su nombre y edad, y luego imprima \"Hola, [nombre], tienes [edad] años.\"\n",
        "\n",
        "3 - Crea un programa que solicite al usuario que escriba su nombre, edad y altura en metros, y luego imprima \"Hola, [nombre], tienes [edad] años y mides [altura] metros.\"\n",
        "\n",
        "##Calculadora con operadores\n",
        "\n",
        "4 - Crea un programa que solicite dos valores numéricos al usuario y luego imprima la suma de ambos valores.\n",
        "\n",
        "5 - Crea un programa que solicite tres valores numéricos al usuario y luego imprima la suma de los tres valores.\n",
        "\n",
        "6 - Crea un programa que solicite dos valores numéricos al usuario y luego imprima la resta del primero menos el segundo valor.\n",
        "\n",
        "7 - Crea un programa que solicite dos valores numéricos al usuario y luego imprima la multiplicación de los dos valores.\n",
        "\n",
        "8 - Crea un programa que solicite dos valores numéricos, un numerador y un denominador, y realice la división entre los dos valores. Asegúrate de que el valor del denominador no sea igual a 0.\n",
        "\n",
        "9 - Crea un programa que solicite dos valores numéricos, un operador y una potencia, y realice la exponenciación entre estos dos valores.\n",
        "\n",
        "10 - Crea un programa que solicite dos valores numéricos, un numerador y un denominador, y realice la división entera entre los dos valores. Asegúrate de que el valor del denominador no sea igual a 0.\n",
        "\n",
        "11 - Crea un programa que solicite dos valores numéricos, un numerador y un denominador, y devuelva el resto de la división entre los dos valores. Asegúrate de que el valor del denominador no sea igual a 0.\n",
        "\n",
        "12 - Crea un código que solicite las 3 notas de un estudiante e imprima el promedio de las notas.\n",
        "\n",
        "13 - Crea un código que calcule e imprima el promedio ponderado de los números 5, 12, 20 y 15 con pesos respectivamente iguales a 1, 2, 3 y 4.\n",
        "\n",
        "##Editando textos\n",
        "\n",
        "14 - Crea una variable llamada \"frase\" y asígnale una cadena de texto de tu elección. Luego, imprime la frase en pantalla.\n",
        "\n",
        "15 - Crea un código que solicite una frase y luego imprima la frase en pantalla.\n",
        "\n",
        "16 - Crea un código que solicite una frase al usuario y luego imprima la misma frase ingresada pero en mayúsculas.\n",
        "\n",
        "17 - Crea un código que solicite una frase al usuario y luego imprima la misma frase ingresada pero en minúsculas.\n",
        "\n",
        "18 - Crea una variable llamada \"frase\" y asígnale una cadena de texto de tu elección. Luego, imprime la frase sin espacios en blanco al principio y al final.\n",
        "\n",
        "19 - Crea un código que solicite una frase al usuario y luego imprima la misma frase sin espacios en blanco al principio y al final.\n",
        "\n",
        "20 - Crea un código que solicite una frase al usuario y luego imprima la misma frase sin espacios en blanco al principio y al final, además de convertirla a minúsculas.\n",
        "\n",
        "21 - Crea un código que solicite una frase al usuario y luego imprima la misma frase con todas las vocales \"e\" reemplazadas por la letra \"f\".\n",
        "\n",
        "22 - Crea un código que solicite una frase al usuario y luego imprima la misma frase con todas las vocales \"a\" reemplazadas por el carácter \"@\".\n",
        "\n",
        "23 - Crea un código que solicite una frase al usuario y luego imprima la misma frase con todas las consonantes \"s\" reemplazadas por el carácter \"$\".##"
      ],
      "metadata": {
        "id": "aERGzOlY_3Kd"
      }
    },
    {
      "cell_type": "code",
      "source": [
        "# 1 RECOPILACIÓN Y DATOS:\n",
        "nombre = input(\"Escribe tu nombre: \")"
      ],
      "metadata": {
        "colab": {
          "base_uri": "https://localhost:8080/"
        },
        "id": "99ZrkVoD_6JH",
        "outputId": "1433054b-eefc-4e2a-d3a7-5c99865146bc"
      },
      "execution_count": 56,
      "outputs": [
        {
          "name": "stdout",
          "output_type": "stream",
          "text": [
            "Escribe tu nombre: Mich\n"
          ]
        }
      ]
    },
    {
      "cell_type": "code",
      "source": [
        "print(f\"Hola {nombre}\")"
      ],
      "metadata": {
        "colab": {
          "base_uri": "https://localhost:8080/"
        },
        "id": "66diZbK-D4bJ",
        "outputId": "b7456ae5-5024-4083-8b4b-3d46aee30cbd"
      },
      "execution_count": 48,
      "outputs": [
        {
          "output_type": "stream",
          "name": "stdout",
          "text": [
            "Hola Mich\n"
          ]
        }
      ]
    },
    {
      "cell_type": "code",
      "source": [
        "# 2\n",
        "name = input(\"Escribe tu nombre: \")\n",
        "age = int(input(\"Dame tu edad: \"))"
      ],
      "metadata": {
        "colab": {
          "base_uri": "https://localhost:8080/"
        },
        "id": "gU3uvXVrAGIN",
        "outputId": "d900d65b-df71-4f75-e390-41a2b50aa370"
      },
      "execution_count": 53,
      "outputs": [
        {
          "name": "stdout",
          "output_type": "stream",
          "text": [
            "Escribe tu nombre: Mich\n",
            "Dame tu edad: 28\n"
          ]
        }
      ]
    },
    {
      "cell_type": "code",
      "source": [
        "print(f\"Hola, {name}, tienes {age} años.\")"
      ],
      "metadata": {
        "colab": {
          "base_uri": "https://localhost:8080/"
        },
        "id": "E46F3vpnEWhY",
        "outputId": "aec6ea70-27db-4bea-b31d-0c994f556422"
      },
      "execution_count": 50,
      "outputs": [
        {
          "output_type": "stream",
          "name": "stdout",
          "text": [
            "Hola, Michi, tienes 29 años.\n"
          ]
        }
      ]
    },
    {
      "cell_type": "code",
      "source": [
        "# 3\n",
        "name = input(\"Escribe tu nombre: \")\n",
        "age = int(input(\"Dame tu edad: \"))\n",
        "height = float(input(\"Cuál es tu estatura? \"))"
      ],
      "metadata": {
        "colab": {
          "base_uri": "https://localhost:8080/"
        },
        "id": "LAu1MF9UFsbi",
        "outputId": "d47e08f0-82af-4340-fb5f-5fdf164d079e"
      },
      "execution_count": 52,
      "outputs": [
        {
          "name": "stdout",
          "output_type": "stream",
          "text": [
            "Escribe tu nombre: Michi\n",
            "Dame tu edad: 29\n",
            "Cuál es tu estatura? 1.59\n"
          ]
        }
      ]
    },
    {
      "cell_type": "code",
      "source": [
        "print(f\"Hola {name}, tienes {age} años, y mides {height}\")"
      ],
      "metadata": {
        "colab": {
          "base_uri": "https://localhost:8080/"
        },
        "id": "uvDiWgVaGkPU",
        "outputId": "fce59d39-5c5a-4129-89a8-241dfa9addee"
      },
      "execution_count": 54,
      "outputs": [
        {
          "output_type": "stream",
          "name": "stdout",
          "text": [
            "Hola Mich, tienes 28 años, y mides 1.59\n"
          ]
        }
      ]
    },
    {
      "cell_type": "code",
      "source": [
        "# 4 - CALCULADORA\n",
        "print(\"sumemos números: \")\n",
        "num1= int(input(\"Dame un número del 1 al 10: \"))\n",
        "num2= int(input(\"Dame otro número del 1 al 10: \"))\n",
        "print(\"la suma de los valores es: \", num1 + num2)"
      ],
      "metadata": {
        "colab": {
          "base_uri": "https://localhost:8080/"
        },
        "id": "2u6jPdJ0Gkaa",
        "outputId": "a4c327c0-1321-4943-ab7e-85c538781202"
      },
      "execution_count": 60,
      "outputs": [
        {
          "output_type": "stream",
          "name": "stdout",
          "text": [
            "sumemos números: \n",
            "Dame un número del 1 al 10: 6\n",
            "Dame otro número del 1 al 10: 6\n",
            "la suma de los valores es:  12\n"
          ]
        }
      ]
    },
    {
      "cell_type": "code",
      "source": [
        "# 5\n",
        "print(\"sumemos números: \")\n",
        "num1= int(input(\"Dame un número del 1 al 10: \"))\n",
        "num2= int(input(\"Dame otro número del 1 al 10: \"))\n",
        "num3= int(input(\"Dame otro número del 1 al 10: \"))\n",
        "\n",
        "print(\"la suma de los valores es: \", num1 + num2 + num3)"
      ],
      "metadata": {
        "colab": {
          "base_uri": "https://localhost:8080/"
        },
        "id": "HAA0BXgkGkkg",
        "outputId": "6283f153-148d-437a-fdce-4fffd7015edb"
      },
      "execution_count": 64,
      "outputs": [
        {
          "output_type": "stream",
          "name": "stdout",
          "text": [
            "sumemos números: \n",
            "Dame un número del 1 al 10: 1\n",
            "Dame otro número del 1 al 10: 2\n",
            "Dame otro número del 1 al 10: 3\n",
            "la suma de los valores es:  6\n"
          ]
        }
      ]
    },
    {
      "cell_type": "code",
      "source": [
        "# 6 - CALCULADORA\n",
        "print(\"restemos números: \")\n",
        "num1= int(input(\"Dame un número del 1 al 10: \"))\n",
        "num2= int(input(\"Dame otro número del 1 al 10: \"))\n",
        "print(\"la resta de los valores es: \", num1 - num2)"
      ],
      "metadata": {
        "colab": {
          "base_uri": "https://localhost:8080/"
        },
        "id": "DylFitUFGktj",
        "outputId": "01ba605f-acf0-4aca-b999-7bdfb36a3f84"
      },
      "execution_count": 65,
      "outputs": [
        {
          "output_type": "stream",
          "name": "stdout",
          "text": [
            "restemos números: \n",
            "Dame un número del 1 al 10: 10\n",
            "Dame otro número del 1 al 10: 2\n",
            "la resta de los valores es:  8\n"
          ]
        }
      ]
    },
    {
      "cell_type": "code",
      "source": [
        "# 7 - CALCULADORA\n",
        "print(\"multipliquemos números: \")\n",
        "num1= int(input(\"Dame un número del 1 al 10: \"))\n",
        "num2= int(input(\"Dame otro número del 1 al 10: \"))\n",
        "print(\"El resultado de los valores es: \", num1 * num2)"
      ],
      "metadata": {
        "colab": {
          "base_uri": "https://localhost:8080/"
        },
        "id": "spjVKq7CGk3S",
        "outputId": "32ef3112-3e6b-4dd2-9b84-ee8a98c6993a"
      },
      "execution_count": 67,
      "outputs": [
        {
          "output_type": "stream",
          "name": "stdout",
          "text": [
            "multipliquemos números: \n",
            "Dame un número del 1 al 10: 4\n",
            "Dame otro número del 1 al 10: 2\n",
            "El resultado de los valores es:  8\n"
          ]
        }
      ]
    },
    {
      "cell_type": "code",
      "source": [
        "# 8 - CALCULADORA\n",
        "print(\" Dividamos números y veamos su 'sobrante': \")\n",
        "dividendo= int(input(\"Dame un número del 1 al 10: \"))\n",
        "divisor= int(input(\"Dame otro número del 1 al 10: \"))\n",
        "print(\"El resultado de los valores es: \", dividendo % divisor)"
      ],
      "metadata": {
        "colab": {
          "base_uri": "https://localhost:8080/"
        },
        "id": "c5XRkHcQGlBu",
        "outputId": "e5b32e5f-e31c-4131-ad83-bccd0ea73ecc"
      },
      "execution_count": 72,
      "outputs": [
        {
          "output_type": "stream",
          "name": "stdout",
          "text": [
            " Dividamos números y veamos su 'sobrante': \n",
            "Dame un número del 1 al 10: 11\n",
            "Dame otro número del 1 al 10: 2\n",
            "El resultado de los valores es:  1\n"
          ]
        }
      ]
    },
    {
      "cell_type": "code",
      "source": [
        "# 9 - CALCULADORA\n",
        "print(\" ¿Quieres conocer su exponente? \")\n",
        "operador= int(input(\"Dame un número del 1 al 10: \"))\n",
        "potencia= int(input(\"Dame otro número del 1 al 10: \"))\n",
        "print(\"El resultado de los valores es: \", operador ** potencia)"
      ],
      "metadata": {
        "colab": {
          "base_uri": "https://localhost:8080/"
        },
        "id": "oqSdTYJSGlL2",
        "outputId": "fe175977-67ff-405c-e0ad-a0bf230bc711"
      },
      "execution_count": 74,
      "outputs": [
        {
          "output_type": "stream",
          "name": "stdout",
          "text": [
            " ¿Quieres conocer su exponente? \n",
            "Dame un número del 1 al 10: 2\n",
            "Dame otro número del 1 al 10: 2\n",
            "El resultado de los valores es:  4\n"
          ]
        }
      ]
    },
    {
      "cell_type": "code",
      "source": [
        "# 11 - CALCULADORA\n",
        "print(\" Dividamos números \")\n",
        "divisor = int(input(\"Dame otro número del 1 al 10: \"))\n",
        "dividendo = int(input(\"Dame un número del 1 al 10: \"))\n",
        "\n",
        "if dividendo == 0:\n",
        "    print(\"Err0r, vuelve a empezar y dame OTRO número más grande.\")\n",
        "print(\"El resultado de los valores es: \", dividendo % divisor)"
      ],
      "metadata": {
        "colab": {
          "base_uri": "https://localhost:8080/"
        },
        "id": "ASFTBpHFGlU2",
        "outputId": "1cc36c1b-b08e-422e-9ad0-d31ac9d5d6e0"
      },
      "execution_count": 82,
      "outputs": [
        {
          "output_type": "stream",
          "name": "stdout",
          "text": [
            " Dividamos números \n",
            "Dame otro número del 1 al 10: 2\n",
            "Dame un número del 1 al 10: 10\n",
            "El resultado de los valores es:  0\n"
          ]
        }
      ]
    },
    {
      "cell_type": "code",
      "source": [
        "#12\n",
        "print(\"Sacando promedio: \")\n",
        "nota1= float(input(\"Dame una calificación del 1 al 10: \"))\n",
        "nota2= float(input(\"Dame otra calificación del 1 al 10: \"))\n",
        "nota3= float(input(\"Dame otra calificación del 1 al 10: \"))\n",
        "\n",
        "print(f'Media {(nota1+nota2+nota3)/3}')"
      ],
      "metadata": {
        "colab": {
          "base_uri": "https://localhost:8080/"
        },
        "id": "IfEN7iM7Glcz",
        "outputId": "7969124a-de5f-4682-96a6-ca2ad7f55d2b"
      },
      "execution_count": 85,
      "outputs": [
        {
          "output_type": "stream",
          "name": "stdout",
          "text": [
            "Sacando promedio: \n",
            "Dame una calificación del 1 al 10: 8\n",
            "Dame otra calificación del 1 al 10: 9\n",
            "Dame otra calificación del 1 al 10: 10\n",
            "Media 9.0\n"
          ]
        }
      ]
    },
    {
      "cell_type": "code",
      "source": [
        "#14 - EDITANDO TEXTOS\n",
        "frase = \"A la grande le puse Cuca\"\n",
        "print(frase)"
      ],
      "metadata": {
        "colab": {
          "base_uri": "https://localhost:8080/"
        },
        "id": "w-ob6UulGlk5",
        "outputId": "8fb49ecc-5884-46e5-f7df-bd04b4d53fb9"
      },
      "execution_count": 86,
      "outputs": [
        {
          "output_type": "stream",
          "name": "stdout",
          "text": [
            "A la grande le puse Cuca\n"
          ]
        }
      ]
    },
    {
      "cell_type": "code",
      "source": [
        "#15 - EDITANDO TEXTOS\n",
        "frase = input(\"Dame una frase: \")\n",
        "print(frase)"
      ],
      "metadata": {
        "colab": {
          "base_uri": "https://localhost:8080/"
        },
        "id": "LuhiP7GZbALr",
        "outputId": "9bc50ce0-db57-4169-a4df-85bb132d903a"
      },
      "execution_count": 87,
      "outputs": [
        {
          "output_type": "stream",
          "name": "stdout",
          "text": [
            "Dame una frase: Lalo Landa\n",
            "Lalo Landa\n"
          ]
        }
      ]
    },
    {
      "cell_type": "code",
      "source": [
        "#16 - EDITANDO TEXTOS\n",
        "frase = input(\"Dame una frase: \")\n",
        "print(frase.upper())"
      ],
      "metadata": {
        "colab": {
          "base_uri": "https://localhost:8080/"
        },
        "id": "HDxakLaxbAXL",
        "outputId": "58af8730-64ab-4655-9a3b-5c72af7a3329"
      },
      "execution_count": 89,
      "outputs": [
        {
          "output_type": "stream",
          "name": "stdout",
          "text": [
            "Dame una frase: Tomaco\n",
            "TOMACO\n"
          ]
        }
      ]
    },
    {
      "cell_type": "code",
      "source": [
        "#17 - EDITANDO TEXTOS\n",
        "frase = input(\"Dame una frase: \")\n",
        "print(frase.lower())"
      ],
      "metadata": {
        "colab": {
          "base_uri": "https://localhost:8080/"
        },
        "id": "hlpmsy99bAiY",
        "outputId": "b9d333d1-99fc-4f20-ba3a-6c23511182b2"
      },
      "execution_count": 91,
      "outputs": [
        {
          "output_type": "stream",
          "name": "stdout",
          "text": [
            "Dame una frase: perfecTiriJILLO\n",
            "perfectirijillo\n"
          ]
        }
      ]
    },
    {
      "cell_type": "code",
      "source": [
        "#18 - EDITANDO TEXTOS\n",
        "frase = input(\"Dame una frase: \")\n",
        "print(frase.strip())"
      ],
      "metadata": {
        "colab": {
          "base_uri": "https://localhost:8080/"
        },
        "id": "_whHILuTbAtk",
        "outputId": "9d90f4a8-b6cc-4279-a8c8-4cb06e93240a"
      },
      "execution_count": 94,
      "outputs": [
        {
          "output_type": "stream",
          "name": "stdout",
          "text": [
            "Dame una frase: '  mi mamá dice   que soy súper   '   \n",
            "'  mi mamá dice   que soy súper   '\n"
          ]
        }
      ]
    },
    {
      "cell_type": "code",
      "source": [
        "#19 - EDITANDO TEXTOS\n",
        "frase = input(\"Dame una frase: \")\n",
        "print(frase.strip())"
      ],
      "metadata": {
        "colab": {
          "base_uri": "https://localhost:8080/"
        },
        "id": "8OkGIyiIbA6L",
        "outputId": "6353a5a7-dcc1-47bb-84c7-e8bc5fec74bf"
      },
      "execution_count": 95,
      "outputs": [
        {
          "output_type": "stream",
          "name": "stdout",
          "text": [
            "Dame una frase:     que raro, no debí escuchar eso     \n",
            "que raro, no debí escuchar eso\n"
          ]
        }
      ]
    },
    {
      "cell_type": "code",
      "source": [
        "#19 - EDITANDO TEXTOS\n",
        "frase = input(\"Dame una frase: \")\n",
        "print(frase.strip().lower())"
      ],
      "metadata": {
        "colab": {
          "base_uri": "https://localhost:8080/"
        },
        "id": "UoNbtdDxbBGy",
        "outputId": "1bb863a8-4574-481f-851d-fc4b8c586361"
      },
      "execution_count": 96,
      "outputs": [
        {
          "output_type": "stream",
          "name": "stdout",
          "text": [
            "Dame una frase: Atómico!     \n",
            "atómico!\n"
          ]
        }
      ]
    },
    {
      "cell_type": "code",
      "source": [
        "#21 - EDITANDO TEXTOS\n",
        "frase = input(\"Dame una frase: \")\n",
        "print(frase.strip().replace('e', 'f'))"
      ],
      "metadata": {
        "colab": {
          "base_uri": "https://localhost:8080/"
        },
        "id": "i3ySP2-SbBSX",
        "outputId": "47872c03-83ae-4caf-855d-5c4e66cfcbff"
      },
      "execution_count": 97,
      "outputs": [
        {
          "output_type": "stream",
          "name": "stdout",
          "text": [
            "Dame una frase: Eructito hijo, se dice eructito   \n",
            "Eructito hijo, sf dicf fructito\n"
          ]
        }
      ]
    },
    {
      "cell_type": "code",
      "source": [],
      "metadata": {
        "id": "FlZ5r5yzbBeo"
      },
      "execution_count": null,
      "outputs": []
    },
    {
      "cell_type": "code",
      "source": [],
      "metadata": {
        "id": "3Lc_N77rbBrm"
      },
      "execution_count": null,
      "outputs": []
    },
    {
      "cell_type": "code",
      "source": [],
      "metadata": {
        "id": "L9A82dSpbClX"
      },
      "execution_count": null,
      "outputs": []
    },
    {
      "cell_type": "code",
      "source": [],
      "metadata": {
        "id": "940-T7RYbCvb"
      },
      "execution_count": null,
      "outputs": []
    },
    {
      "cell_type": "code",
      "source": [],
      "metadata": {
        "id": "1KErjmXDbC7A"
      },
      "execution_count": null,
      "outputs": []
    },
    {
      "cell_type": "markdown",
      "source": [],
      "metadata": {
        "id": "tAMVJsHpbDWE"
      }
    },
    {
      "cell_type": "code",
      "source": [],
      "metadata": {
        "id": "fR5oJSgnbEIj"
      },
      "execution_count": null,
      "outputs": []
    },
    {
      "cell_type": "code",
      "source": [],
      "metadata": {
        "id": "JOXarTplbETt"
      },
      "execution_count": null,
      "outputs": []
    },
    {
      "cell_type": "code",
      "source": [],
      "metadata": {
        "id": "Igbgte_9bEei"
      },
      "execution_count": null,
      "outputs": []
    },
    {
      "cell_type": "code",
      "source": [],
      "metadata": {
        "id": "nEM-oOF1bEpu"
      },
      "execution_count": null,
      "outputs": []
    },
    {
      "cell_type": "code",
      "source": [],
      "metadata": {
        "id": "IiBsnGx9bE06"
      },
      "execution_count": null,
      "outputs": []
    }
  ]
}